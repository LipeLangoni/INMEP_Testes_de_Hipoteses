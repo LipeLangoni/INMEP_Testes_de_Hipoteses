{
  "cells": [
    {
      "cell_type": "markdown",
      "source": [
        "# Autor: Felipe Langoni Ramos"
      ],
      "metadata": {
        "id": "YKvVSY9T82sK"
      },
      "id": "YKvVSY9T82sK"
    },
    {
      "cell_type": "markdown",
      "metadata": {
        "id": "7d1bdc54"
      },
      "source": [
        "## Análise Exploratória dos dados do INMEP"
      ],
      "id": "7d1bdc54"
    },
    {
      "cell_type": "code",
      "execution_count": null,
      "metadata": {
        "id": "cc2804a8"
      },
      "outputs": [],
      "source": [
        "#import pandas as pd \n",
        "#import seaborn as sn\n",
        "#import matplotlib.pyplot as plt\n",
        "#import numpy as np\n",
        "#import math as mp\n"
      ],
      "id": "cc2804a8"
    },
    {
      "cell_type": "markdown",
      "metadata": {
        "id": "20905d1d"
      },
      "source": [
        "Importando o Dataset"
      ],
      "id": "20905d1d"
    },
    {
      "cell_type": "code",
      "execution_count": null,
      "metadata": {
        "id": "40f09544"
      },
      "outputs": [],
      "source": [
        "#data = \"/content/drive/MyDrive/temperatura_maxima_diaria/dados_83377_D_1980-01-01_2021-12-31.csv\""
      ],
      "id": "40f09544"
    },
    {
      "cell_type": "markdown",
      "metadata": {
        "id": "a4a5ec06"
      },
      "source": [
        "## Transformação de Dados"
      ],
      "id": "a4a5ec06"
    },
    {
      "cell_type": "code",
      "execution_count": null,
      "metadata": {
        "id": "aDkpBywqEseU"
      },
      "outputs": [],
      "source": [
        "#from google.colab import drive\n",
        "#drive.mount('/content/drive')"
      ],
      "id": "aDkpBywqEseU"
    },
    {
      "cell_type": "code",
      "execution_count": null,
      "metadata": {
        "id": "54008d52"
      },
      "outputs": [],
      "source": [
        "#df = pd.read_csv(data, skiprows=11, sep=\";\", names = [\"Data\", \"Temperatura_Maxima\"])\n",
        "#df.head()"
      ],
      "id": "54008d52"
    },
    {
      "cell_type": "code",
      "execution_count": null,
      "metadata": {
        "id": "05a3b283"
      },
      "outputs": [],
      "source": [
        "#df[\"Data\"]"
      ],
      "id": "05a3b283"
    },
    {
      "cell_type": "code",
      "execution_count": null,
      "metadata": {
        "id": "6066915c"
      },
      "outputs": [],
      "source": [
        "#df[[\"Data\", \"Temperatura_Máxima_Diária\"]] = df[\"Data\"].str.split(\"\", 1, expand=True)\n",
        "#df"
      ],
      "id": "6066915c"
    },
    {
      "cell_type": "code",
      "execution_count": null,
      "metadata": {
        "id": "12b096ba"
      },
      "outputs": [],
      "source": [
        "#df2 = df[[\"Data\", \"Temperatura_Máxima_Diária\"]].copy()\n",
        "#df2"
      ],
      "id": "12b096ba"
    },
    {
      "cell_type": "code",
      "execution_count": null,
      "metadata": {
        "id": "29845008"
      },
      "outputs": [],
      "source": [
        "#dfdata = df2[\"Data\"]\n",
        "#display(dfdata)"
      ],
      "id": "29845008"
    },
    {
      "cell_type": "code",
      "execution_count": null,
      "metadata": {
        "id": "d11417d7"
      },
      "outputs": [],
      "source": [
        "#dftemp = df2[\"Temperatura_Máxima_Diária\"]\n",
        "#display(dftemp)"
      ],
      "id": "d11417d7"
    },
    {
      "cell_type": "code",
      "execution_count": null,
      "metadata": {
        "id": "127db1d7"
      },
      "outputs": [],
      "source": [
        "#dfdata.to_csv('dfdata.csv', header=False)"
      ],
      "id": "127db1d7"
    },
    {
      "cell_type": "code",
      "execution_count": null,
      "metadata": {
        "id": "c70feea0"
      },
      "outputs": [],
      "source": [
        "#print(df.count())\n",
        "#print(df[\"Data\"].dtypes)\n",
        "#print(df[\"Temperatura_Máxima_Diária\"].dtypes)"
      ],
      "id": "c70feea0"
    },
    {
      "cell_type": "markdown",
      "metadata": {
        "id": "aa23b32e"
      },
      "source": [
        "#### Medidas Estatísticas"
      ],
      "id": "aa23b32e"
    },
    {
      "cell_type": "code",
      "execution_count": null,
      "metadata": {
        "id": "ac0fa7bb"
      },
      "outputs": [],
      "source": [
        "#df.describe()"
      ],
      "id": "ac0fa7bb"
    },
    {
      "cell_type": "code",
      "execution_count": null,
      "metadata": {
        "id": "5e03e9e4"
      },
      "outputs": [],
      "source": [
        "#df[\"Temperatura_Máxima_Diária\"].describe()"
      ],
      "id": "5e03e9e4"
    },
    {
      "cell_type": "code",
      "execution_count": null,
      "metadata": {
        "id": "12fa45dc"
      },
      "outputs": [],
      "source": [
        "#df2 = df[\"Temperatura_Máxima_Diária\"]\n",
        "#df2 = df2.values\n",
        "#df2 = pd.DataFrame(df2)\n",
        "#df2"
      ],
      "id": "12fa45dc"
    },
    {
      "cell_type": "code",
      "execution_count": null,
      "metadata": {
        "id": "d218bce3"
      },
      "outputs": [],
      "source": [
        "#dfreplace = df2.apply(lambda x: x.str.replace(',','.'))\n",
        "#dfreplace"
      ],
      "id": "d218bce3"
    },
    {
      "cell_type": "code",
      "execution_count": null,
      "metadata": {
        "id": "61c98f7b"
      },
      "outputs": [],
      "source": [
        "#dfreplace = dfreplace.astype(float)\n",
        "#dfreplace"
      ],
      "id": "61c98f7b"
    },
    {
      "cell_type": "code",
      "execution_count": null,
      "metadata": {
        "id": "7c086fbb"
      },
      "outputs": [],
      "source": [
        "#df4 = pd.read_csv(data, skiprows=11)\n",
        "#df4"
      ],
      "id": "7c086fbb"
    },
    {
      "cell_type": "code",
      "execution_count": null,
      "metadata": {
        "id": "c0038cff"
      },
      "outputs": [],
      "source": [
        "#dfdatar = pd.read_csv(\"dfdata.csv\", header=0)\n",
        "#dfdatar"
      ],
      "id": "c0038cff"
    },
    {
      "cell_type": "code",
      "execution_count": null,
      "metadata": {
        "id": "225df030"
      },
      "outputs": [],
      "source": [
        "#dffinal = pd.concat([dfdatar, dfreplace],axis=1)\n",
        "#dffinal"
      ],
      "id": "225df030"
    },
    {
      "cell_type": "code",
      "execution_count": null,
      "metadata": {
        "id": "dcf94eba"
      },
      "outputs": [],
      "source": [
        "#dffinal.to_csv(\"dffinal.csv\", header=True)"
      ],
      "id": "dcf94eba"
    },
    {
      "cell_type": "code",
      "execution_count": null,
      "metadata": {
        "id": "8222e0b6"
      },
      "outputs": [],
      "source": [
        "#df = pd.read_csv(\"dffinal.csv\", header=None)\n",
        "#df"
      ],
      "id": "8222e0b6"
    },
    {
      "cell_type": "code",
      "execution_count": null,
      "metadata": {
        "id": "5aa5952f"
      },
      "outputs": [],
      "source": [
        "#df = dffinal.columns.to_frame().T.append(dffinal, ignore_index=True)\n",
        "#df"
      ],
      "id": "5aa5952f"
    },
    {
      "cell_type": "code",
      "execution_count": null,
      "metadata": {
        "id": "53c12ccb"
      },
      "outputs": [],
      "source": [
        "#df.to_csv(\"dffinall.csv\")"
      ],
      "id": "53c12ccb"
    },
    {
      "cell_type": "code",
      "execution_count": null,
      "metadata": {
        "id": "3531692f"
      },
      "outputs": [],
      "source": [
        "#df = pd.read_csv(\"dffinall.csv\", names = [\"Nan\",\"Data\", \"Unamed\",\"Temperatura\"])\n",
        "#df"
      ],
      "id": "3531692f"
    },
    {
      "cell_type": "code",
      "execution_count": null,
      "metadata": {
        "id": "d1c7256e"
      },
      "outputs": [],
      "source": [
        "#df = df.iloc[1: , :]\n",
        "#df"
      ],
      "id": "d1c7256e"
    },
    {
      "cell_type": "code",
      "execution_count": null,
      "metadata": {
        "id": "96f1844c"
      },
      "outputs": [],
      "source": [
        "#df.Temperatura = df.Temperatura.shift(-1)\n",
        "#df"
      ],
      "id": "96f1844c"
    },
    {
      "cell_type": "code",
      "execution_count": null,
      "metadata": {
        "id": "c24bd224"
      },
      "outputs": [],
      "source": [
        "#new_df = df[[\"Data\", \"Temperatura\"]].copy()\n",
        "#new_df"
      ],
      "id": "c24bd224"
    },
    {
      "cell_type": "code",
      "execution_count": null,
      "metadata": {
        "id": "DRpjBPUkIPD_"
      },
      "outputs": [],
      "source": [
        "# Descartando missing values\n",
        "#new_df = new_df.dropna()\n",
        "#new_df"
      ],
      "id": "DRpjBPUkIPD_"
    },
    {
      "cell_type": "code",
      "execution_count": null,
      "metadata": {
        "id": "rZ8mBRXgHFVt"
      },
      "outputs": [],
      "source": [
        ""
      ],
      "id": "rZ8mBRXgHFVt"
    },
    {
      "cell_type": "code",
      "execution_count": null,
      "metadata": {
        "id": "5674f94b"
      },
      "outputs": [],
      "source": [
        "#new_df.describe()"
      ],
      "id": "5674f94b"
    },
    {
      "cell_type": "code",
      "execution_count": null,
      "metadata": {
        "id": "alYkZR4QHJ3z"
      },
      "outputs": [],
      "source": [
        ""
      ],
      "id": "alYkZR4QHJ3z"
    },
    {
      "cell_type": "code",
      "execution_count": null,
      "metadata": {
        "id": "1e5053fc"
      },
      "outputs": [],
      "source": [
        "#data = new_df[\"Data\"]\n",
        "#data"
      ],
      "id": "1e5053fc"
    },
    {
      "cell_type": "code",
      "execution_count": null,
      "metadata": {
        "id": "c2d3fcb9"
      },
      "outputs": [],
      "source": [
        "\n",
        "#new_df[\"Data\"] = pd.to_datetime(new_df[\"Data\"], format='%Y/%m/%d %H:%M:%S.%f')\n",
        "#new_df"
      ],
      "id": "c2d3fcb9"
    },
    {
      "cell_type": "code",
      "source": [
        "#new_df.to_parquet(\"/content/drive/MyDrive/temperatura_maxima_diaria/oi.parquet\")"
      ],
      "metadata": {
        "id": "lU7ga69jeYkr"
      },
      "id": "lU7ga69jeYkr",
      "execution_count": null,
      "outputs": []
    },
    {
      "cell_type": "markdown",
      "source": [
        "# Inicio"
      ],
      "metadata": {
        "id": "sUt2RxzSnUbD"
      },
      "id": "sUt2RxzSnUbD"
    },
    {
      "cell_type": "code",
      "source": [
        "import pandas as pd \n",
        "import seaborn as sn\n",
        "import matplotlib.pyplot as plt\n",
        "import numpy as np\n",
        "import math as mp\n",
        "new_df = pd.read_parquet(\"/content/drive/MyDrive/temperatura_maxima_diaria/oi.parquet\")\n",
        "new_df"
      ],
      "metadata": {
        "colab": {
          "base_uri": "https://localhost:8080/",
          "height": 424
        },
        "id": "TQLXvYtbeiDN",
        "outputId": "a1d39eca-7c03-4852-c07d-d8bfd9f8eed4"
      },
      "id": "TQLXvYtbeiDN",
      "execution_count": null,
      "outputs": [
        {
          "output_type": "execute_result",
          "data": {
            "text/plain": [
              "            Data  Temperatura\n",
              "1     1980-01-01         22.4\n",
              "2     1980-01-02         24.0\n",
              "3     1980-01-03         24.8\n",
              "4     1980-01-04         28.5\n",
              "5     1980-01-05         27.5\n",
              "...          ...          ...\n",
              "15337 2021-12-27         27.9\n",
              "15338 2021-12-28         24.9\n",
              "15339 2021-12-29         25.5\n",
              "15340 2021-12-30         23.2\n",
              "15341 2021-12-31         22.5\n",
              "\n",
              "[15290 rows x 2 columns]"
            ],
            "text/html": [
              "\n",
              "  <div id=\"df-e43d6f47-67f3-46e3-adac-f0bce03bf379\">\n",
              "    <div class=\"colab-df-container\">\n",
              "      <div>\n",
              "<style scoped>\n",
              "    .dataframe tbody tr th:only-of-type {\n",
              "        vertical-align: middle;\n",
              "    }\n",
              "\n",
              "    .dataframe tbody tr th {\n",
              "        vertical-align: top;\n",
              "    }\n",
              "\n",
              "    .dataframe thead th {\n",
              "        text-align: right;\n",
              "    }\n",
              "</style>\n",
              "<table border=\"1\" class=\"dataframe\">\n",
              "  <thead>\n",
              "    <tr style=\"text-align: right;\">\n",
              "      <th></th>\n",
              "      <th>Data</th>\n",
              "      <th>Temperatura</th>\n",
              "    </tr>\n",
              "  </thead>\n",
              "  <tbody>\n",
              "    <tr>\n",
              "      <th>1</th>\n",
              "      <td>1980-01-01</td>\n",
              "      <td>22.4</td>\n",
              "    </tr>\n",
              "    <tr>\n",
              "      <th>2</th>\n",
              "      <td>1980-01-02</td>\n",
              "      <td>24.0</td>\n",
              "    </tr>\n",
              "    <tr>\n",
              "      <th>3</th>\n",
              "      <td>1980-01-03</td>\n",
              "      <td>24.8</td>\n",
              "    </tr>\n",
              "    <tr>\n",
              "      <th>4</th>\n",
              "      <td>1980-01-04</td>\n",
              "      <td>28.5</td>\n",
              "    </tr>\n",
              "    <tr>\n",
              "      <th>5</th>\n",
              "      <td>1980-01-05</td>\n",
              "      <td>27.5</td>\n",
              "    </tr>\n",
              "    <tr>\n",
              "      <th>...</th>\n",
              "      <td>...</td>\n",
              "      <td>...</td>\n",
              "    </tr>\n",
              "    <tr>\n",
              "      <th>15337</th>\n",
              "      <td>2021-12-27</td>\n",
              "      <td>27.9</td>\n",
              "    </tr>\n",
              "    <tr>\n",
              "      <th>15338</th>\n",
              "      <td>2021-12-28</td>\n",
              "      <td>24.9</td>\n",
              "    </tr>\n",
              "    <tr>\n",
              "      <th>15339</th>\n",
              "      <td>2021-12-29</td>\n",
              "      <td>25.5</td>\n",
              "    </tr>\n",
              "    <tr>\n",
              "      <th>15340</th>\n",
              "      <td>2021-12-30</td>\n",
              "      <td>23.2</td>\n",
              "    </tr>\n",
              "    <tr>\n",
              "      <th>15341</th>\n",
              "      <td>2021-12-31</td>\n",
              "      <td>22.5</td>\n",
              "    </tr>\n",
              "  </tbody>\n",
              "</table>\n",
              "<p>15290 rows × 2 columns</p>\n",
              "</div>\n",
              "      <button class=\"colab-df-convert\" onclick=\"convertToInteractive('df-e43d6f47-67f3-46e3-adac-f0bce03bf379')\"\n",
              "              title=\"Convert this dataframe to an interactive table.\"\n",
              "              style=\"display:none;\">\n",
              "        \n",
              "  <svg xmlns=\"http://www.w3.org/2000/svg\" height=\"24px\"viewBox=\"0 0 24 24\"\n",
              "       width=\"24px\">\n",
              "    <path d=\"M0 0h24v24H0V0z\" fill=\"none\"/>\n",
              "    <path d=\"M18.56 5.44l.94 2.06.94-2.06 2.06-.94-2.06-.94-.94-2.06-.94 2.06-2.06.94zm-11 1L8.5 8.5l.94-2.06 2.06-.94-2.06-.94L8.5 2.5l-.94 2.06-2.06.94zm10 10l.94 2.06.94-2.06 2.06-.94-2.06-.94-.94-2.06-.94 2.06-2.06.94z\"/><path d=\"M17.41 7.96l-1.37-1.37c-.4-.4-.92-.59-1.43-.59-.52 0-1.04.2-1.43.59L10.3 9.45l-7.72 7.72c-.78.78-.78 2.05 0 2.83L4 21.41c.39.39.9.59 1.41.59.51 0 1.02-.2 1.41-.59l7.78-7.78 2.81-2.81c.8-.78.8-2.07 0-2.86zM5.41 20L4 18.59l7.72-7.72 1.47 1.35L5.41 20z\"/>\n",
              "  </svg>\n",
              "      </button>\n",
              "      \n",
              "  <style>\n",
              "    .colab-df-container {\n",
              "      display:flex;\n",
              "      flex-wrap:wrap;\n",
              "      gap: 12px;\n",
              "    }\n",
              "\n",
              "    .colab-df-convert {\n",
              "      background-color: #E8F0FE;\n",
              "      border: none;\n",
              "      border-radius: 50%;\n",
              "      cursor: pointer;\n",
              "      display: none;\n",
              "      fill: #1967D2;\n",
              "      height: 32px;\n",
              "      padding: 0 0 0 0;\n",
              "      width: 32px;\n",
              "    }\n",
              "\n",
              "    .colab-df-convert:hover {\n",
              "      background-color: #E2EBFA;\n",
              "      box-shadow: 0px 1px 2px rgba(60, 64, 67, 0.3), 0px 1px 3px 1px rgba(60, 64, 67, 0.15);\n",
              "      fill: #174EA6;\n",
              "    }\n",
              "\n",
              "    [theme=dark] .colab-df-convert {\n",
              "      background-color: #3B4455;\n",
              "      fill: #D2E3FC;\n",
              "    }\n",
              "\n",
              "    [theme=dark] .colab-df-convert:hover {\n",
              "      background-color: #434B5C;\n",
              "      box-shadow: 0px 1px 3px 1px rgba(0, 0, 0, 0.15);\n",
              "      filter: drop-shadow(0px 1px 2px rgba(0, 0, 0, 0.3));\n",
              "      fill: #FFFFFF;\n",
              "    }\n",
              "  </style>\n",
              "\n",
              "      <script>\n",
              "        const buttonEl =\n",
              "          document.querySelector('#df-e43d6f47-67f3-46e3-adac-f0bce03bf379 button.colab-df-convert');\n",
              "        buttonEl.style.display =\n",
              "          google.colab.kernel.accessAllowed ? 'block' : 'none';\n",
              "\n",
              "        async function convertToInteractive(key) {\n",
              "          const element = document.querySelector('#df-e43d6f47-67f3-46e3-adac-f0bce03bf379');\n",
              "          const dataTable =\n",
              "            await google.colab.kernel.invokeFunction('convertToInteractive',\n",
              "                                                     [key], {});\n",
              "          if (!dataTable) return;\n",
              "\n",
              "          const docLinkHtml = 'Like what you see? Visit the ' +\n",
              "            '<a target=\"_blank\" href=https://colab.research.google.com/notebooks/data_table.ipynb>data table notebook</a>'\n",
              "            + ' to learn more about interactive tables.';\n",
              "          element.innerHTML = '';\n",
              "          dataTable['output_type'] = 'display_data';\n",
              "          await google.colab.output.renderOutput(dataTable, element);\n",
              "          const docLink = document.createElement('div');\n",
              "          docLink.innerHTML = docLinkHtml;\n",
              "          element.appendChild(docLink);\n",
              "        }\n",
              "      </script>\n",
              "    </div>\n",
              "  </div>\n",
              "  "
            ]
          },
          "metadata": {},
          "execution_count": 16
        }
      ]
    },
    {
      "cell_type": "code",
      "execution_count": null,
      "metadata": {
        "colab": {
          "base_uri": "https://localhost:8080/"
        },
        "id": "Snzl885GIq-K",
        "outputId": "e212a42b-0005-429c-9b51-ce662828f2e2"
      },
      "outputs": [
        {
          "output_type": "execute_result",
          "data": {
            "text/plain": [
              "1        22.4\n",
              "2        24.0\n",
              "3        24.8\n",
              "4        28.5\n",
              "5        27.5\n",
              "         ... \n",
              "15337    27.9\n",
              "15338    24.9\n",
              "15339    25.5\n",
              "15340    23.2\n",
              "15341    22.5\n",
              "Name: Temperatura, Length: 15290, dtype: float64"
            ]
          },
          "metadata": {},
          "execution_count": 34
        }
      ],
      "source": [
        "Temperatura = new_df[\"Temperatura\"]\n",
        "Temperatura"
      ],
      "id": "Snzl885GIq-K"
    },
    {
      "cell_type": "code",
      "execution_count": null,
      "metadata": {
        "colab": {
          "base_uri": "https://localhost:8080/"
        },
        "id": "cf112e89",
        "outputId": "6ec17b29-5d11-4fcb-db35-b525e9866c8a"
      },
      "outputs": [
        {
          "output_type": "stream",
          "name": "stdout",
          "text": [
            "<class 'pandas.core.frame.DataFrame'>\n",
            "Int64Index: 15290 entries, 1 to 15341\n",
            "Data columns (total 2 columns):\n",
            " #   Column       Non-Null Count  Dtype         \n",
            "---  ------       --------------  -----         \n",
            " 0   Data         15290 non-null  datetime64[ns]\n",
            " 1   Temperatura  15290 non-null  float64       \n",
            "dtypes: datetime64[ns](1), float64(1)\n",
            "memory usage: 358.4 KB\n"
          ]
        }
      ],
      "source": [
        "new_df.info()"
      ],
      "id": "cf112e89"
    },
    {
      "cell_type": "code",
      "execution_count": null,
      "metadata": {
        "colab": {
          "base_uri": "https://localhost:8080/",
          "height": 286
        },
        "id": "2b22e31e",
        "outputId": "923e02ed-803f-46cc-c134-36bfcc162716"
      },
      "outputs": [
        {
          "output_type": "execute_result",
          "data": {
            "text/plain": [
              "<matplotlib.axes._subplots.AxesSubplot at 0x7f2c04d22710>"
            ]
          },
          "metadata": {},
          "execution_count": 36
        },
        {
          "output_type": "display_data",
          "data": {
            "text/plain": [
              "<Figure size 432x288 with 1 Axes>"
            ],
            "image/png": "[encoded data removed]"
          },
          "metadata": {
            "needs_background": "light"
          }
        }
      ],
      "source": [
        "new_df.plot.line(x=\"Data\", y=\"Temperatura\")"
      ],
      "id": "2b22e31e"
    },
    {
      "cell_type": "code",
      "source": [
        "new_df.to_csv(\"/content/drive/MyDrive/temperatura_maxima_diaria/temperatura_máxima.csv\")"
      ],
      "metadata": {
        "id": "gOauiYlOck_J"
      },
      "id": "gOauiYlOck_J",
      "execution_count": null,
      "outputs": []
    },
    {
      "cell_type": "code",
      "execution_count": null,
      "metadata": {
        "colab": {
          "base_uri": "https://localhost:8080/",
          "height": 296
        },
        "id": "Qe2jGld5HX9g",
        "outputId": "5249785c-29f9-4648-c8cb-bf56bc6a0589"
      },
      "outputs": [
        {
          "output_type": "execute_result",
          "data": {
            "text/plain": [
              "<matplotlib.axes._subplots.AxesSubplot at 0x7f2c03ebde10>"
            ]
          },
          "metadata": {},
          "execution_count": 38
        },
        {
          "output_type": "display_data",
          "data": {
            "text/plain": [
              "<Figure size 432x288 with 1 Axes>"
            ],
            "image/png": "[encoded data removed]"
          },
          "metadata": {
            "needs_background": "light"
          }
        }
      ],
      "source": [
        "sn.scatterplot(data=new_df, x=\"Data\", y=\"Temperatura\")"
      ],
      "id": "Qe2jGld5HX9g"
    },
    {
      "cell_type": "code",
      "execution_count": null,
      "metadata": {
        "colab": {
          "base_uri": "https://localhost:8080/",
          "height": 395
        },
        "id": "0K2M3cGgJKgq",
        "outputId": "54eebdb8-3b98-419a-980d-f8713c99d1e4"
      },
      "outputs": [
        {
          "output_type": "display_data",
          "data": {
            "text/plain": [
              "<Figure size 792x432 with 1 Axes>"
            ],
            "image/png": "[encoded data removed]"
          },
          "metadata": {
            "needs_background": "light"
          }
        }
      ],
      "source": [
        "plt.figure(figsize =(11, 6))\n",
        "bplots = plt.boxplot(Temperatura,  vert = 1, patch_artist = False)\n",
        "colors = ['pink', 'lightblue', 'lightgreen']\n",
        "c = 0\n",
        "for i, bplot in enumerate(bplots['boxes']):\n",
        "  bplot.set(color=colors[c], linewidth=3)\n",
        "  c += 1\n",
        "\n",
        "  # Linhas de contorno\n",
        "  colorss = ['pink','pink', 'lightblue', 'lightblue', 'lightgreen', 'lightgreen']\n",
        "  c2 = 0\n",
        "  for whisker in bplots['whiskers']:\n",
        "    whisker.set(color=colorss[c2], linewidth=3)\n",
        "    c2+= 1\n",
        "\n",
        "  c3 = 0\n",
        "  for cap in bplots['caps']:\n",
        "    cap.set(color=colorss[c3], linewidth=3)\n",
        "    c3 +=1\n",
        "\n",
        "  c4 = 0\n",
        "  for median in bplots['medians']:\n",
        "    median.set(color=colors[c4], linewidth=3)\n",
        "    c4 +=1\n",
        "\n",
        "  # Adicionando Título ao gráfico\n",
        "  plt.title(\"Boxplot Temperatura máxima\", loc=\"center\", fontsize=18)\n",
        "  plt.xlabel(\"\")\n",
        "  plt.ylabel(\"Temperatura\")\n",
        "\n",
        "  plt.show()"
      ],
      "id": "0K2M3cGgJKgq"
    },
    {
      "cell_type": "code",
      "execution_count": null,
      "metadata": {
        "colab": {
          "base_uri": "https://localhost:8080/",
          "height": 296
        },
        "id": "H3nC9yEfJdx0",
        "outputId": "77471431-696b-4814-e84e-2a32659f056b"
      },
      "outputs": [
        {
          "output_type": "execute_result",
          "data": {
            "text/plain": [
              "<matplotlib.axes._subplots.AxesSubplot at 0x7f2c0397e190>"
            ]
          },
          "metadata": {},
          "execution_count": 40
        },
        {
          "output_type": "display_data",
          "data": {
            "text/plain": [
              "<Figure size 432x288 with 1 Axes>"
            ],
            "image/png": "[encoded data removed]"
          },
          "metadata": {
            "needs_background": "light"
          }
        }
      ],
      "source": [
        "sn.histplot(data=new_df, x=\"Temperatura\")"
      ],
      "id": "H3nC9yEfJdx0"
    },
    {
      "cell_type": "code",
      "execution_count": null,
      "metadata": {
        "colab": {
          "base_uri": "https://localhost:8080/"
        },
        "id": "vQPUYsPKJ3nb",
        "outputId": "8962a3ea-d00a-4287-a464-7ee23a47c6e9"
      },
      "outputs": [
        {
          "output_type": "stream",
          "name": "stdout",
          "text": [
            "Curtose  0.6726570959006226\n"
          ]
        }
      ],
      "source": [
        "# Medida de curtose\n",
        "curtose = new_df['Temperatura'].kurtosis()\n",
        "print('Curtose ', curtose)"
      ],
      "id": "vQPUYsPKJ3nb"
    },
    {
      "cell_type": "code",
      "execution_count": null,
      "metadata": {
        "colab": {
          "base_uri": "https://localhost:8080/"
        },
        "id": "T9nI3mCjNy4G",
        "outputId": "33fcd48e-8090-4e13-c93e-d080b996a7c4"
      },
      "outputs": [
        {
          "output_type": "stream",
          "name": "stdout",
          "text": [
            "Assimetria(Skewness)  -0.03714121126803299\n"
          ]
        }
      ],
      "source": [
        "# Medida de assimetria\n",
        "assimetria = new_df['Temperatura'].skew()\n",
        "print('Assimetria(Skewness) ', assimetria)"
      ],
      "id": "T9nI3mCjNy4G"
    },
    {
      "cell_type": "code",
      "execution_count": null,
      "metadata": {
        "colab": {
          "base_uri": "https://localhost:8080/"
        },
        "id": "hT46LvOOSXD3",
        "outputId": "5bd43735-b294-4478-80e6-3a1b71ad9b6f"
      },
      "outputs": [
        {
          "output_type": "execute_result",
          "data": {
            "text/plain": [
              "1        22.4\n",
              "2        24.0\n",
              "3        24.8\n",
              "4        28.5\n",
              "5        27.5\n",
              "         ... \n",
              "15337    27.9\n",
              "15338    24.9\n",
              "15339    25.5\n",
              "15340    23.2\n",
              "15341    22.5\n",
              "Name: Temperatura, Length: 15290, dtype: float64"
            ]
          },
          "metadata": {},
          "execution_count": 43
        }
      ],
      "source": [
        "new_df['Temperatura'].astype(float)"
      ],
      "id": "hT46LvOOSXD3"
    },
    {
      "cell_type": "markdown",
      "metadata": {
        "id": "fsucDAw4_RgU"
      },
      "source": [
        "# Agrupamentos\n",
        "\n",
        "#### K raiz de N: Para agrupar os dados utilizando o métodos de agrypamento, é necessário encontrar o número de classes e a amblitude de cada classe. Para o caso deste método, foi calculada a raiz quadrada do número total de observações utilizando o método \"sqrt\", retornando o número de classes, e dividindo a amplitude(maior valor menos o menor) pelo valor encontrado, é possível encontrar a amplitude que cada classe terá"
      ],
      "id": "fsucDAw4_RgU"
    },
    {
      "cell_type": "code",
      "execution_count": null,
      "metadata": {
        "colab": {
          "base_uri": "https://localhost:8080/"
        },
        "id": "l3nqsHm6Xw0k",
        "outputId": "e6e102ec-69af-43bf-c458-e1c434344545"
      },
      "outputs": [
        {
          "output_type": "stream",
          "name": "stdout",
          "text": [
            "15290\n",
            "21.4\n",
            "15.0\n",
            "36.4\n"
          ]
        }
      ],
      "source": [
        "mini = new_df['Temperatura'].min()\n",
        "maxi = new_df['Temperatura'].max()\n",
        "amp = maxi - mini\n",
        "total = new_df['Temperatura'].count()\n",
        "print(total)\n",
        "print(amp)\n",
        "print(mini)\n",
        "print(maxi)"
      ],
      "id": "l3nqsHm6Xw0k"
    },
    {
      "cell_type": "code",
      "execution_count": null,
      "metadata": {
        "colab": {
          "base_uri": "https://localhost:8080/"
        },
        "id": "zQlGElmzYJoO",
        "outputId": "b93be3f2-174f-45a5-e14d-46b2de97c3ca"
      },
      "outputs": [
        {
          "output_type": "stream",
          "name": "stdout",
          "text": [
            "123.65273955719704\n"
          ]
        }
      ],
      "source": [
        "K = mp.sqrt(total)\n",
        "print(K)"
      ],
      "id": "zQlGElmzYJoO"
    },
    {
      "cell_type": "code",
      "execution_count": null,
      "metadata": {
        "colab": {
          "base_uri": "https://localhost:8080/"
        },
        "id": "0Ijb1VIyY5Ju",
        "outputId": "7c5a3e18-6441-46cf-a28f-ed4faf27e1c6"
      },
      "outputs": [
        {
          "output_type": "stream",
          "name": "stdout",
          "text": [
            "0.17258064516129032\n"
          ]
        }
      ],
      "source": [
        "h = amp/124\n",
        "print(h)"
      ],
      "id": "0Ijb1VIyY5Ju"
    },
    {
      "cell_type": "code",
      "execution_count": null,
      "metadata": {
        "colab": {
          "base_uri": "https://localhost:8080/",
          "height": 265
        },
        "id": "xBusNrqQt8M7",
        "outputId": "77f6d7e4-dc62-4c91-c6d2-6307686972c6"
      },
      "outputs": [
        {
          "output_type": "display_data",
          "data": {
            "text/plain": [
              "<Figure size 432x288 with 1 Axes>"
            ],
            "image/png": "[encoded data removed]"
          },
          "metadata": {
            "needs_background": "light"
          }
        }
      ],
      "source": [
        "plt.hist(new_df['Temperatura'], bins = np.arange(mini, \n",
        "                                           maxi+123,0.17), edgecolor='black')\n",
        "plt.xlim([15, 38])\n",
        "plt.show()"
      ],
      "id": "xBusNrqQt8M7"
    },
    {
      "cell_type": "markdown",
      "metadata": {
        "id": "CL1zs9Wr_arj"
      },
      "source": [
        "##Sturges: Para o agrupamento Sturges, foi utilizada a formula abaixo, que calcula o logarítimo do valor total de observações, e então soma com os valores 1 e 3.322 para encontrar o número de classes. Novamente, a amplitude é calculada dividindo a amplitude total pelo número de classes "
      ],
      "id": "CL1zs9Wr_arj"
    },
    {
      "cell_type": "code",
      "execution_count": null,
      "metadata": {
        "colab": {
          "base_uri": "https://localhost:8080/"
        },
        "id": "HF4XaUFWqodW",
        "outputId": "a25995a1-b867-4872-e278-206fc6967578"
      },
      "outputs": [
        {
          "output_type": "stream",
          "name": "stdout",
          "text": [
            "8.50640748541232\n"
          ]
        }
      ],
      "source": [
        "k1 = 1 + 3.322 + mp.log(total,10)\n",
        "print(k1)\n"
      ],
      "id": "HF4XaUFWqodW"
    },
    {
      "cell_type": "code",
      "execution_count": null,
      "metadata": {
        "colab": {
          "base_uri": "https://localhost:8080/"
        },
        "id": "mbQMhHX0sIQA",
        "outputId": "0adad950-7930-430c-b87a-b6e47f1656d1"
      },
      "outputs": [
        {
          "output_type": "stream",
          "name": "stdout",
          "text": [
            "2.515750631121183\n"
          ]
        }
      ],
      "source": [
        "h1 = amp/k1\n",
        "print(h1)"
      ],
      "id": "mbQMhHX0sIQA"
    },
    {
      "cell_type": "code",
      "execution_count": null,
      "metadata": {
        "colab": {
          "base_uri": "https://localhost:8080/",
          "height": 265
        },
        "id": "PDuNdPz-X2lT",
        "outputId": "3f0b3deb-b334-4e48-81a9-f02efb6cd861"
      },
      "outputs": [
        {
          "output_type": "display_data",
          "data": {
            "text/plain": [
              "<Figure size 432x288 with 1 Axes>"
            ],
            "image/png": "[encoded data removed]"
          },
          "metadata": {
            "needs_background": "light"
          }
        }
      ],
      "source": [
        "plt.hist(new_df['Temperatura'], bins = np.arange(mini, \n",
        "                                           maxi+9,2.51), edgecolor='black')\n",
        "plt.xlim([15, 38])\n",
        "plt.show()"
      ],
      "id": "PDuNdPz-X2lT"
    },
    {
      "cell_type": "markdown",
      "metadata": {
        "id": "ordMmiDNylFm"
      },
      "source": [
        "##Scott: Para a de Scott, as classes são calculadas a partir do desvio padrão das observações, multiplicada por 3.49 e por n, que representa o número total de observações elevado a -1/3. "
      ],
      "id": "ordMmiDNylFm"
    },
    {
      "cell_type": "code",
      "execution_count": null,
      "metadata": {
        "colab": {
          "base_uri": "https://localhost:8080/"
        },
        "id": "hljS2yTYyxup",
        "outputId": "aca8f43f-e21d-4182-c38c-85274a67ebc6"
      },
      "outputs": [
        {
          "output_type": "stream",
          "name": "stdout",
          "text": [
            "2.45346653115034\n"
          ]
        }
      ],
      "source": [
        "std = new_df['Temperatura'].std()\n",
        "print(std)"
      ],
      "id": "hljS2yTYyxup"
    },
    {
      "cell_type": "code",
      "execution_count": null,
      "metadata": {
        "colab": {
          "base_uri": "https://localhost:8080/"
        },
        "id": "-TKV1b0xzBXs",
        "outputId": "7c4900cc-485b-46cb-da7b-3a9f38a7e0ca"
      },
      "outputs": [
        {
          "output_type": "stream",
          "name": "stdout",
          "text": [
            "0.04029002203075981\n"
          ]
        }
      ],
      "source": [
        "n = total ** (-1/3)\n",
        "print(n)"
      ],
      "id": "-TKV1b0xzBXs"
    },
    {
      "cell_type": "code",
      "execution_count": null,
      "metadata": {
        "colab": {
          "base_uri": "https://localhost:8080/"
        },
        "id": "lX33gwscv8Dj",
        "outputId": "efc9322e-223b-4dd5-ef7d-42e95df2fec1"
      },
      "outputs": [
        {
          "output_type": "stream",
          "name": "stdout",
          "text": [
            "0.3449872698653089\n"
          ]
        }
      ],
      "source": [
        "scott = 3.49 * std * n\n",
        "print(scott)"
      ],
      "id": "lX33gwscv8Dj"
    },
    {
      "cell_type": "code",
      "execution_count": null,
      "metadata": {
        "colab": {
          "base_uri": "https://localhost:8080/"
        },
        "id": "KEfO3E9u-KAu",
        "outputId": "ade21bdd-f084-4b88-bfe2-cb45af452ec7"
      },
      "outputs": [
        {
          "output_type": "stream",
          "name": "stdout",
          "text": [
            "62.03127439558874\n"
          ]
        }
      ],
      "source": [
        "h2 = amp/scott\n",
        "print(h2)"
      ],
      "id": "KEfO3E9u-KAu"
    },
    {
      "cell_type": "code",
      "execution_count": null,
      "metadata": {
        "colab": {
          "base_uri": "https://localhost:8080/",
          "height": 265
        },
        "id": "QWMbKP1W-Tv8",
        "outputId": "7cac5f42-2263-4fc1-b616-faa5cefbf841"
      },
      "outputs": [
        {
          "output_type": "display_data",
          "data": {
            "text/plain": [
              "<Figure size 432x288 with 1 Axes>"
            ],
            "image/png": "[encoded data removed]"
          },
          "metadata": {
            "needs_background": "light"
          }
        }
      ],
      "source": [
        "plt.hist(new_df['Temperatura'], bins = np.arange(mini, \n",
        "                                           maxi+h2,scott), edgecolor='black')\n",
        "plt.xlim([15, 38])\n",
        "plt.show()"
      ],
      "id": "QWMbKP1W-Tv8"
    },
    {
      "cell_type": "markdown",
      "metadata": {
        "id": "kwXxjA7n-h5s"
      },
      "source": [
        "##Rice´s Rule: Para esse agrupamento, as classes são calculadas a partir da raiz quadrada do número total de observações vezes 2."
      ],
      "id": "kwXxjA7n-h5s"
    },
    {
      "cell_type": "code",
      "execution_count": null,
      "metadata": {
        "colab": {
          "base_uri": "https://localhost:8080/"
        },
        "id": "L3ntlLXI-hiq",
        "outputId": "eb5b4699-c98c-4390-c9d7-775c16eefaa1"
      },
      "outputs": [
        {
          "output_type": "execute_result",
          "data": {
            "text/plain": [
              "247.30547911439407"
            ]
          },
          "metadata": {},
          "execution_count": 56
        }
      ],
      "source": [
        "rice = mp.sqrt(total) * 2\n",
        "rice"
      ],
      "id": "L3ntlLXI-hiq"
    },
    {
      "cell_type": "code",
      "execution_count": null,
      "metadata": {
        "colab": {
          "base_uri": "https://localhost:8080/"
        },
        "id": "t8wOmQkd-yAz",
        "outputId": "dce79181-2747-4b44-b30d-17cd9f2dcfcb"
      },
      "outputs": [
        {
          "output_type": "execute_result",
          "data": {
            "text/plain": [
              "0.08653265619764605"
            ]
          },
          "metadata": {},
          "execution_count": 57
        }
      ],
      "source": [
        "h3 = amp/rice\n",
        "h3"
      ],
      "id": "t8wOmQkd-yAz"
    },
    {
      "cell_type": "code",
      "execution_count": null,
      "metadata": {
        "colab": {
          "base_uri": "https://localhost:8080/",
          "height": 265
        },
        "id": "UMGjvDzW-8Bh",
        "outputId": "39c118ad-4134-4db2-b16d-cd00b4dbfed9"
      },
      "outputs": [
        {
          "output_type": "display_data",
          "data": {
            "text/plain": [
              "<Figure size 432x288 with 1 Axes>"
            ],
            "image/png": "[encoded data removed]"
          },
          "metadata": {
            "needs_background": "light"
          }
        }
      ],
      "source": [
        "plt.hist(new_df['Temperatura'], bins = np.arange(mini, \n",
        "                                           maxi+rice,h3))\n",
        "plt.xlim([15, 38])\n",
        "plt.show()"
      ],
      "id": "UMGjvDzW-8Bh"
    },
    {
      "cell_type": "markdown",
      "metadata": {
        "id": "bVd0nlYQ-Yrd"
      },
      "source": [
        "## Friedman & Diaconis\n",
        "\n",
        "Por fim, porém não menos importante, a distribuição Friedman Diaconnis é calculada a partir da função abaixo."
      ],
      "id": "bVd0nlYQ-Yrd"
    },
    {
      "cell_type": "code",
      "execution_count": null,
      "metadata": {
        "id": "yiqvzTjqOBYx"
      },
      "outputs": [],
      "source": [
        "from scipy import stats\n",
        "def freedman_diaconis(data, returnas=\"width\"):\n",
        "    data = np.asarray(data, dtype=np.float_)\n",
        "    IQR  = stats.iqr(data, rng=(25, 75), scale=\"raw\", nan_policy=\"omit\")\n",
        "    N    = data.size\n",
        "    bw   = (2 * IQR) / np.power(N, 1/3)\n",
        "\n",
        "    if returnas==\"width\":\n",
        "        result = bw\n",
        "    else:\n",
        "        datmin, datmax = data.min(), data.max()\n",
        "        datrng = datmax - datmin\n",
        "        result = int((datrng / bw) + 1)\n",
        "    return(result)\n"
      ],
      "id": "yiqvzTjqOBYx"
    },
    {
      "cell_type": "code",
      "execution_count": null,
      "metadata": {
        "colab": {
          "base_uri": "https://localhost:8080/"
        },
        "id": "juXwFFXw-xOl",
        "outputId": "bbcf0bb1-05b6-4300-a63f-484aac0e5a17"
      },
      "outputs": [
        {
          "output_type": "execute_result",
          "data": {
            "text/plain": [
              "0.2417401321845589"
            ]
          },
          "metadata": {},
          "execution_count": 60
        }
      ],
      "source": [
        "freedman_diaconis(data=new_df['Temperatura'], returnas=\"width\")"
      ],
      "id": "juXwFFXw-xOl"
    },
    {
      "cell_type": "code",
      "execution_count": null,
      "metadata": {
        "colab": {
          "base_uri": "https://localhost:8080/"
        },
        "id": "3i1qYHpP9cXw",
        "outputId": "b3745d8c-d3ea-4a61-f2d9-6b8a2b72be27"
      },
      "outputs": [
        {
          "output_type": "execute_result",
          "data": {
            "text/plain": [
              "89"
            ]
          },
          "metadata": {},
          "execution_count": 61
        }
      ],
      "source": [
        "freedman_diaconis(data=new_df['Temperatura'], returnas=\"bins\")"
      ],
      "id": "3i1qYHpP9cXw"
    },
    {
      "cell_type": "code",
      "execution_count": null,
      "metadata": {
        "colab": {
          "base_uri": "https://localhost:8080/",
          "height": 265
        },
        "id": "QybnvyVn9mkn",
        "outputId": "8300d6ba-7193-40f7-e5f2-e9ad894237ba"
      },
      "outputs": [
        {
          "output_type": "display_data",
          "data": {
            "text/plain": [
              "<Figure size 432x288 with 1 Axes>"
            ],
            "image/png": "[encoded data removed]"
          },
          "metadata": {
            "needs_background": "light"
          }
        }
      ],
      "source": [
        "plt.hist(new_df['Temperatura'], bins = np.arange(mini, \n",
        "                                           maxi+89,0.24),edgecolor='black')\n",
        "plt.xlim([15, 38])\n",
        "plt.show()"
      ],
      "id": "QybnvyVn9mkn"
    },
    {
      "cell_type": "markdown",
      "source": [
        "### Por meio de uma análise heurística a partir da vizualização das distribuições, foi decidido que Friedman Diaconis é a mais apropriada para este dataset"
      ],
      "metadata": {
        "id": "lLH3ztUthyqJ"
      },
      "id": "lLH3ztUthyqJ"
    },
    {
      "cell_type": "markdown",
      "metadata": {
        "id": "eJQ-ABHNAMlB"
      },
      "source": [
        "## Encontrando os Parâmetros necessários\n"
      ],
      "id": "eJQ-ABHNAMlB"
    },
    {
      "cell_type": "code",
      "execution_count": null,
      "metadata": {
        "colab": {
          "base_uri": "https://localhost:8080/"
        },
        "id": "m8fa-T5eoehJ",
        "outputId": "dada00b2-4cdf-489e-8eb3-0bc15dc650b6"
      },
      "outputs": [
        {
          "output_type": "stream",
          "name": "stderr",
          "text": [
            "/usr/local/lib/python3.7/dist-packages/scipy/stats/_continuous_distns.py:547: RuntimeWarning: invalid value encountered in sqrt\n",
            "  sk = 2*(b-a)*np.sqrt(a + b + 1) / (a + b + 2) / np.sqrt(a*b)\n",
            "/usr/local/lib/python3.7/dist-packages/scipy/optimize/minpack.py:162: RuntimeWarning: The iteration is not making good progress, as measured by the \n",
            "  improvement from the last ten iterations.\n",
            "  warnings.warn(msg, RuntimeWarning)\n"
          ]
        },
        {
          "output_type": "stream",
          "name": "stdout",
          "text": [
            "norm: [0, 26.977303701020773]\n",
            "beta: [0.7240339884588991, 36.400000000000006]\n",
            "weibull: [11.345812667993027, 27.981163525530377]\n",
            "cauchy: [0, 26.754565429687563]\n"
          ]
        }
      ],
      "source": [
        "params1 = stats.norm.fit(new_df['Temperatura'], floc=0)\n",
        "shape = params1[0]\n",
        "scale = params1[1]\n",
        "norma = [shape,scale]\n",
        "params2 = stats.beta.fit(new_df['Temperatura'], floc=0, f0=1)\n",
        "shape2 = params2[1]\n",
        "scale2 = params2[3]\n",
        "beta = [shape2,scale2]\n",
        "params3 = stats.exponweib.fit(new_df['Temperatura'], floc=0, f0=1)\n",
        "shape3 = params3[1]\n",
        "scale3 = params3[3]\n",
        "weib = [shape3,scale3]\n",
        "params4 = stats.cauchy.fit(new_df['Temperatura'], floc=0)\n",
        "shape4 = params4[0]\n",
        "scale4 = params4[1]\n",
        "cauchy = [shape4,scale4]\n",
        "print('norm:',norma)\n",
        "print('beta:',beta)\n",
        "print('weibull:',weib)\n",
        "print('cauchy:',cauchy)"
      ],
      "id": "m8fa-T5eoehJ"
    },
    {
      "cell_type": "code",
      "execution_count": null,
      "metadata": {
        "colab": {
          "base_uri": "https://localhost:8080/"
        },
        "id": "4ZxqCxmHqJIw",
        "outputId": "34b3379f-dd84-4672-a329-9d376de71eb1"
      },
      "outputs": [
        {
          "output_type": "stream",
          "name": "stderr",
          "text": [
            "/usr/local/lib/python3.7/dist-packages/scipy/stats/_continuous_distns.py:547: RuntimeWarning: invalid value encountered in sqrt\n",
            "  sk = 2*(b-a)*np.sqrt(a + b + 1) / (a + b + 2) / np.sqrt(a*b)\n",
            "/usr/local/lib/python3.7/dist-packages/scipy/optimize/minpack.py:162: RuntimeWarning: The iteration is not making good progress, as measured by the \n",
            "  improvement from the last ten iterations.\n",
            "  warnings.warn(msg, RuntimeWarning)\n"
          ]
        },
        {
          "output_type": "stream",
          "name": "stdout",
          "text": [
            "norm: [26.865513407455854, 2.4533862987550488]\n",
            "beta: [61127.574559804925, 3027.999838002188]\n",
            "weibull: [5.865696882113532, 75.27024510213073]\n",
            "cauchy: [26.846183425233885, 1.3818399453528354]\n"
          ]
        }
      ],
      "source": [
        "a,b = params1 = stats.norm.fit(new_df['Temperatura'])\n",
        "norma = [a,b]\n",
        "params2 = stats.beta.fit(new_df['Temperatura'])\n",
        "shape2 = params2[0]\n",
        "scale2 = params2[1]\n",
        "beta = [shape2,scale2]\n",
        "params3 = stats.exponweib.fit(new_df['Temperatura'])\n",
        "shape3 = params3[1]\n",
        "scale3 = params3[3]\n",
        "weib = [shape3,scale3]\n",
        "params4 = stats.cauchy.fit(new_df['Temperatura'])\n",
        "shape4 = params4[0]\n",
        "scale4 = params4[1]\n",
        "cauchy = [shape4,scale4]\n",
        "print('norm:',norma)\n",
        "print('beta:',beta)\n",
        "print('weibull:',weib)\n",
        "print('cauchy:',cauchy)"
      ],
      "id": "4ZxqCxmHqJIw"
    },
    {
      "cell_type": "code",
      "execution_count": null,
      "metadata": {
        "colab": {
          "base_uri": "https://localhost:8080/"
        },
        "id": "GDKxJF7S64Pc",
        "outputId": "7191a244-7e99-4b77-ed09-4054448238ef"
      },
      "outputs": [
        {
          "output_type": "stream",
          "name": "stderr",
          "text": [
            "/usr/local/lib/python3.7/dist-packages/scipy/stats/_continuous_distns.py:547: RuntimeWarning: invalid value encountered in sqrt\n",
            "  sk = 2*(b-a)*np.sqrt(a + b + 1) / (a + b + 2) / np.sqrt(a*b)\n",
            "/usr/local/lib/python3.7/dist-packages/scipy/optimize/minpack.py:162: RuntimeWarning: The iteration is not making good progress, as measured by the \n",
            "  improvement from the last ten iterations.\n",
            "  warnings.warn(msg, RuntimeWarning)\n"
          ]
        },
        {
          "output_type": "stream",
          "name": "stdout",
          "text": [
            "norm: [26.865513407455854, 2.4533862987550488]\n",
            "beta: (61127.574559804925, 3027.999838002188, -2765.568788110334, 2930.759460714764)\n",
            "weibull: (1831.3963115803797, 5.865696882113532, -80.39134396943822, 75.27024510213073)\n",
            "cauchy: (26.846183425233885, 1.3818399453528354)\n"
          ]
        }
      ],
      "source": [
        "a,b = params1 = stats.norm.fit(new_df['Temperatura'])\n",
        "norma = [a,b]\n",
        "params2 = stats.beta.fit(new_df['Temperatura'])\n",
        "params3 = stats.exponweib.fit(new_df['Temperatura'])\n",
        "params4 = stats.cauchy.fit(new_df['Temperatura'])\n",
        "print('norm:',norma)\n",
        "print('beta:',params2)\n",
        "print('weibull:',params3)\n",
        "print('cauchy:',params4)"
      ],
      "id": "GDKxJF7S64Pc"
    },
    {
      "cell_type": "code",
      "execution_count": null,
      "metadata": {
        "colab": {
          "base_uri": "https://localhost:8080/"
        },
        "id": "jwdtN56KX3MP",
        "outputId": "eda9ee9e-8399-4637-811b-82b4c0b8c24e"
      },
      "outputs": [
        {
          "output_type": "stream",
          "name": "stdout",
          "text": [
            "shape: 11.345812667993027\n",
            "scale: 27.981163525530377\n"
          ]
        }
      ],
      "source": [
        "from scipy.stats import weibull_min\n",
        "params = stats.exponweib.fit(new_df['Temperatura'], floc=0, f0=1)\n",
        "shape = params[1]\n",
        "scale = params[3]\n",
        "print('shape:',shape)\n",
        "print('scale:',scale)"
      ],
      "id": "jwdtN56KX3MP"
    },
    {
      "cell_type": "markdown",
      "metadata": {
        "id": "YyA8WHpQKdxd"
      },
      "source": [
        "\n",
        "\n",
        "\n",
        "params1 = stats.norm.fit(new_df['Temperatura'], floc=0)params1 = stats.norm.fit(new_df['Temperatura'], floc=0)params1 = stats.norm.fit(new_df['Temperatura'], floc=0)params1 = stats.norm.fit(new_df['Temperatura'], floc=0)params1 = stats.norm.fit(new_df['Temperatura'], floc=0)vv#Normal"
      ],
      "id": "YyA8WHpQKdxd"
    },
    {
      "cell_type": "markdown",
      "source": [
        "# Distribuições\n",
        "### Normal: \n",
        "####Para plotar a curva da distribuição normal sobre a distribuição empírica, foi utilizado o método \"stats\" da biblioteca scipy. Calculando a função de densidade de probabilidade e estimando os parãmetros de média e desvio padrão, a curva é plotada"
      ],
      "metadata": {
        "id": "CI-gfIw1P3Jt"
      },
      "id": "CI-gfIw1P3Jt"
    },
    {
      "cell_type": "code",
      "execution_count": null,
      "metadata": {
        "colab": {
          "base_uri": "https://localhost:8080/",
          "height": 281
        },
        "id": "b4Htj17ZKdQH",
        "outputId": "1a213cbf-070f-43b3-bc12-c4f50630f6d8"
      },
      "outputs": [
        {
          "output_type": "display_data",
          "data": {
            "text/plain": [
              "<Figure size 432x288 with 1 Axes>"
            ],
            "image/png": "[encoded data removed]"
          },
          "metadata": {
            "needs_background": "light"
          }
        }
      ],
      "source": [
        "\n",
        "from scipy.stats import norm\n",
        "mu, std = norm.fit(new_df['Temperatura']) \n",
        "  \n",
        "\n",
        "plt.hist(new_df['Temperatura'], bins = np.arange(mini, \n",
        "                                           maxi+89,0.24), density=True, alpha=0.6, color='b')\n",
        "  \n",
        "\n",
        "plt.xlim([15, 38])\n",
        "x = np.linspace(15, 38, 100)\n",
        "p = norm.pdf(x, mu, std)\n",
        "  \n",
        "plt.plot(x, p, 'k', linewidth=2)\n",
        "title = \"Valores: {:.2f} e {:.2f}\".format(mu, std)\n",
        "plt.title(title)\n",
        "  \n",
        "plt.show()"
      ],
      "id": "b4Htj17ZKdQH"
    },
    {
      "cell_type": "code",
      "execution_count": null,
      "metadata": {
        "colab": {
          "base_uri": "https://localhost:8080/"
        },
        "id": "arIfMQVVqgRh",
        "outputId": "b149f99c-2069-4cfa-8f84-6f6fb05d748c"
      },
      "outputs": [
        {
          "output_type": "stream",
          "name": "stdout",
          "text": [
            "26.865513407455854 2.4533862987550488\n"
          ]
        }
      ],
      "source": [
        "print(mu,std)"
      ],
      "id": "arIfMQVVqgRh"
    },
    {
      "cell_type": "markdown",
      "source": [
        "### Weibull: \n",
        "#### Para esta distribuição, os parâmetros de center e scale são calculados a partir da função construida abaixo:"
      ],
      "metadata": {
        "id": "otcxRjh_jrJD"
      },
      "id": "otcxRjh_jrJD"
    },
    {
      "cell_type": "code",
      "execution_count": null,
      "metadata": {
        "colab": {
          "base_uri": "https://localhost:8080/"
        },
        "id": "tFAAITxFFgTB",
        "outputId": "66eaa566-2783-497a-acfb-80d4b374b9ee"
      },
      "outputs": [
        {
          "output_type": "stream",
          "name": "stdout",
          "text": [
            "11.345812667993027 27.981163525530377\n"
          ]
        }
      ],
      "source": [
        "# Parmatros\n",
        "# f(x)=γα(x−μα)(γ−1)exp(−((x−μ)/α)γ)x≥μ;γ,α>0\n",
        "def weibull(center,shape,scale):\n",
        "    return (shape / scale) * (center / scale)**(shape-1) * np.exp(-(center/scale)**shape)\n",
        "\n",
        "print(shape,scale)\n",
        "bins = np.arange(mini, maxi+89,0.24)\n",
        "center = (bins[:-1] + bins[1:]) / 2."
      ],
      "id": "tFAAITxFFgTB"
    },
    {
      "cell_type": "code",
      "execution_count": null,
      "metadata": {
        "colab": {
          "base_uri": "https://localhost:8080/",
          "height": 281
        },
        "id": "CV1Xi-8MqgQA",
        "outputId": "be9ab327-9906-454a-d5f7-5c8d1bae82aa"
      },
      "outputs": [
        {
          "output_type": "display_data",
          "data": {
            "text/plain": [
              "<Figure size 432x288 with 1 Axes>"
            ],
            "image/png": "[encoded data removed]"
          },
          "metadata": {
            "needs_background": "light"
          }
        }
      ],
      "source": [
        "from scipy.stats import weibull_min\n",
        "mu = 11.345812667993027\n",
        "std = 27.981163525530377\n",
        "\n",
        "plt.hist(new_df['Temperatura'], bins = np.arange(mini, \n",
        "                                           maxi+89,0.24), density=True, alpha=0.6, color='b')\n",
        "  \n",
        "\n",
        "plt.xlim([15, 38])\n",
        "x = np.linspace(15, 38, 100)\n",
        "plt.plot(center,weibull(center,shape,scale),'k',label='Wind analysis',lw=2)\n",
        "title = \"Valores: {:.2f} e {:.2f}\".format(mu, std)\n",
        "plt.title(title)\n",
        "  \n",
        "plt.show()\n"
      ],
      "id": "CV1Xi-8MqgQA"
    },
    {
      "cell_type": "markdown",
      "source": [
        "### Beta:\n",
        "#### Parâmetros calculados manualmente"
      ],
      "metadata": {
        "id": "uGR6BPHrkS1T"
      },
      "id": "uGR6BPHrkS1T"
    },
    {
      "cell_type": "code",
      "execution_count": null,
      "metadata": {
        "colab": {
          "base_uri": "https://localhost:8080/",
          "height": 281
        },
        "id": "NNRp4suK45JB",
        "outputId": "0b85fb09-050b-41ef-852a-bbf038780d50"
      },
      "outputs": [
        {
          "output_type": "display_data",
          "data": {
            "text/plain": [
              "<Figure size 432x288 with 1 Axes>"
            ],
            "image/png": "[encoded data removed]"
          },
          "metadata": {
            "needs_background": "light"
          }
        }
      ],
      "source": [
        "\n",
        "from scipy.stats import weibull_min\n",
        "\n",
        "plt.hist(new_df['Temperatura'], bins = np.arange(mini, \n",
        "                                           maxi+89,0.24), density=True, alpha=0.6, color='b')\n",
        "  \n",
        "\n",
        "a,b,l,s = 61127.574559804925, 3027.999838002188, -2765.568788110334, 2930.759460714764\n",
        "plt.xlim([15, 38])\n",
        "x = np.linspace(15, 38, 100)\n",
        "p = stats.beta.pdf(x, a, b,l,s)\n",
        "  \n",
        "plt.plot(x, p, 'k', linewidth=2)\n",
        "title = \"Valores: {:.2f} e {:.2f}\".format(mu, std)\n",
        "plt.title(title)\n",
        "  \n",
        "plt.show()"
      ],
      "id": "NNRp4suK45JB"
    },
    {
      "cell_type": "markdown",
      "source": [
        "### Cauchy\n",
        "#### O Módulo \"stats.cauchy.fit\" estima os parâmetros para a distribuição de Cauchy "
      ],
      "metadata": {
        "id": "xAPkP01WkkU1"
      },
      "id": "xAPkP01WkkU1"
    },
    {
      "cell_type": "code",
      "execution_count": null,
      "metadata": {
        "colab": {
          "base_uri": "https://localhost:8080/",
          "height": 281
        },
        "id": "s8ppamJ_4Par",
        "outputId": "637ca0d4-665a-4dd8-d23f-3644c5c84630"
      },
      "outputs": [
        {
          "output_type": "display_data",
          "data": {
            "text/plain": [
              "<Figure size 432x288 with 1 Axes>"
            ],
            "image/png": "[encoded data removed]"
          },
          "metadata": {
            "needs_background": "light"
          }
        }
      ],
      "source": [
        "#f(x)=1sπ(1+((x−t)/s)2)\n",
        "# T e S\n",
        "\n",
        "from scipy.stats import weibull_min\n",
        "mu, std = stats.cauchy.fit(new_df['Temperatura'])\n",
        "\n",
        "plt.hist(new_df['Temperatura'], bins = np.arange(mini, \n",
        "                                           maxi+89,0.24), density=True, alpha=0.6, color='b')\n",
        "  \n",
        "\n",
        "plt.xlim([15, 38])\n",
        "x = np.linspace(15, 38, 100)\n",
        "p = stats.cauchy.pdf(x, mu, std)\n",
        "  \n",
        "plt.plot(x, p, 'k', linewidth=2)\n",
        "title = \"Valores: {:.2f} e {:.2f}\".format(mu, std)\n",
        "plt.title(title)\n",
        "  \n",
        "plt.show()"
      ],
      "id": "s8ppamJ_4Par"
    },
    {
      "cell_type": "markdown",
      "source": [
        "# Testes Não paramêtricos"
      ],
      "metadata": {
        "id": "lEekAy7asIt4"
      },
      "id": "lEekAy7asIt4"
    },
    {
      "cell_type": "markdown",
      "metadata": {
        "id": "L6jdcpQwAsrs"
      },
      "source": [
        "## Teste Kolmogorov–Smirnov Para checar se os valores são adequados para a aplicação\n",
        "\n",
        "Ao aplicar o teste na população inteira, observou-se um empecilho aoencontrar o p value adqueado. Consultando outros materiais, foi possível descobrir que datasets com mais de 1000 valores acarretam na falha do teste. Para solucionar este problema, foi retirada uma amostra aleatória de 500 valores"
      ],
      "id": "L6jdcpQwAsrs"
    },
    {
      "cell_type": "markdown",
      "source": [
        "### Amostra com 500 Valores"
      ],
      "metadata": {
        "id": "ra13DBsYuG4D"
      },
      "id": "ra13DBsYuG4D"
    },
    {
      "cell_type": "code",
      "source": [
        "import random\n",
        "n = 500\n",
        "tmp = list(new_df['Temperatura'])\n",
        "amostra = random.sample(tmp, n)"
      ],
      "metadata": {
        "id": "61NqtYJ6NXTq"
      },
      "id": "61NqtYJ6NXTq",
      "execution_count": null,
      "outputs": []
    },
    {
      "cell_type": "code",
      "source": [
        "params1 = stats.norm.fit(amostra, floc=0)\n",
        "shape = params1[0]\n",
        "scale = params1[1]\n",
        "norma = [shape,scale]\n",
        "params2 = stats.beta.fit(amostra, floc=0, f0=1)\n",
        "shape2 = params2[1]\n",
        "scale2 = params2[3]\n",
        "beta = [shape2,scale2]\n",
        "params3 = stats.exponweib.fit(amostra, floc=0, f0=1)\n",
        "shape3 = params3[1]\n",
        "scale3 = params3[3]\n",
        "weib = [shape3,scale3]\n",
        "params4 = stats.cauchy.fit(amostra, floc=0)\n",
        "shape4 = params4[0]\n",
        "scale4 = params4[1]\n",
        "cauchy = [shape4,scale4]"
      ],
      "metadata": {
        "colab": {
          "base_uri": "https://localhost:8080/"
        },
        "id": "c14fS0drs_Pi",
        "outputId": "2021a2ab-58b6-4acf-b05c-38ed53777c70"
      },
      "id": "c14fS0drs_Pi",
      "execution_count": null,
      "outputs": [
        {
          "output_type": "stream",
          "name": "stderr",
          "text": [
            "/usr/local/lib/python3.7/dist-packages/scipy/stats/_continuous_distns.py:547: RuntimeWarning: invalid value encountered in sqrt\n",
            "  sk = 2*(b-a)*np.sqrt(a + b + 1) / (a + b + 2) / np.sqrt(a*b)\n",
            "/usr/local/lib/python3.7/dist-packages/scipy/optimize/minpack.py:162: RuntimeWarning: The iteration is not making good progress, as measured by the \n",
            "  improvement from the last ten iterations.\n",
            "  warnings.warn(msg, RuntimeWarning)\n"
          ]
        }
      ]
    },
    {
      "cell_type": "code",
      "source": [
        "params1 = stats.norm.fit(amostra)\n",
        "params2 = stats.beta.fit(amostra)\n",
        "params3 = stats.exponweib.fit(amostra)\n",
        "params4 = stats.cauchy.fit(amostra)"
      ],
      "metadata": {
        "id": "hPIcFbkZWlWa",
        "colab": {
          "base_uri": "https://localhost:8080/"
        },
        "outputId": "2a311cef-ed9c-4287-b4f2-bdf7129673b3"
      },
      "id": "hPIcFbkZWlWa",
      "execution_count": null,
      "outputs": [
        {
          "output_type": "stream",
          "name": "stderr",
          "text": [
            "/usr/local/lib/python3.7/dist-packages/scipy/stats/_continuous_distns.py:547: RuntimeWarning: invalid value encountered in sqrt\n",
            "  sk = 2*(b-a)*np.sqrt(a + b + 1) / (a + b + 2) / np.sqrt(a*b)\n",
            "/usr/local/lib/python3.7/dist-packages/scipy/optimize/minpack.py:162: RuntimeWarning: The iteration is not making good progress, as measured by the \n",
            "  improvement from the last ten iterations.\n",
            "  warnings.warn(msg, RuntimeWarning)\n",
            "/usr/local/lib/python3.7/dist-packages/scipy/stats/_continuous_distns.py:1608: RuntimeWarning: invalid value encountered in add\n",
            "  negxc + sc.xlogy(c - 1.0, x))\n"
          ]
        }
      ]
    },
    {
      "cell_type": "code",
      "source": [
        "n =stats.kstest(amostra, \"norm\", params1)\n",
        "n2 =stats.kstest(amostra, \"exponweib\", params3)\n",
        "n3 =stats.kstest(amostra, \"beta\", params2)\n",
        "n4 =stats.kstest(amostra, \"cauchy\", params4)\n",
        "print(n)\n",
        "print(n2)\n",
        "print(n3)\n",
        "print(n4)\n",
        "n[0]"
      ],
      "metadata": {
        "colab": {
          "base_uri": "https://localhost:8080/"
        },
        "id": "l0LO-4s4Tp7I",
        "outputId": "779c5282-ab79-427a-cb72-08e0d1c00871"
      },
      "id": "l0LO-4s4Tp7I",
      "execution_count": null,
      "outputs": [
        {
          "output_type": "stream",
          "name": "stdout",
          "text": [
            "KstestResult(statistic=0.04849042657127611, pvalue=0.18439018549697048)\n",
            "KstestResult(statistic=0.6895392855285971, pvalue=1.9447515273342524e-237)\n",
            "KstestResult(statistic=0.050823936647046264, pvalue=0.14599796704440876)\n",
            "KstestResult(statistic=0.07165770262745758, pvalue=0.011185867773430279)\n"
          ]
        },
        {
          "output_type": "execute_result",
          "data": {
            "text/plain": [
              "0.04849042657127611"
            ]
          },
          "metadata": {},
          "execution_count": 76
        }
      ]
    },
    {
      "cell_type": "code",
      "source": [
        "da = {'Dist':['Normal','Weibull','beta','cauchy'],\n",
        "    'stat':[n[0],n2[0],n3[0],n4[0]],\n",
        "    'pvalor':[n[1],n2[1],n3[1],n4[1]]}\n",
        "tableAmostra = pd.DataFrame(da)\n",
        "tableAmostra"
      ],
      "metadata": {
        "colab": {
          "base_uri": "https://localhost:8080/",
          "height": 175
        },
        "id": "UzH7bl2RuDQb",
        "outputId": "22d4c402-f4e2-464b-db22-80096813a6d0"
      },
      "id": "UzH7bl2RuDQb",
      "execution_count": null,
      "outputs": [
        {
          "output_type": "execute_result",
          "data": {
            "text/plain": [
              "      Dist      stat         pvalor\n",
              "0   Normal  0.048490   1.843902e-01\n",
              "1  Weibull  0.689539  1.944752e-237\n",
              "2     beta  0.050824   1.459980e-01\n",
              "3   cauchy  0.071658   1.118587e-02"
            ],
            "text/html": [
              "\n",
              "  <div id=\"df-7f394bdb-1f26-4d85-a578-4f6503df755a\">\n",
              "    <div class=\"colab-df-container\">\n",
              "      <div>\n",
              "<style scoped>\n",
              "    .dataframe tbody tr th:only-of-type {\n",
              "        vertical-align: middle;\n",
              "    }\n",
              "\n",
              "    .dataframe tbody tr th {\n",
              "        vertical-align: top;\n",
              "    }\n",
              "\n",
              "    .dataframe thead th {\n",
              "        text-align: right;\n",
              "    }\n",
              "</style>\n",
              "<table border=\"1\" class=\"dataframe\">\n",
              "  <thead>\n",
              "    <tr style=\"text-align: right;\">\n",
              "      <th></th>\n",
              "      <th>Dist</th>\n",
              "      <th>stat</th>\n",
              "      <th>pvalor</th>\n",
              "    </tr>\n",
              "  </thead>\n",
              "  <tbody>\n",
              "    <tr>\n",
              "      <th>0</th>\n",
              "      <td>Normal</td>\n",
              "      <td>0.048490</td>\n",
              "      <td>1.843902e-01</td>\n",
              "    </tr>\n",
              "    <tr>\n",
              "      <th>1</th>\n",
              "      <td>Weibull</td>\n",
              "      <td>0.689539</td>\n",
              "      <td>1.944752e-237</td>\n",
              "    </tr>\n",
              "    <tr>\n",
              "      <th>2</th>\n",
              "      <td>beta</td>\n",
              "      <td>0.050824</td>\n",
              "      <td>1.459980e-01</td>\n",
              "    </tr>\n",
              "    <tr>\n",
              "      <th>3</th>\n",
              "      <td>cauchy</td>\n",
              "      <td>0.071658</td>\n",
              "      <td>1.118587e-02</td>\n",
              "    </tr>\n",
              "  </tbody>\n",
              "</table>\n",
              "</div>\n",
              "      <button class=\"colab-df-convert\" onclick=\"convertToInteractive('df-7f394bdb-1f26-4d85-a578-4f6503df755a')\"\n",
              "              title=\"Convert this dataframe to an interactive table.\"\n",
              "              style=\"display:none;\">\n",
              "        \n",
              "  <svg xmlns=\"http://www.w3.org/2000/svg\" height=\"24px\"viewBox=\"0 0 24 24\"\n",
              "       width=\"24px\">\n",
              "    <path d=\"M0 0h24v24H0V0z\" fill=\"none\"/>\n",
              "    <path d=\"M18.56 5.44l.94 2.06.94-2.06 2.06-.94-2.06-.94-.94-2.06-.94 2.06-2.06.94zm-11 1L8.5 8.5l.94-2.06 2.06-.94-2.06-.94L8.5 2.5l-.94 2.06-2.06.94zm10 10l.94 2.06.94-2.06 2.06-.94-2.06-.94-.94-2.06-.94 2.06-2.06.94z\"/><path d=\"M17.41 7.96l-1.37-1.37c-.4-.4-.92-.59-1.43-.59-.52 0-1.04.2-1.43.59L10.3 9.45l-7.72 7.72c-.78.78-.78 2.05 0 2.83L4 21.41c.39.39.9.59 1.41.59.51 0 1.02-.2 1.41-.59l7.78-7.78 2.81-2.81c.8-.78.8-2.07 0-2.86zM5.41 20L4 18.59l7.72-7.72 1.47 1.35L5.41 20z\"/>\n",
              "  </svg>\n",
              "      </button>\n",
              "      \n",
              "  <style>\n",
              "    .colab-df-container {\n",
              "      display:flex;\n",
              "      flex-wrap:wrap;\n",
              "      gap: 12px;\n",
              "    }\n",
              "\n",
              "    .colab-df-convert {\n",
              "      background-color: #E8F0FE;\n",
              "      border: none;\n",
              "      border-radius: 50%;\n",
              "      cursor: pointer;\n",
              "      display: none;\n",
              "      fill: #1967D2;\n",
              "      height: 32px;\n",
              "      padding: 0 0 0 0;\n",
              "      width: 32px;\n",
              "    }\n",
              "\n",
              "    .colab-df-convert:hover {\n",
              "      background-color: #E2EBFA;\n",
              "      box-shadow: 0px 1px 2px rgba(60, 64, 67, 0.3), 0px 1px 3px 1px rgba(60, 64, 67, 0.15);\n",
              "      fill: #174EA6;\n",
              "    }\n",
              "\n",
              "    [theme=dark] .colab-df-convert {\n",
              "      background-color: #3B4455;\n",
              "      fill: #D2E3FC;\n",
              "    }\n",
              "\n",
              "    [theme=dark] .colab-df-convert:hover {\n",
              "      background-color: #434B5C;\n",
              "      box-shadow: 0px 1px 3px 1px rgba(0, 0, 0, 0.15);\n",
              "      filter: drop-shadow(0px 1px 2px rgba(0, 0, 0, 0.3));\n",
              "      fill: #FFFFFF;\n",
              "    }\n",
              "  </style>\n",
              "\n",
              "      <script>\n",
              "        const buttonEl =\n",
              "          document.querySelector('#df-7f394bdb-1f26-4d85-a578-4f6503df755a button.colab-df-convert');\n",
              "        buttonEl.style.display =\n",
              "          google.colab.kernel.accessAllowed ? 'block' : 'none';\n",
              "\n",
              "        async function convertToInteractive(key) {\n",
              "          const element = document.querySelector('#df-7f394bdb-1f26-4d85-a578-4f6503df755a');\n",
              "          const dataTable =\n",
              "            await google.colab.kernel.invokeFunction('convertToInteractive',\n",
              "                                                     [key], {});\n",
              "          if (!dataTable) return;\n",
              "\n",
              "          const docLinkHtml = 'Like what you see? Visit the ' +\n",
              "            '<a target=\"_blank\" href=https://colab.research.google.com/notebooks/data_table.ipynb>data table notebook</a>'\n",
              "            + ' to learn more about interactive tables.';\n",
              "          element.innerHTML = '';\n",
              "          dataTable['output_type'] = 'display_data';\n",
              "          await google.colab.output.renderOutput(dataTable, element);\n",
              "          const docLink = document.createElement('div');\n",
              "          docLink.innerHTML = docLinkHtml;\n",
              "          element.appendChild(docLink);\n",
              "        }\n",
              "      </script>\n",
              "    </div>\n",
              "  </div>\n",
              "  "
            ]
          },
          "metadata": {},
          "execution_count": 77
        }
      ]
    },
    {
      "cell_type": "code",
      "source": [
        "kstatnorm = tableAmostra.loc[tableAmostra['Dist'] == 'Normal', 'stat'].values[0]\n",
        "kstatwib = tableAmostra.loc[tableAmostra['Dist'] == 'Weibull', 'stat'].values[0]\n",
        "kstatbeta = tableAmostra.loc[tableAmostra['Dist'] == 'beta', 'stat'].values[0]\n",
        "kstatcauchy = tableAmostra.loc[tableAmostra['Dist'] == 'cauchy', 'stat'].values[0]\n",
        "kpvalnorm = tableAmostra.loc[tableAmostra['Dist'] == 'Normal', 'pvalor'].values[0]\n",
        "kpvalweib = tableAmostra.loc[tableAmostra['Dist'] == 'Weibull', 'pvalor'].values[0]\n",
        "kpvalbeta = tableAmostra.loc[tableAmostra['Dist'] == 'beta', 'pvalor'].values[0]\n",
        "kpvalcauchy = tableAmostra.loc[tableAmostra['Dist'] == 'cauchy', 'pvalor'].values[0]\n",
        "print(kstatwib)"
      ],
      "metadata": {
        "colab": {
          "base_uri": "https://localhost:8080/"
        },
        "id": "XaZ_ocAXz4CP",
        "outputId": "6278362c-abbf-405f-b89f-1e17c9edb638"
      },
      "id": "XaZ_ocAXz4CP",
      "execution_count": null,
      "outputs": [
        {
          "output_type": "stream",
          "name": "stdout",
          "text": [
            "0.6895392855285971\n"
          ]
        }
      ]
    },
    {
      "cell_type": "code",
      "source": [
        "print(f\"norm_a: ks = {kstatnorm:.4f} (p-value = {kpvalnorm:.3e}, É Normal = {kpvalnorm > 0.05})\")\n",
        "print(f\"norm_a: ks = {kstatwib:.4f} (p-value = {kpvalweib:.3e}, É Weibull = {kpvalweib > 0.05})\")\n",
        "print(f\"norm_a: ks = {kstatbeta:.4f} (p-value = {kpvalbeta:.3e}, É Beta = {kpvalbeta > 0.05})\")\n",
        "print(f\"norm_a: ks = {kstatcauchy:.4f} (p-value = {kpvalcauchy:.3e}, É Cauchy = {kpvalcauchy > 0.05})\")"
      ],
      "metadata": {
        "colab": {
          "base_uri": "https://localhost:8080/"
        },
        "id": "i67xRhLuzv7Y",
        "outputId": "463dc808-4c68-44a7-f713-083602433595"
      },
      "id": "i67xRhLuzv7Y",
      "execution_count": null,
      "outputs": [
        {
          "output_type": "stream",
          "name": "stdout",
          "text": [
            "norm_a: ks = 0.0485 (p-value = 1.844e-01, É Normal = True)\n",
            "norm_a: ks = 0.6895 (p-value = 1.945e-237, É Weibull = False)\n",
            "norm_a: ks = 0.0508 (p-value = 1.460e-01, É Beta = True)\n",
            "norm_a: ks = 0.0717 (p-value = 1.119e-02, É Cauchy = False)\n"
          ]
        }
      ]
    },
    {
      "cell_type": "markdown",
      "source": [
        "Calculando os Parâetros para cada uma das distribuições, obtendo os p values e os comparando com um nivel de siginificância de 5%, foi possível observar que as distribuições normal, weibull e Beta froam aceitas como hipótese nula, e apenas a Cauchy foi rejeitada."
      ],
      "metadata": {
        "id": "nhAD9iA67a98"
      },
      "id": "nhAD9iA67a98"
    },
    {
      "cell_type": "markdown",
      "source": [
        "### População Total"
      ],
      "metadata": {
        "id": "v0zbKHQMuPU7"
      },
      "id": "v0zbKHQMuPU7"
    },
    {
      "cell_type": "code",
      "execution_count": null,
      "metadata": {
        "id": "E2OOjYe9A_PM",
        "colab": {
          "base_uri": "https://localhost:8080/"
        },
        "outputId": "8e5f8cc1-da17-46ae-f096-acdfec1f4cbd"
      },
      "outputs": [
        {
          "output_type": "stream",
          "name": "stdout",
          "text": [
            "KstestResult(statistic=0.7671309022522869, pvalue=0.0)\n",
            "KstestResult(statistic=0.6885405614549962, pvalue=0.0)\n",
            "KstestResult(statistic=0.05608504645011958, pvalue=3.3579786962822093e-42)\n",
            "KstestResult(statistic=0.06663041065611586, pvalue=2.186592069377361e-59)\n"
          ]
        }
      ],
      "source": [
        "n =stats.kstest(new_df['Temperatura'], \"norm\", norma)\n",
        "n2 =stats.kstest(new_df['Temperatura'], \"exponweib\", params3)\n",
        "n3 =stats.kstest(new_df['Temperatura'], \"beta\", params2)\n",
        "n4 =stats.kstest(new_df['Temperatura'], \"cauchy\", params4)\n",
        "print(n)\n",
        "print(n2)\n",
        "print(n3)\n",
        "print(n4)\n"
      ],
      "id": "E2OOjYe9A_PM"
    },
    {
      "cell_type": "code",
      "source": [
        "da = {'Dist':['Normal','Weibull','beta','cauchy'],\n",
        "    'stat':[0.032150111036681306,0.06760749747472805,0.03393257876596534,0.06233659424417903],\n",
        "    'pvalor':[3.7469572152288435e-14,3.961321393188911e-61,1.021735836358775e-15,4.9443671929150416e-52]}\n",
        "table = pd.DataFrame(da)\n",
        "table"
      ],
      "metadata": {
        "id": "aB2SVpZe6yp8",
        "colab": {
          "base_uri": "https://localhost:8080/",
          "height": 239
        },
        "outputId": "f0654dd3-9bea-4a1d-9c4b-c65c2796582f"
      },
      "id": "aB2SVpZe6yp8",
      "execution_count": null,
      "outputs": [
        {
          "output_type": "execute_result",
          "data": {
            "text/plain": [
              "      Dist      stat        pvalor\n",
              "0   Normal  0.032150  3.746957e-14\n",
              "1  Weibull  0.067607  3.961321e-61\n",
              "2     beta  0.033933  1.021736e-15\n",
              "3   cauchy  0.062337  4.944367e-52"
            ],
            "text/html": [
              "\n",
              "  <div id=\"df-7bac5ddf-60e5-4127-99c2-6ad90ec33f7e\">\n",
              "    <div class=\"colab-df-container\">\n",
              "      <div>\n",
              "<style scoped>\n",
              "    .dataframe tbody tr th:only-of-type {\n",
              "        vertical-align: middle;\n",
              "    }\n",
              "\n",
              "    .dataframe tbody tr th {\n",
              "        vertical-align: top;\n",
              "    }\n",
              "\n",
              "    .dataframe thead th {\n",
              "        text-align: right;\n",
              "    }\n",
              "</style>\n",
              "<table border=\"1\" class=\"dataframe\">\n",
              "  <thead>\n",
              "    <tr style=\"text-align: right;\">\n",
              "      <th></th>\n",
              "      <th>Dist</th>\n",
              "      <th>stat</th>\n",
              "      <th>pvalor</th>\n",
              "    </tr>\n",
              "  </thead>\n",
              "  <tbody>\n",
              "    <tr>\n",
              "      <th>0</th>\n",
              "      <td>Normal</td>\n",
              "      <td>0.032150</td>\n",
              "      <td>3.746957e-14</td>\n",
              "    </tr>\n",
              "    <tr>\n",
              "      <th>1</th>\n",
              "      <td>Weibull</td>\n",
              "      <td>0.067607</td>\n",
              "      <td>3.961321e-61</td>\n",
              "    </tr>\n",
              "    <tr>\n",
              "      <th>2</th>\n",
              "      <td>beta</td>\n",
              "      <td>0.033933</td>\n",
              "      <td>1.021736e-15</td>\n",
              "    </tr>\n",
              "    <tr>\n",
              "      <th>3</th>\n",
              "      <td>cauchy</td>\n",
              "      <td>0.062337</td>\n",
              "      <td>4.944367e-52</td>\n",
              "    </tr>\n",
              "  </tbody>\n",
              "</table>\n",
              "</div>\n",
              "      <button class=\"colab-df-convert\" onclick=\"convertToInteractive('df-7bac5ddf-60e5-4127-99c2-6ad90ec33f7e')\"\n",
              "              title=\"Convert this dataframe to an interactive table.\"\n",
              "              style=\"display:none;\">\n",
              "        \n",
              "  <svg xmlns=\"http://www.w3.org/2000/svg\" height=\"24px\"viewBox=\"0 0 24 24\"\n",
              "       width=\"24px\">\n",
              "    <path d=\"M0 0h24v24H0V0z\" fill=\"none\"/>\n",
              "    <path d=\"M18.56 5.44l.94 2.06.94-2.06 2.06-.94-2.06-.94-.94-2.06-.94 2.06-2.06.94zm-11 1L8.5 8.5l.94-2.06 2.06-.94-2.06-.94L8.5 2.5l-.94 2.06-2.06.94zm10 10l.94 2.06.94-2.06 2.06-.94-2.06-.94-.94-2.06-.94 2.06-2.06.94z\"/><path d=\"M17.41 7.96l-1.37-1.37c-.4-.4-.92-.59-1.43-.59-.52 0-1.04.2-1.43.59L10.3 9.45l-7.72 7.72c-.78.78-.78 2.05 0 2.83L4 21.41c.39.39.9.59 1.41.59.51 0 1.02-.2 1.41-.59l7.78-7.78 2.81-2.81c.8-.78.8-2.07 0-2.86zM5.41 20L4 18.59l7.72-7.72 1.47 1.35L5.41 20z\"/>\n",
              "  </svg>\n",
              "      </button>\n",
              "      \n",
              "  <style>\n",
              "    .colab-df-container {\n",
              "      display:flex;\n",
              "      flex-wrap:wrap;\n",
              "      gap: 12px;\n",
              "    }\n",
              "\n",
              "    .colab-df-convert {\n",
              "      background-color: #E8F0FE;\n",
              "      border: none;\n",
              "      border-radius: 50%;\n",
              "      cursor: pointer;\n",
              "      display: none;\n",
              "      fill: #1967D2;\n",
              "      height: 32px;\n",
              "      padding: 0 0 0 0;\n",
              "      width: 32px;\n",
              "    }\n",
              "\n",
              "    .colab-df-convert:hover {\n",
              "      background-color: #E2EBFA;\n",
              "      box-shadow: 0px 1px 2px rgba(60, 64, 67, 0.3), 0px 1px 3px 1px rgba(60, 64, 67, 0.15);\n",
              "      fill: #174EA6;\n",
              "    }\n",
              "\n",
              "    [theme=dark] .colab-df-convert {\n",
              "      background-color: #3B4455;\n",
              "      fill: #D2E3FC;\n",
              "    }\n",
              "\n",
              "    [theme=dark] .colab-df-convert:hover {\n",
              "      background-color: #434B5C;\n",
              "      box-shadow: 0px 1px 3px 1px rgba(0, 0, 0, 0.15);\n",
              "      filter: drop-shadow(0px 1px 2px rgba(0, 0, 0, 0.3));\n",
              "      fill: #FFFFFF;\n",
              "    }\n",
              "  </style>\n",
              "\n",
              "      <script>\n",
              "        const buttonEl =\n",
              "          document.querySelector('#df-7bac5ddf-60e5-4127-99c2-6ad90ec33f7e button.colab-df-convert');\n",
              "        buttonEl.style.display =\n",
              "          google.colab.kernel.accessAllowed ? 'block' : 'none';\n",
              "\n",
              "        async function convertToInteractive(key) {\n",
              "          const element = document.querySelector('#df-7bac5ddf-60e5-4127-99c2-6ad90ec33f7e');\n",
              "          const dataTable =\n",
              "            await google.colab.kernel.invokeFunction('convertToInteractive',\n",
              "                                                     [key], {});\n",
              "          if (!dataTable) return;\n",
              "\n",
              "          const docLinkHtml = 'Like what you see? Visit the ' +\n",
              "            '<a target=\"_blank\" href=https://colab.research.google.com/notebooks/data_table.ipynb>data table notebook</a>'\n",
              "            + ' to learn more about interactive tables.';\n",
              "          element.innerHTML = '';\n",
              "          dataTable['output_type'] = 'display_data';\n",
              "          await google.colab.output.renderOutput(dataTable, element);\n",
              "          const docLink = document.createElement('div');\n",
              "          docLink.innerHTML = docLinkHtml;\n",
              "          element.appendChild(docLink);\n",
              "        }\n",
              "      </script>\n",
              "    </div>\n",
              "  </div>\n",
              "  "
            ]
          },
          "metadata": {},
          "execution_count": 81
        }
      ]
    },
    {
      "cell_type": "markdown",
      "source": [
        "![picture](https://drive.google.com/uc?id=1Iy67K7UFWTpDlGDJZ_J-lUtSAk6xpYq7)"
      ],
      "metadata": {
        "id": "QZN2PYF4Q3Jz"
      },
      "id": "QZN2PYF4Q3Jz"
    },
    {
      "cell_type": "code",
      "source": [
        "res_norm = 1.36/(15290**(0.5))\n",
        "norm_dif = 0.032150111036681306 - res_norm\n",
        "weib_dif = 0.06760749747472805 - res_norm\n",
        "beta_dif = 0.03393257876596534 - res_norm\n",
        "cauchy_dif = 0.03393257876596534 - res_norm\n",
        "print('Norm:',norm_dif)\n",
        "print('weib:',weib_dif)\n",
        "print('beta:',beta_dif)\n",
        "print('cauchy:',cauchy_dif)"
      ],
      "metadata": {
        "id": "ggw6Zj1paZ2C",
        "colab": {
          "base_uri": "https://localhost:8080/"
        },
        "outputId": "e72775f7-9179-4f2a-b509-f88f8a52eeef"
      },
      "id": "ggw6Zj1paZ2C",
      "execution_count": null,
      "outputs": [
        {
          "output_type": "stream",
          "name": "stdout",
          "text": [
            "Norm: 0.02115156781903657\n",
            "weib: 0.056608954257083316\n",
            "beta: 0.022934035548320603\n",
            "cauchy: 0.022934035548320603\n"
          ]
        }
      ]
    },
    {
      "cell_type": "code",
      "source": [
        "def kolmogorov_smirnov_critico(data):\n",
        "    n = len(data)\n",
        "    if n <= 40:\n",
        "        # valores entre 1 e 40\n",
        "        kolmogorov_critico = [0.97500, 0.84189, 0.70760, 0.62394, 0.56328, 0.51926, 0.48342, 0.45427, 0.43001, 0.40925, \n",
        "                      0.39122, 0.37543, 0.36143, 0.34890, 0.33760, 0.32733, 0.31796, 0.30936, 0.30143, 0.29408, \n",
        "                      0.28724, 0.28087, 0.27490, 0.26931, 0.26404, 0.25907, 0.25438, 0.24993, 0.24571, 0.24170, \n",
        "                      0.23788, 0.23424, 0.23076, 0.22743, 0.22425, 0.22119, 0.21826, 0.21544, 0.21273, 0.21012]\n",
        "        ks_critico = kolmogorov_critico[n - 1]\n",
        "    elif n > 40:\n",
        "        # valores acima de 40:\n",
        "        kolmogorov_critico = 1.36/(np.sqrt(n))\n",
        "        ks_critico = kolmogorov_critico\n",
        "    else:\n",
        "        pass            \n",
        "            \n",
        "    return ks_critico"
      ],
      "metadata": {
        "id": "8wzcfaGL1sMJ"
      },
      "id": "8wzcfaGL1sMJ",
      "execution_count": null,
      "outputs": []
    },
    {
      "cell_type": "code",
      "source": [
        "kolmogorov_smirnov_critico(new_df)"
      ],
      "metadata": {
        "id": "HqIGd9zi19VM",
        "colab": {
          "base_uri": "https://localhost:8080/"
        },
        "outputId": "e924a5cc-7f66-4be0-e6e6-9a08d93ef0ce"
      },
      "id": "HqIGd9zi19VM",
      "execution_count": null,
      "outputs": [
        {
          "output_type": "execute_result",
          "data": {
            "text/plain": [
              "0.010998543217644733"
            ]
          },
          "metadata": {},
          "execution_count": 84
        }
      ]
    },
    {
      "cell_type": "code",
      "source": [
        "m = np.mean(amostra)\n",
        "std = np.std(amostra,ddof=1)\n",
        "ks_stat,ks_p_valor = stats.kstest(amostra,cdf='norm',args=(m,std),N=len(new_df))\n",
        "print(ks_stat,ks_p_valor)"
      ],
      "metadata": {
        "id": "tRqpaVfK3LWK",
        "colab": {
          "base_uri": "https://localhost:8080/"
        },
        "outputId": "faffd265-01ee-4546-85b8-75db156a11a8"
      },
      "id": "tRqpaVfK3LWK",
      "execution_count": null,
      "outputs": [
        {
          "output_type": "stream",
          "name": "stdout",
          "text": [
            "0.048710914444411835 0.18045150799742718\n"
          ]
        }
      ]
    },
    {
      "cell_type": "code",
      "source": [
        "print(f\"norm_a: ks = {ks_stat:.4f} (p-value = {ks_p_valor:.3e}, is normal = {4.585401e-08 > 0.05})\")"
      ],
      "metadata": {
        "id": "OpSZ0NKoxZre",
        "colab": {
          "base_uri": "https://localhost:8080/"
        },
        "outputId": "a56bfe6f-1721-4aac-d40d-7e05cee65441"
      },
      "id": "OpSZ0NKoxZre",
      "execution_count": null,
      "outputs": [
        {
          "output_type": "stream",
          "name": "stdout",
          "text": [
            "norm_a: ks = 0.0487 (p-value = 1.805e-01, is normal = False)\n"
          ]
        }
      ]
    },
    {
      "cell_type": "markdown",
      "source": [
        "Qui Quadrado:"
      ],
      "metadata": {
        "id": "4n2hdxOI_68i"
      },
      "id": "4n2hdxOI_68i"
    },
    {
      "cell_type": "code",
      "source": [
        "from scipy.stats import chi2_contingency\n",
        "c, p_valor, graus_de_liberdade, experado = chi2_contingency(new_df['Temperatura'], 'norm') \n",
        "print(p_valor)"
      ],
      "metadata": {
        "id": "ABzHwNP5_6La",
        "colab": {
          "base_uri": "https://localhost:8080/"
        },
        "outputId": "cf470204-016b-48fd-c4a2-6889299c8974"
      },
      "id": "ABzHwNP5_6La",
      "execution_count": null,
      "outputs": [
        {
          "output_type": "stream",
          "name": "stdout",
          "text": [
            "1.0\n"
          ]
        }
      ]
    },
    {
      "cell_type": "code",
      "source": [
        "stat, p, dof, exp= chi2_contingency(new_df['Temperatura']) \n",
        " \n",
        "print(dof)\n",
        " \n",
        "significance_level = 0.05\n",
        "print(\"p valor: \" + str(p)) \n",
        "if p <= significance_level: \n",
        "    print('Rejeitar Hipótese Nula') \n",
        "else: \n",
        "    print('Aceitar Hipótese Nula') "
      ],
      "metadata": {
        "id": "jAcdL_2JCHRL",
        "colab": {
          "base_uri": "https://localhost:8080/"
        },
        "outputId": "c74bf8d6-029c-4825-8197-f7c978227204"
      },
      "id": "jAcdL_2JCHRL",
      "execution_count": null,
      "outputs": [
        {
          "output_type": "stream",
          "name": "stdout",
          "text": [
            "0\n",
            "p valor: 1.0\n",
            "Aceitar Hipótese Nula\n"
          ]
        }
      ]
    },
    {
      "cell_type": "markdown",
      "source": [
        "## T de Student"
      ],
      "metadata": {
        "id": "wn64eMcmODCj"
      },
      "id": "wn64eMcmODCj"
    },
    {
      "cell_type": "code",
      "source": [
        "import scipy.stats as stats\n",
        "import pandas as pd\n",
        "\n",
        "popmean = np.mean(new_df['Temperatura'])\n",
        "t_statistic, p_value = stats.ttest_1samp(a=new_df['Temperatura'], popmean=popmean)\n",
        "print(t_statistic , p_value)"
      ],
      "metadata": {
        "id": "yO7QbcCXNcCT",
        "colab": {
          "base_uri": "https://localhost:8080/"
        },
        "outputId": "37a78da3-d6f7-438d-dcb4-9370722e821a"
      },
      "id": "yO7QbcCXNcCT",
      "execution_count": null,
      "outputs": [
        {
          "output_type": "stream",
          "name": "stdout",
          "text": [
            "0.0 1.0\n"
          ]
        }
      ]
    },
    {
      "cell_type": "markdown",
      "source": [
        "#### Notas:\n",
        "\n",
        "Valor esperado é a probabilidade do evento * o tamanho total da amostra \n"
      ],
      "metadata": {
        "id": "xAqVfvRx2XA5"
      },
      "id": "xAqVfvRx2XA5"
    },
    {
      "cell_type": "markdown",
      "source": [
        "## Anderson"
      ],
      "metadata": {
        "id": "StYbuFKQWA5Z"
      },
      "id": "StYbuFKQWA5Z"
    },
    {
      "cell_type": "code",
      "source": [
        "import scipy.stats as stats\n",
        "stat , cv, sl = stats.anderson(amostra, dist='norm')\n",
        "print(stat,cv,sl)"
      ],
      "metadata": {
        "colab": {
          "base_uri": "https://localhost:8080/"
        },
        "id": "aQQ6Q3dq43a8",
        "outputId": "5fc46cfc-d0d9-4c77-dfee-1792a034d96d"
      },
      "id": "aQQ6Q3dq43a8",
      "execution_count": null,
      "outputs": [
        {
          "output_type": "stream",
          "name": "stdout",
          "text": [
            "1.2333152170808717 [0.571 0.651 0.781 0.911 1.083] [15.  10.   5.   2.5  1. ]\n"
          ]
        }
      ]
    },
    {
      "cell_type": "code",
      "source": [
        "for i in sl:\n",
        "  ind = list(sl).index(i)\n",
        "  print(\" Em um nivel de significancia de {}:\".format(i))\n",
        "  if stat > cv[ind]:\n",
        "    print(\"Hipotese Nula Rejeitada\")\n",
        "  else:\n",
        "    print(\"Hipotese Nula Aceita\")"
      ],
      "metadata": {
        "colab": {
          "base_uri": "https://localhost:8080/"
        },
        "id": "kMfBHPGTkoLq",
        "outputId": "18020dc5-2c5d-4334-e2be-22c94d68533d"
      },
      "id": "kMfBHPGTkoLq",
      "execution_count": null,
      "outputs": [
        {
          "output_type": "stream",
          "name": "stdout",
          "text": [
            " Em um nivel de significancia de 15.0:\n",
            "Hipotese Nula Rejeitada\n",
            " Em um nivel de significancia de 10.0:\n",
            "Hipotese Nula Rejeitada\n",
            " Em um nivel de significancia de 5.0:\n",
            "Hipotese Nula Rejeitada\n",
            " Em um nivel de significancia de 2.5:\n",
            "Hipotese Nula Rejeitada\n",
            " Em um nivel de significancia de 1.0:\n",
            "Hipotese Nula Rejeitada\n"
          ]
        }
      ]
    },
    {
      "cell_type": "markdown",
      "source": [
        "## Chi Squared\n",
        "Para realizar o teste Chi Square, foi necessário reagrupar as clásses uma vez que 20% delas possuiam uma frequencia de valores menor que 5, distorcendo o resultado do p valor."
      ],
      "metadata": {
        "id": "1VqYh_D9yanK"
      },
      "id": "1VqYh_D9yanK"
    },
    {
      "cell_type": "markdown",
      "source": [
        "### DropPing"
      ],
      "metadata": {
        "id": "7e208LiE9WRw"
      },
      "id": "7e208LiE9WRw"
    },
    {
      "cell_type": "code",
      "source": [
        "new_amostra = amostra.copy()"
      ],
      "metadata": {
        "id": "NEkweVkS7yQD"
      },
      "id": "NEkweVkS7yQD",
      "execution_count": null,
      "outputs": []
    },
    {
      "cell_type": "code",
      "source": [
        "from collections import Counter\n",
        "a = (Counter(amostra).keys()) \n",
        "b = (Counter(amostra).values())\n",
        "conty = {\"Values\":a,\"Count\":b}\n",
        "conty = pd.DataFrame(conty)\n",
        "conty"
      ],
      "metadata": {
        "id": "YyPyD9hWQTpU"
      },
      "id": "YyPyD9hWQTpU",
      "execution_count": null,
      "outputs": []
    },
    {
      "cell_type": "code",
      "source": [
        "Probability = []\n",
        "for i in conty['Count']:\n",
        "  Probability.append(i/500)\n",
        "cont = {\"Values\":a,\"Count\":b,\"Probability\":Probability}\n",
        "cont = pd.DataFrame(cont)\n",
        "cont"
      ],
      "metadata": {
        "id": "UY30N-csTKqK",
        "colab": {
          "base_uri": "https://localhost:8080/",
          "height": 488
        },
        "outputId": "b964edee-a104-4877-f626-6e281c1280d4"
      },
      "id": "UY30N-csTKqK",
      "execution_count": null,
      "outputs": [
        {
          "output_type": "execute_result",
          "data": {
            "text/plain": [
              "     Values  Count  Probability\n",
              "0      23.4      5        0.010\n",
              "1      29.6      8        0.016\n",
              "2      25.6     10        0.020\n",
              "3      25.3      7        0.014\n",
              "4      27.3      6        0.012\n",
              "..      ...    ...          ...\n",
              "109    34.7      1        0.002\n",
              "110    22.1      2        0.004\n",
              "111    30.9      1        0.002\n",
              "112    21.2      1        0.002\n",
              "113    23.5      1        0.002\n",
              "\n",
              "[114 rows x 3 columns]"
            ],
            "text/html": [
              "\n",
              "  <div id=\"df-5c4e2f1f-051c-43c3-af5d-e0903f29fd65\">\n",
              "    <div class=\"colab-df-container\">\n",
              "      <div>\n",
              "<style scoped>\n",
              "    .dataframe tbody tr th:only-of-type {\n",
              "        vertical-align: middle;\n",
              "    }\n",
              "\n",
              "    .dataframe tbody tr th {\n",
              "        vertical-align: top;\n",
              "    }\n",
              "\n",
              "    .dataframe thead th {\n",
              "        text-align: right;\n",
              "    }\n",
              "</style>\n",
              "<table border=\"1\" class=\"dataframe\">\n",
              "  <thead>\n",
              "    <tr style=\"text-align: right;\">\n",
              "      <th></th>\n",
              "      <th>Values</th>\n",
              "      <th>Count</th>\n",
              "      <th>Probability</th>\n",
              "    </tr>\n",
              "  </thead>\n",
              "  <tbody>\n",
              "    <tr>\n",
              "      <th>0</th>\n",
              "      <td>23.4</td>\n",
              "      <td>5</td>\n",
              "      <td>0.010</td>\n",
              "    </tr>\n",
              "    <tr>\n",
              "      <th>1</th>\n",
              "      <td>29.6</td>\n",
              "      <td>8</td>\n",
              "      <td>0.016</td>\n",
              "    </tr>\n",
              "    <tr>\n",
              "      <th>2</th>\n",
              "      <td>25.6</td>\n",
              "      <td>10</td>\n",
              "      <td>0.020</td>\n",
              "    </tr>\n",
              "    <tr>\n",
              "      <th>3</th>\n",
              "      <td>25.3</td>\n",
              "      <td>7</td>\n",
              "      <td>0.014</td>\n",
              "    </tr>\n",
              "    <tr>\n",
              "      <th>4</th>\n",
              "      <td>27.3</td>\n",
              "      <td>6</td>\n",
              "      <td>0.012</td>\n",
              "    </tr>\n",
              "    <tr>\n",
              "      <th>...</th>\n",
              "      <td>...</td>\n",
              "      <td>...</td>\n",
              "      <td>...</td>\n",
              "    </tr>\n",
              "    <tr>\n",
              "      <th>109</th>\n",
              "      <td>34.7</td>\n",
              "      <td>1</td>\n",
              "      <td>0.002</td>\n",
              "    </tr>\n",
              "    <tr>\n",
              "      <th>110</th>\n",
              "      <td>22.1</td>\n",
              "      <td>2</td>\n",
              "      <td>0.004</td>\n",
              "    </tr>\n",
              "    <tr>\n",
              "      <th>111</th>\n",
              "      <td>30.9</td>\n",
              "      <td>1</td>\n",
              "      <td>0.002</td>\n",
              "    </tr>\n",
              "    <tr>\n",
              "      <th>112</th>\n",
              "      <td>21.2</td>\n",
              "      <td>1</td>\n",
              "      <td>0.002</td>\n",
              "    </tr>\n",
              "    <tr>\n",
              "      <th>113</th>\n",
              "      <td>23.5</td>\n",
              "      <td>1</td>\n",
              "      <td>0.002</td>\n",
              "    </tr>\n",
              "  </tbody>\n",
              "</table>\n",
              "<p>114 rows × 3 columns</p>\n",
              "</div>\n",
              "      <button class=\"colab-df-convert\" onclick=\"convertToInteractive('df-5c4e2f1f-051c-43c3-af5d-e0903f29fd65')\"\n",
              "              title=\"Convert this dataframe to an interactive table.\"\n",
              "              style=\"display:none;\">\n",
              "        \n",
              "  <svg xmlns=\"http://www.w3.org/2000/svg\" height=\"24px\"viewBox=\"0 0 24 24\"\n",
              "       width=\"24px\">\n",
              "    <path d=\"M0 0h24v24H0V0z\" fill=\"none\"/>\n",
              "    <path d=\"M18.56 5.44l.94 2.06.94-2.06 2.06-.94-2.06-.94-.94-2.06-.94 2.06-2.06.94zm-11 1L8.5 8.5l.94-2.06 2.06-.94-2.06-.94L8.5 2.5l-.94 2.06-2.06.94zm10 10l.94 2.06.94-2.06 2.06-.94-2.06-.94-.94-2.06-.94 2.06-2.06.94z\"/><path d=\"M17.41 7.96l-1.37-1.37c-.4-.4-.92-.59-1.43-.59-.52 0-1.04.2-1.43.59L10.3 9.45l-7.72 7.72c-.78.78-.78 2.05 0 2.83L4 21.41c.39.39.9.59 1.41.59.51 0 1.02-.2 1.41-.59l7.78-7.78 2.81-2.81c.8-.78.8-2.07 0-2.86zM5.41 20L4 18.59l7.72-7.72 1.47 1.35L5.41 20z\"/>\n",
              "  </svg>\n",
              "      </button>\n",
              "      \n",
              "  <style>\n",
              "    .colab-df-container {\n",
              "      display:flex;\n",
              "      flex-wrap:wrap;\n",
              "      gap: 12px;\n",
              "    }\n",
              "\n",
              "    .colab-df-convert {\n",
              "      background-color: #E8F0FE;\n",
              "      border: none;\n",
              "      border-radius: 50%;\n",
              "      cursor: pointer;\n",
              "      display: none;\n",
              "      fill: #1967D2;\n",
              "      height: 32px;\n",
              "      padding: 0 0 0 0;\n",
              "      width: 32px;\n",
              "    }\n",
              "\n",
              "    .colab-df-convert:hover {\n",
              "      background-color: #E2EBFA;\n",
              "      box-shadow: 0px 1px 2px rgba(60, 64, 67, 0.3), 0px 1px 3px 1px rgba(60, 64, 67, 0.15);\n",
              "      fill: #174EA6;\n",
              "    }\n",
              "\n",
              "    [theme=dark] .colab-df-convert {\n",
              "      background-color: #3B4455;\n",
              "      fill: #D2E3FC;\n",
              "    }\n",
              "\n",
              "    [theme=dark] .colab-df-convert:hover {\n",
              "      background-color: #434B5C;\n",
              "      box-shadow: 0px 1px 3px 1px rgba(0, 0, 0, 0.15);\n",
              "      filter: drop-shadow(0px 1px 2px rgba(0, 0, 0, 0.3));\n",
              "      fill: #FFFFFF;\n",
              "    }\n",
              "  </style>\n",
              "\n",
              "      <script>\n",
              "        const buttonEl =\n",
              "          document.querySelector('#df-5c4e2f1f-051c-43c3-af5d-e0903f29fd65 button.colab-df-convert');\n",
              "        buttonEl.style.display =\n",
              "          google.colab.kernel.accessAllowed ? 'block' : 'none';\n",
              "\n",
              "        async function convertToInteractive(key) {\n",
              "          const element = document.querySelector('#df-5c4e2f1f-051c-43c3-af5d-e0903f29fd65');\n",
              "          const dataTable =\n",
              "            await google.colab.kernel.invokeFunction('convertToInteractive',\n",
              "                                                     [key], {});\n",
              "          if (!dataTable) return;\n",
              "\n",
              "          const docLinkHtml = 'Like what you see? Visit the ' +\n",
              "            '<a target=\"_blank\" href=https://colab.research.google.com/notebooks/data_table.ipynb>data table notebook</a>'\n",
              "            + ' to learn more about interactive tables.';\n",
              "          element.innerHTML = '';\n",
              "          dataTable['output_type'] = 'display_data';\n",
              "          await google.colab.output.renderOutput(dataTable, element);\n",
              "          const docLink = document.createElement('div');\n",
              "          docLink.innerHTML = docLinkHtml;\n",
              "          element.appendChild(docLink);\n",
              "        }\n",
              "      </script>\n",
              "    </div>\n",
              "  </div>\n",
              "  "
            ]
          },
          "metadata": {},
          "execution_count": 94
        }
      ]
    },
    {
      "cell_type": "code",
      "source": [
        "prod = []\n",
        "for n1,n2 in zip(a,Probability):\n",
        "  prod.append(n1*n2)\n",
        "s = sum(prod)\n",
        "s"
      ],
      "metadata": {
        "id": "U0po5IIvU6sP",
        "colab": {
          "base_uri": "https://localhost:8080/"
        },
        "outputId": "cbb7512c-bba3-423a-ef38-6ae326a9418f"
      },
      "id": "U0po5IIvU6sP",
      "execution_count": null,
      "outputs": [
        {
          "output_type": "execute_result",
          "data": {
            "text/plain": [
              "27.022400000000008"
            ]
          },
          "metadata": {},
          "execution_count": 95
        }
      ]
    },
    {
      "cell_type": "code",
      "source": [
        "stats.chisquare(f_obs=amostra, f_exp=s)"
      ],
      "metadata": {
        "id": "-jeGeHZIc5oi",
        "colab": {
          "base_uri": "https://localhost:8080/"
        },
        "outputId": "ce2ce525-1cd2-4b98-c633-a80a86b1f8dd"
      },
      "id": "-jeGeHZIc5oi",
      "execution_count": null,
      "outputs": [
        {
          "output_type": "execute_result",
          "data": {
            "text/plain": [
              "Power_divergenceResult(statistic=121.50397892119128, pvalue=1.0)"
            ]
          },
          "metadata": {},
          "execution_count": 96
        }
      ]
    },
    {
      "cell_type": "markdown",
      "source": [
        "### Grouping"
      ],
      "metadata": {
        "id": "5QXcFTEz9ZiD"
      },
      "id": "5QXcFTEz9ZiD"
    },
    {
      "cell_type": "markdown",
      "source": [
        "A função abaixo procura pelos valores mais próximos que possuem uma frequencia maior que cinco após a operação de agrupar, e caso seja positivo, realiza de fato o agrupamento."
      ],
      "metadata": {
        "id": "hBBLNzrO8QHG"
      },
      "id": "hBBLNzrO8QHG"
    },
    {
      "cell_type": "code",
      "source": [
        "def grouobyneighbors(df):\n",
        "  sample = []\n",
        "  for i in df:\n",
        "    if df.count(i) < 5:\n",
        "      if df.count(i+0.1) + 1 > 5:\n",
        "        sample.append(i+0.1)\n",
        "      elif df.count(i-0.1) +1 > 5:\n",
        "        sample.append(i-0.1)\n",
        "      elif df.count(i+0.2) + 1 > 5:\n",
        "        sample.append(i+0.2)\n",
        "      elif df.count(i-0.2) +1 > 5:\n",
        "        sample.append(i-0.2)\n",
        "    else:\n",
        "      sample.append(i)\n",
        "  return sample\n",
        "grouobyneighbors(new_amostra)"
      ],
      "metadata": {
        "id": "YpHwH7Up9URh"
      },
      "id": "YpHwH7Up9URh",
      "execution_count": null,
      "outputs": []
    },
    {
      "cell_type": "code",
      "source": [
        "sample = grouobyneighbors(new_amostra)\n",
        "sample"
      ],
      "metadata": {
        "id": "VjZGAhk545mg"
      },
      "id": "VjZGAhk545mg",
      "execution_count": null,
      "outputs": []
    },
    {
      "cell_type": "code",
      "source": [
        "a2 = (Counter(sample).keys()) \n",
        "b2 = (Counter(sample).values())\n",
        "conty2 = {\"Values\":a2,\"Count\":b2}\n",
        "conty2 = pd.DataFrame(conty2)\n",
        "conty2"
      ],
      "metadata": {
        "id": "1AK7pYXu5QvR"
      },
      "id": "1AK7pYXu5QvR",
      "execution_count": null,
      "outputs": []
    },
    {
      "cell_type": "code",
      "source": [
        "Probability2 = []\n",
        "for i in conty2['Count']:\n",
        "  Probability2.append(i/500)\n",
        "cont2 = {\"Values\":a2,\"Count\":b2,\"Probability\":Probability2}\n",
        "cont2 = pd.DataFrame(cont2)\n",
        "cont2"
      ],
      "metadata": {
        "id": "1a6hBpLs5Z6n"
      },
      "id": "1a6hBpLs5Z6n",
      "execution_count": null,
      "outputs": []
    },
    {
      "cell_type": "code",
      "source": [
        "prod2 = []\n",
        "for n1,n2 in zip(a2,Probability2):\n",
        "  prod2.append(n1*n2)\n",
        "s2 = sum(prod2)\n",
        "s2"
      ],
      "metadata": {
        "id": "b35jME8t5ukA",
        "colab": {
          "base_uri": "https://localhost:8080/"
        },
        "outputId": "caa5edf6-ce8c-4c7c-83f9-af4852cbb347"
      },
      "id": "b35jME8t5ukA",
      "execution_count": null,
      "outputs": [
        {
          "output_type": "execute_result",
          "data": {
            "text/plain": [
              "24.696999999999996"
            ]
          },
          "metadata": {},
          "execution_count": 31
        }
      ]
    },
    {
      "cell_type": "code",
      "source": [
        "def calc_Expectation(sample):\n",
        "    a2 = (Counter(sample).keys()) \n",
        "    b2 = (Counter(sample).values())\n",
        "    conty2 = {\"Values\":a2,\"Count\":b2}\n",
        "    conty2 = pd.DataFrame(conty2)\n",
        "    Probability2 = []\n",
        "    for i in conty2['Count']:\n",
        "      Probability2.append(i/500)\n",
        "    cont2 = {\"Values\":a2,\"Count\":b2,\"Probability\":Probability2}\n",
        "    cont2 = pd.DataFrame(cont2)\n",
        "    prod2 = []\n",
        "    for n1,n2 in zip(a2,Probability2):\n",
        "      prod2.append(n1*n2)\n",
        "    s2 = sum(prod2)\n",
        "         \n",
        "    return float(s2)"
      ],
      "metadata": {
        "id": "hx37eZEiX5UL"
      },
      "id": "hx37eZEiX5UL",
      "execution_count": null,
      "outputs": []
    },
    {
      "cell_type": "code",
      "source": [
        "fd = calc_Expectation(sample)\n",
        "fd"
      ],
      "metadata": {
        "colab": {
          "base_uri": "https://localhost:8080/"
        },
        "id": "poF4yih5YN-R",
        "outputId": "bf1c3fae-649f-4368-e640-7c3da86eb0e9"
      },
      "id": "poF4yih5YN-R",
      "execution_count": null,
      "outputs": [
        {
          "output_type": "execute_result",
          "data": {
            "text/plain": [
              "24.696999999999996"
            ]
          },
          "metadata": {},
          "execution_count": 42
        }
      ]
    },
    {
      "cell_type": "code",
      "source": [
        "def calc_Expectation2(a):\n",
        "    n = len(a)\n",
        "    prb = 1 / n\n",
        "\n",
        "    sum = 0\n",
        "    for i in a:\n",
        "        sum += (float(i) * prb)\n",
        "    return float(sum)"
      ],
      "metadata": {
        "id": "bHrpTilQZ6lH"
      },
      "id": "bHrpTilQZ6lH",
      "execution_count": null,
      "outputs": []
    },
    {
      "cell_type": "code",
      "source": [
        "f = calc_Expectation2(sample)\n",
        "f"
      ],
      "metadata": {
        "colab": {
          "base_uri": "https://localhost:8080/"
        },
        "id": "htGgiSrKaM2F",
        "outputId": "7d084061-d61a-41e1-d453-96f43879cc7b"
      },
      "id": "htGgiSrKaM2F",
      "execution_count": null,
      "outputs": [
        {
          "output_type": "execute_result",
          "data": {
            "text/plain": [
              "26.84456521739133"
            ]
          },
          "metadata": {},
          "execution_count": 39
        }
      ]
    },
    {
      "cell_type": "code",
      "source": [
        "stats.chisquare(f_obs=sample, f_exp=f)"
      ],
      "metadata": {
        "id": "qC7iSnjG55Bg",
        "colab": {
          "base_uri": "https://localhost:8080/"
        },
        "outputId": "fe8ecf4b-fc28-4a81-e857-9be3960ac588"
      },
      "id": "qC7iSnjG55Bg",
      "execution_count": null,
      "outputs": [
        {
          "output_type": "execute_result",
          "data": {
            "text/plain": [
              "Power_divergenceResult(statistic=61.977402113616975, pvalue=1.0)"
            ]
          },
          "metadata": {},
          "execution_count": 40
        }
      ]
    },
    {
      "cell_type": "markdown",
      "source": [
        "### Drop Sampling"
      ],
      "metadata": {
        "id": "lnGD7Ovv6myM"
      },
      "id": "lnGD7Ovv6myM"
    },
    {
      "cell_type": "code",
      "source": [
        "def oversampling(df):\n",
        "  df.drop(df[df['Count'] < 5].index, inplace = True)\n",
        "  return df"
      ],
      "metadata": {
        "id": "Eh8hBUJY4lBQ"
      },
      "id": "Eh8hBUJY4lBQ",
      "execution_count": null,
      "outputs": []
    },
    {
      "cell_type": "code",
      "source": [
        "def oversamplinglist(li):\n",
        "  for i in li:\n",
        "    if li.count(i) < 5:\n",
        "      li.remove(i)\n",
        "  return li\n",
        "sample = oversamplinglist(new_amostra)\n",
        "c = (Counter(sample).keys()) \n",
        "d = (Counter(sample).values())\n",
        "ss = {\"Values\":c,\"Count\":d}\n",
        "ss = pd.DataFrame(ss)\n",
        "ss"
      ],
      "metadata": {
        "id": "kmqFqLUp6IX6",
        "colab": {
          "base_uri": "https://localhost:8080/",
          "height": 488
        },
        "outputId": "b2fa29c8-eed8-431f-f61f-dd2528e37937"
      },
      "id": "kmqFqLUp6IX6",
      "execution_count": null,
      "outputs": [
        {
          "output_type": "execute_result",
          "data": {
            "text/plain": [
              "    Values  Count\n",
              "0     23.4      5\n",
              "1     29.6      8\n",
              "2     25.6     10\n",
              "3     25.3      7\n",
              "4     27.3      6\n",
              "..     ...    ...\n",
              "63    22.5      1\n",
              "64    24.9      2\n",
              "65    21.4      1\n",
              "66    23.8      1\n",
              "67    25.1      1\n",
              "\n",
              "[68 rows x 2 columns]"
            ],
            "text/html": [
              "\n",
              "  <div id=\"df-0ec1e4af-6d9b-44dd-9ee3-5d76409417b6\">\n",
              "    <div class=\"colab-df-container\">\n",
              "      <div>\n",
              "<style scoped>\n",
              "    .dataframe tbody tr th:only-of-type {\n",
              "        vertical-align: middle;\n",
              "    }\n",
              "\n",
              "    .dataframe tbody tr th {\n",
              "        vertical-align: top;\n",
              "    }\n",
              "\n",
              "    .dataframe thead th {\n",
              "        text-align: right;\n",
              "    }\n",
              "</style>\n",
              "<table border=\"1\" class=\"dataframe\">\n",
              "  <thead>\n",
              "    <tr style=\"text-align: right;\">\n",
              "      <th></th>\n",
              "      <th>Values</th>\n",
              "      <th>Count</th>\n",
              "    </tr>\n",
              "  </thead>\n",
              "  <tbody>\n",
              "    <tr>\n",
              "      <th>0</th>\n",
              "      <td>23.4</td>\n",
              "      <td>5</td>\n",
              "    </tr>\n",
              "    <tr>\n",
              "      <th>1</th>\n",
              "      <td>29.6</td>\n",
              "      <td>8</td>\n",
              "    </tr>\n",
              "    <tr>\n",
              "      <th>2</th>\n",
              "      <td>25.6</td>\n",
              "      <td>10</td>\n",
              "    </tr>\n",
              "    <tr>\n",
              "      <th>3</th>\n",
              "      <td>25.3</td>\n",
              "      <td>7</td>\n",
              "    </tr>\n",
              "    <tr>\n",
              "      <th>4</th>\n",
              "      <td>27.3</td>\n",
              "      <td>6</td>\n",
              "    </tr>\n",
              "    <tr>\n",
              "      <th>...</th>\n",
              "      <td>...</td>\n",
              "      <td>...</td>\n",
              "    </tr>\n",
              "    <tr>\n",
              "      <th>63</th>\n",
              "      <td>22.5</td>\n",
              "      <td>1</td>\n",
              "    </tr>\n",
              "    <tr>\n",
              "      <th>64</th>\n",
              "      <td>24.9</td>\n",
              "      <td>2</td>\n",
              "    </tr>\n",
              "    <tr>\n",
              "      <th>65</th>\n",
              "      <td>21.4</td>\n",
              "      <td>1</td>\n",
              "    </tr>\n",
              "    <tr>\n",
              "      <th>66</th>\n",
              "      <td>23.8</td>\n",
              "      <td>1</td>\n",
              "    </tr>\n",
              "    <tr>\n",
              "      <th>67</th>\n",
              "      <td>25.1</td>\n",
              "      <td>1</td>\n",
              "    </tr>\n",
              "  </tbody>\n",
              "</table>\n",
              "<p>68 rows × 2 columns</p>\n",
              "</div>\n",
              "      <button class=\"colab-df-convert\" onclick=\"convertToInteractive('df-0ec1e4af-6d9b-44dd-9ee3-5d76409417b6')\"\n",
              "              title=\"Convert this dataframe to an interactive table.\"\n",
              "              style=\"display:none;\">\n",
              "        \n",
              "  <svg xmlns=\"http://www.w3.org/2000/svg\" height=\"24px\"viewBox=\"0 0 24 24\"\n",
              "       width=\"24px\">\n",
              "    <path d=\"M0 0h24v24H0V0z\" fill=\"none\"/>\n",
              "    <path d=\"M18.56 5.44l.94 2.06.94-2.06 2.06-.94-2.06-.94-.94-2.06-.94 2.06-2.06.94zm-11 1L8.5 8.5l.94-2.06 2.06-.94-2.06-.94L8.5 2.5l-.94 2.06-2.06.94zm10 10l.94 2.06.94-2.06 2.06-.94-2.06-.94-.94-2.06-.94 2.06-2.06.94z\"/><path d=\"M17.41 7.96l-1.37-1.37c-.4-.4-.92-.59-1.43-.59-.52 0-1.04.2-1.43.59L10.3 9.45l-7.72 7.72c-.78.78-.78 2.05 0 2.83L4 21.41c.39.39.9.59 1.41.59.51 0 1.02-.2 1.41-.59l7.78-7.78 2.81-2.81c.8-.78.8-2.07 0-2.86zM5.41 20L4 18.59l7.72-7.72 1.47 1.35L5.41 20z\"/>\n",
              "  </svg>\n",
              "      </button>\n",
              "      \n",
              "  <style>\n",
              "    .colab-df-container {\n",
              "      display:flex;\n",
              "      flex-wrap:wrap;\n",
              "      gap: 12px;\n",
              "    }\n",
              "\n",
              "    .colab-df-convert {\n",
              "      background-color: #E8F0FE;\n",
              "      border: none;\n",
              "      border-radius: 50%;\n",
              "      cursor: pointer;\n",
              "      display: none;\n",
              "      fill: #1967D2;\n",
              "      height: 32px;\n",
              "      padding: 0 0 0 0;\n",
              "      width: 32px;\n",
              "    }\n",
              "\n",
              "    .colab-df-convert:hover {\n",
              "      background-color: #E2EBFA;\n",
              "      box-shadow: 0px 1px 2px rgba(60, 64, 67, 0.3), 0px 1px 3px 1px rgba(60, 64, 67, 0.15);\n",
              "      fill: #174EA6;\n",
              "    }\n",
              "\n",
              "    [theme=dark] .colab-df-convert {\n",
              "      background-color: #3B4455;\n",
              "      fill: #D2E3FC;\n",
              "    }\n",
              "\n",
              "    [theme=dark] .colab-df-convert:hover {\n",
              "      background-color: #434B5C;\n",
              "      box-shadow: 0px 1px 3px 1px rgba(0, 0, 0, 0.15);\n",
              "      filter: drop-shadow(0px 1px 2px rgba(0, 0, 0, 0.3));\n",
              "      fill: #FFFFFF;\n",
              "    }\n",
              "  </style>\n",
              "\n",
              "      <script>\n",
              "        const buttonEl =\n",
              "          document.querySelector('#df-0ec1e4af-6d9b-44dd-9ee3-5d76409417b6 button.colab-df-convert');\n",
              "        buttonEl.style.display =\n",
              "          google.colab.kernel.accessAllowed ? 'block' : 'none';\n",
              "\n",
              "        async function convertToInteractive(key) {\n",
              "          const element = document.querySelector('#df-0ec1e4af-6d9b-44dd-9ee3-5d76409417b6');\n",
              "          const dataTable =\n",
              "            await google.colab.kernel.invokeFunction('convertToInteractive',\n",
              "                                                     [key], {});\n",
              "          if (!dataTable) return;\n",
              "\n",
              "          const docLinkHtml = 'Like what you see? Visit the ' +\n",
              "            '<a target=\"_blank\" href=https://colab.research.google.com/notebooks/data_table.ipynb>data table notebook</a>'\n",
              "            + ' to learn more about interactive tables.';\n",
              "          element.innerHTML = '';\n",
              "          dataTable['output_type'] = 'display_data';\n",
              "          await google.colab.output.renderOutput(dataTable, element);\n",
              "          const docLink = document.createElement('div');\n",
              "          docLink.innerHTML = docLinkHtml;\n",
              "          element.appendChild(docLink);\n",
              "        }\n",
              "      </script>\n",
              "    </div>\n",
              "  </div>\n",
              "  "
            ]
          },
          "metadata": {},
          "execution_count": 108
        }
      ]
    },
    {
      "cell_type": "code",
      "source": [
        "Probability2 = []\n",
        "for i in ss['Count']:\n",
        "  Probability2.append(i/500)\n",
        "cont2 = {\"Values\":c,\"Count\":d,\"Probability\":Probability2}\n",
        "cont2 = pd.DataFrame(cont2)\n",
        "cont2"
      ],
      "metadata": {
        "id": "yI97K7GwAhrG",
        "colab": {
          "base_uri": "https://localhost:8080/",
          "height": 488
        },
        "outputId": "bcb20bf2-e326-467d-9a0b-1e98fa4e5846"
      },
      "id": "yI97K7GwAhrG",
      "execution_count": null,
      "outputs": [
        {
          "output_type": "execute_result",
          "data": {
            "text/plain": [
              "    Values  Count  Probability\n",
              "0     23.4      5        0.010\n",
              "1     29.6      8        0.016\n",
              "2     25.6     10        0.020\n",
              "3     25.3      7        0.014\n",
              "4     27.3      6        0.012\n",
              "..     ...    ...          ...\n",
              "63    22.5      1        0.002\n",
              "64    24.9      2        0.004\n",
              "65    21.4      1        0.002\n",
              "66    23.8      1        0.002\n",
              "67    25.1      1        0.002\n",
              "\n",
              "[68 rows x 3 columns]"
            ],
            "text/html": [
              "\n",
              "  <div id=\"df-721839e2-d66f-49c9-abb5-d15b82ce53b6\">\n",
              "    <div class=\"colab-df-container\">\n",
              "      <div>\n",
              "<style scoped>\n",
              "    .dataframe tbody tr th:only-of-type {\n",
              "        vertical-align: middle;\n",
              "    }\n",
              "\n",
              "    .dataframe tbody tr th {\n",
              "        vertical-align: top;\n",
              "    }\n",
              "\n",
              "    .dataframe thead th {\n",
              "        text-align: right;\n",
              "    }\n",
              "</style>\n",
              "<table border=\"1\" class=\"dataframe\">\n",
              "  <thead>\n",
              "    <tr style=\"text-align: right;\">\n",
              "      <th></th>\n",
              "      <th>Values</th>\n",
              "      <th>Count</th>\n",
              "      <th>Probability</th>\n",
              "    </tr>\n",
              "  </thead>\n",
              "  <tbody>\n",
              "    <tr>\n",
              "      <th>0</th>\n",
              "      <td>23.4</td>\n",
              "      <td>5</td>\n",
              "      <td>0.010</td>\n",
              "    </tr>\n",
              "    <tr>\n",
              "      <th>1</th>\n",
              "      <td>29.6</td>\n",
              "      <td>8</td>\n",
              "      <td>0.016</td>\n",
              "    </tr>\n",
              "    <tr>\n",
              "      <th>2</th>\n",
              "      <td>25.6</td>\n",
              "      <td>10</td>\n",
              "      <td>0.020</td>\n",
              "    </tr>\n",
              "    <tr>\n",
              "      <th>3</th>\n",
              "      <td>25.3</td>\n",
              "      <td>7</td>\n",
              "      <td>0.014</td>\n",
              "    </tr>\n",
              "    <tr>\n",
              "      <th>4</th>\n",
              "      <td>27.3</td>\n",
              "      <td>6</td>\n",
              "      <td>0.012</td>\n",
              "    </tr>\n",
              "    <tr>\n",
              "      <th>...</th>\n",
              "      <td>...</td>\n",
              "      <td>...</td>\n",
              "      <td>...</td>\n",
              "    </tr>\n",
              "    <tr>\n",
              "      <th>63</th>\n",
              "      <td>22.5</td>\n",
              "      <td>1</td>\n",
              "      <td>0.002</td>\n",
              "    </tr>\n",
              "    <tr>\n",
              "      <th>64</th>\n",
              "      <td>24.9</td>\n",
              "      <td>2</td>\n",
              "      <td>0.004</td>\n",
              "    </tr>\n",
              "    <tr>\n",
              "      <th>65</th>\n",
              "      <td>21.4</td>\n",
              "      <td>1</td>\n",
              "      <td>0.002</td>\n",
              "    </tr>\n",
              "    <tr>\n",
              "      <th>66</th>\n",
              "      <td>23.8</td>\n",
              "      <td>1</td>\n",
              "      <td>0.002</td>\n",
              "    </tr>\n",
              "    <tr>\n",
              "      <th>67</th>\n",
              "      <td>25.1</td>\n",
              "      <td>1</td>\n",
              "      <td>0.002</td>\n",
              "    </tr>\n",
              "  </tbody>\n",
              "</table>\n",
              "<p>68 rows × 3 columns</p>\n",
              "</div>\n",
              "      <button class=\"colab-df-convert\" onclick=\"convertToInteractive('df-721839e2-d66f-49c9-abb5-d15b82ce53b6')\"\n",
              "              title=\"Convert this dataframe to an interactive table.\"\n",
              "              style=\"display:none;\">\n",
              "        \n",
              "  <svg xmlns=\"http://www.w3.org/2000/svg\" height=\"24px\"viewBox=\"0 0 24 24\"\n",
              "       width=\"24px\">\n",
              "    <path d=\"M0 0h24v24H0V0z\" fill=\"none\"/>\n",
              "    <path d=\"M18.56 5.44l.94 2.06.94-2.06 2.06-.94-2.06-.94-.94-2.06-.94 2.06-2.06.94zm-11 1L8.5 8.5l.94-2.06 2.06-.94-2.06-.94L8.5 2.5l-.94 2.06-2.06.94zm10 10l.94 2.06.94-2.06 2.06-.94-2.06-.94-.94-2.06-.94 2.06-2.06.94z\"/><path d=\"M17.41 7.96l-1.37-1.37c-.4-.4-.92-.59-1.43-.59-.52 0-1.04.2-1.43.59L10.3 9.45l-7.72 7.72c-.78.78-.78 2.05 0 2.83L4 21.41c.39.39.9.59 1.41.59.51 0 1.02-.2 1.41-.59l7.78-7.78 2.81-2.81c.8-.78.8-2.07 0-2.86zM5.41 20L4 18.59l7.72-7.72 1.47 1.35L5.41 20z\"/>\n",
              "  </svg>\n",
              "      </button>\n",
              "      \n",
              "  <style>\n",
              "    .colab-df-container {\n",
              "      display:flex;\n",
              "      flex-wrap:wrap;\n",
              "      gap: 12px;\n",
              "    }\n",
              "\n",
              "    .colab-df-convert {\n",
              "      background-color: #E8F0FE;\n",
              "      border: none;\n",
              "      border-radius: 50%;\n",
              "      cursor: pointer;\n",
              "      display: none;\n",
              "      fill: #1967D2;\n",
              "      height: 32px;\n",
              "      padding: 0 0 0 0;\n",
              "      width: 32px;\n",
              "    }\n",
              "\n",
              "    .colab-df-convert:hover {\n",
              "      background-color: #E2EBFA;\n",
              "      box-shadow: 0px 1px 2px rgba(60, 64, 67, 0.3), 0px 1px 3px 1px rgba(60, 64, 67, 0.15);\n",
              "      fill: #174EA6;\n",
              "    }\n",
              "\n",
              "    [theme=dark] .colab-df-convert {\n",
              "      background-color: #3B4455;\n",
              "      fill: #D2E3FC;\n",
              "    }\n",
              "\n",
              "    [theme=dark] .colab-df-convert:hover {\n",
              "      background-color: #434B5C;\n",
              "      box-shadow: 0px 1px 3px 1px rgba(0, 0, 0, 0.15);\n",
              "      filter: drop-shadow(0px 1px 2px rgba(0, 0, 0, 0.3));\n",
              "      fill: #FFFFFF;\n",
              "    }\n",
              "  </style>\n",
              "\n",
              "      <script>\n",
              "        const buttonEl =\n",
              "          document.querySelector('#df-721839e2-d66f-49c9-abb5-d15b82ce53b6 button.colab-df-convert');\n",
              "        buttonEl.style.display =\n",
              "          google.colab.kernel.accessAllowed ? 'block' : 'none';\n",
              "\n",
              "        async function convertToInteractive(key) {\n",
              "          const element = document.querySelector('#df-721839e2-d66f-49c9-abb5-d15b82ce53b6');\n",
              "          const dataTable =\n",
              "            await google.colab.kernel.invokeFunction('convertToInteractive',\n",
              "                                                     [key], {});\n",
              "          if (!dataTable) return;\n",
              "\n",
              "          const docLinkHtml = 'Like what you see? Visit the ' +\n",
              "            '<a target=\"_blank\" href=https://colab.research.google.com/notebooks/data_table.ipynb>data table notebook</a>'\n",
              "            + ' to learn more about interactive tables.';\n",
              "          element.innerHTML = '';\n",
              "          dataTable['output_type'] = 'display_data';\n",
              "          await google.colab.output.renderOutput(dataTable, element);\n",
              "          const docLink = document.createElement('div');\n",
              "          docLink.innerHTML = docLinkHtml;\n",
              "          element.appendChild(docLink);\n",
              "        }\n",
              "      </script>\n",
              "    </div>\n",
              "  </div>\n",
              "  "
            ]
          },
          "metadata": {},
          "execution_count": 109
        }
      ]
    },
    {
      "cell_type": "code",
      "source": [
        "prod2 = []\n",
        "for n1,n2 in zip(c,Probability2):\n",
        "  prod2.append(n1*n2)\n",
        "s2 = sum(prod)\n",
        "s2"
      ],
      "metadata": {
        "id": "DzCwtASWAhkO",
        "colab": {
          "base_uri": "https://localhost:8080/"
        },
        "outputId": "3d4fd20d-9997-4d38-d75f-73409c45bf47"
      },
      "id": "DzCwtASWAhkO",
      "execution_count": null,
      "outputs": [
        {
          "output_type": "execute_result",
          "data": {
            "text/plain": [
              "27.022400000000008"
            ]
          },
          "metadata": {},
          "execution_count": 110
        }
      ]
    },
    {
      "cell_type": "code",
      "source": [
        "stats.chisquare(f_obs=sample, f_exp=s2)"
      ],
      "metadata": {
        "id": "G2SkyhpsAhaH",
        "colab": {
          "base_uri": "https://localhost:8080/"
        },
        "outputId": "42094edb-7adb-457c-fcf0-4645d9e77e87"
      },
      "id": "G2SkyhpsAhaH",
      "execution_count": null,
      "outputs": [
        {
          "output_type": "execute_result",
          "data": {
            "text/plain": [
              "Power_divergenceResult(statistic=59.24898073302151, pvalue=1.0)"
            ]
          },
          "metadata": {},
          "execution_count": 111
        }
      ]
    },
    {
      "cell_type": "markdown",
      "source": [
        "## Lilliefors"
      ],
      "metadata": {
        "id": "-i-T5snVgKNr"
      },
      "id": "-i-T5snVgKNr"
    },
    {
      "cell_type": "code",
      "source": [
        "from statsmodels.stats.diagnostic import lilliefors\n",
        "stt, pv = lilliefors(amostra, dist='norm')\n",
        "print(f\"norm_a: ks = {stt:.4f} (p-value = {pv:.3e}, É Normal = {pv > 0.05})\")"
      ],
      "metadata": {
        "colab": {
          "base_uri": "https://localhost:8080/"
        },
        "id": "aRZkO2kpeDmS",
        "outputId": "770da14d-0274-4dab-944e-762186c392cb"
      },
      "id": "aRZkO2kpeDmS",
      "execution_count": null,
      "outputs": [
        {
          "output_type": "stream",
          "name": "stdout",
          "text": [
            "norm_a: ks = 0.0487 (p-value = 6.523e-03, É Normal = False)\n"
          ]
        },
        {
          "output_type": "stream",
          "name": "stderr",
          "text": [
            "/usr/local/lib/python3.7/dist-packages/statsmodels/tools/_testing.py:19: FutureWarning: pandas.util.testing is deprecated. Use the functions in the public API at pandas.testing instead.\n",
            "  import pandas.util.testing as tm\n"
          ]
        }
      ]
    },
    {
      "cell_type": "markdown",
      "source": [
        "# Parametric Monte Carlo Simulation "
      ],
      "metadata": {
        "id": "6KuJaNo1slLA"
      },
      "id": "6KuJaNo1slLA"
    },
    {
      "cell_type": "code",
      "source": [
        "n = 500\n",
        "tmp = list(new_df['Temperatura'])\n",
        "amostra_mc = random.sample(tmp, n)\n",
        "amostra_mc = pd.DataFrame({'temp':amostra_mc})\n",
        "amostra_mc['class'] = pd.qcut(amostra_mc['temp'].rank(method='first'), q=89)\n",
        "amostra_mc"
      ],
      "metadata": {
        "colab": {
          "base_uri": "https://localhost:8080/",
          "height": 424
        },
        "id": "nAoNCYU_so5L",
        "outputId": "00fd12d7-bb53-44bd-cfc2-f13077217609"
      },
      "id": "nAoNCYU_so5L",
      "execution_count": null,
      "outputs": [
        {
          "output_type": "execute_result",
          "data": {
            "text/plain": [
              "     temp               class\n",
              "0    27.2  (292.551, 298.157]\n",
              "1    25.4  (118.742, 124.348]\n",
              "2    24.8    (79.494, 85.101]\n",
              "3    29.4  (427.112, 432.719]\n",
              "4    26.6   (225.27, 230.876]\n",
              "..    ...                 ...\n",
              "495  30.8  (471.966, 477.573]\n",
              "496  26.3  (197.236, 202.843]\n",
              "497  21.2     (6.607, 12.213]\n",
              "498  26.8   (258.91, 264.517]\n",
              "499  25.4  (129.955, 135.562]\n",
              "\n",
              "[500 rows x 2 columns]"
            ],
            "text/html": [
              "\n",
              "  <div id=\"df-298a1367-f35f-47cf-9dc9-f567658ec5bd\">\n",
              "    <div class=\"colab-df-container\">\n",
              "      <div>\n",
              "<style scoped>\n",
              "    .dataframe tbody tr th:only-of-type {\n",
              "        vertical-align: middle;\n",
              "    }\n",
              "\n",
              "    .dataframe tbody tr th {\n",
              "        vertical-align: top;\n",
              "    }\n",
              "\n",
              "    .dataframe thead th {\n",
              "        text-align: right;\n",
              "    }\n",
              "</style>\n",
              "<table border=\"1\" class=\"dataframe\">\n",
              "  <thead>\n",
              "    <tr style=\"text-align: right;\">\n",
              "      <th></th>\n",
              "      <th>temp</th>\n",
              "      <th>class</th>\n",
              "    </tr>\n",
              "  </thead>\n",
              "  <tbody>\n",
              "    <tr>\n",
              "      <th>0</th>\n",
              "      <td>27.2</td>\n",
              "      <td>(292.551, 298.157]</td>\n",
              "    </tr>\n",
              "    <tr>\n",
              "      <th>1</th>\n",
              "      <td>25.4</td>\n",
              "      <td>(118.742, 124.348]</td>\n",
              "    </tr>\n",
              "    <tr>\n",
              "      <th>2</th>\n",
              "      <td>24.8</td>\n",
              "      <td>(79.494, 85.101]</td>\n",
              "    </tr>\n",
              "    <tr>\n",
              "      <th>3</th>\n",
              "      <td>29.4</td>\n",
              "      <td>(427.112, 432.719]</td>\n",
              "    </tr>\n",
              "    <tr>\n",
              "      <th>4</th>\n",
              "      <td>26.6</td>\n",
              "      <td>(225.27, 230.876]</td>\n",
              "    </tr>\n",
              "    <tr>\n",
              "      <th>...</th>\n",
              "      <td>...</td>\n",
              "      <td>...</td>\n",
              "    </tr>\n",
              "    <tr>\n",
              "      <th>495</th>\n",
              "      <td>30.8</td>\n",
              "      <td>(471.966, 477.573]</td>\n",
              "    </tr>\n",
              "    <tr>\n",
              "      <th>496</th>\n",
              "      <td>26.3</td>\n",
              "      <td>(197.236, 202.843]</td>\n",
              "    </tr>\n",
              "    <tr>\n",
              "      <th>497</th>\n",
              "      <td>21.2</td>\n",
              "      <td>(6.607, 12.213]</td>\n",
              "    </tr>\n",
              "    <tr>\n",
              "      <th>498</th>\n",
              "      <td>26.8</td>\n",
              "      <td>(258.91, 264.517]</td>\n",
              "    </tr>\n",
              "    <tr>\n",
              "      <th>499</th>\n",
              "      <td>25.4</td>\n",
              "      <td>(129.955, 135.562]</td>\n",
              "    </tr>\n",
              "  </tbody>\n",
              "</table>\n",
              "<p>500 rows × 2 columns</p>\n",
              "</div>\n",
              "      <button class=\"colab-df-convert\" onclick=\"convertToInteractive('df-298a1367-f35f-47cf-9dc9-f567658ec5bd')\"\n",
              "              title=\"Convert this dataframe to an interactive table.\"\n",
              "              style=\"display:none;\">\n",
              "        \n",
              "  <svg xmlns=\"http://www.w3.org/2000/svg\" height=\"24px\"viewBox=\"0 0 24 24\"\n",
              "       width=\"24px\">\n",
              "    <path d=\"M0 0h24v24H0V0z\" fill=\"none\"/>\n",
              "    <path d=\"M18.56 5.44l.94 2.06.94-2.06 2.06-.94-2.06-.94-.94-2.06-.94 2.06-2.06.94zm-11 1L8.5 8.5l.94-2.06 2.06-.94-2.06-.94L8.5 2.5l-.94 2.06-2.06.94zm10 10l.94 2.06.94-2.06 2.06-.94-2.06-.94-.94-2.06-.94 2.06-2.06.94z\"/><path d=\"M17.41 7.96l-1.37-1.37c-.4-.4-.92-.59-1.43-.59-.52 0-1.04.2-1.43.59L10.3 9.45l-7.72 7.72c-.78.78-.78 2.05 0 2.83L4 21.41c.39.39.9.59 1.41.59.51 0 1.02-.2 1.41-.59l7.78-7.78 2.81-2.81c.8-.78.8-2.07 0-2.86zM5.41 20L4 18.59l7.72-7.72 1.47 1.35L5.41 20z\"/>\n",
              "  </svg>\n",
              "      </button>\n",
              "      \n",
              "  <style>\n",
              "    .colab-df-container {\n",
              "      display:flex;\n",
              "      flex-wrap:wrap;\n",
              "      gap: 12px;\n",
              "    }\n",
              "\n",
              "    .colab-df-convert {\n",
              "      background-color: #E8F0FE;\n",
              "      border: none;\n",
              "      border-radius: 50%;\n",
              "      cursor: pointer;\n",
              "      display: none;\n",
              "      fill: #1967D2;\n",
              "      height: 32px;\n",
              "      padding: 0 0 0 0;\n",
              "      width: 32px;\n",
              "    }\n",
              "\n",
              "    .colab-df-convert:hover {\n",
              "      background-color: #E2EBFA;\n",
              "      box-shadow: 0px 1px 2px rgba(60, 64, 67, 0.3), 0px 1px 3px 1px rgba(60, 64, 67, 0.15);\n",
              "      fill: #174EA6;\n",
              "    }\n",
              "\n",
              "    [theme=dark] .colab-df-convert {\n",
              "      background-color: #3B4455;\n",
              "      fill: #D2E3FC;\n",
              "    }\n",
              "\n",
              "    [theme=dark] .colab-df-convert:hover {\n",
              "      background-color: #434B5C;\n",
              "      box-shadow: 0px 1px 3px 1px rgba(0, 0, 0, 0.15);\n",
              "      filter: drop-shadow(0px 1px 2px rgba(0, 0, 0, 0.3));\n",
              "      fill: #FFFFFF;\n",
              "    }\n",
              "  </style>\n",
              "\n",
              "      <script>\n",
              "        const buttonEl =\n",
              "          document.querySelector('#df-298a1367-f35f-47cf-9dc9-f567658ec5bd button.colab-df-convert');\n",
              "        buttonEl.style.display =\n",
              "          google.colab.kernel.accessAllowed ? 'block' : 'none';\n",
              "\n",
              "        async function convertToInteractive(key) {\n",
              "          const element = document.querySelector('#df-298a1367-f35f-47cf-9dc9-f567658ec5bd');\n",
              "          const dataTable =\n",
              "            await google.colab.kernel.invokeFunction('convertToInteractive',\n",
              "                                                     [key], {});\n",
              "          if (!dataTable) return;\n",
              "\n",
              "          const docLinkHtml = 'Like what you see? Visit the ' +\n",
              "            '<a target=\"_blank\" href=https://colab.research.google.com/notebooks/data_table.ipynb>data table notebook</a>'\n",
              "            + ' to learn more about interactive tables.';\n",
              "          element.innerHTML = '';\n",
              "          dataTable['output_type'] = 'display_data';\n",
              "          await google.colab.output.renderOutput(dataTable, element);\n",
              "          const docLink = document.createElement('div');\n",
              "          docLink.innerHTML = docLinkHtml;\n",
              "          element.appendChild(docLink);\n",
              "        }\n",
              "      </script>\n",
              "    </div>\n",
              "  </div>\n",
              "  "
            ]
          },
          "metadata": {},
          "execution_count": 113
        }
      ]
    },
    {
      "cell_type": "code",
      "source": [
        "mc_sample = list(new_df['Temperatura'])"
      ],
      "metadata": {
        "id": "GDfqFmj8UTy8"
      },
      "id": "GDfqFmj8UTy8",
      "execution_count": null,
      "outputs": []
    },
    {
      "cell_type": "code",
      "source": [
        "mc_df = grouobyneighbors(mc_sample)\n",
        "mu = sum(mc_df)/len(mc_df)\n",
        "sigma = np.std(mc_df)\n",
        "print(mu)\n",
        "print(sigma)"
      ],
      "metadata": {
        "id": "fD3duoyd3Rp2",
        "colab": {
          "base_uri": "https://localhost:8080/"
        },
        "outputId": "ebc91094-6e3e-4400-f6ef-bfa24226d3b4"
      },
      "id": "fD3duoyd3Rp2",
      "execution_count": null,
      "outputs": [
        {
          "output_type": "stream",
          "name": "stdout",
          "text": [
            "26.86583043278362\n",
            "2.3954244212981965\n"
          ]
        }
      ]
    },
    {
      "cell_type": "markdown",
      "source": [
        ""
      ],
      "metadata": {
        "id": "9oD8JV70aL2H"
      },
      "id": "9oD8JV70aL2H"
    },
    {
      "cell_type": "code",
      "source": [
        "def montecarlo(df, r,params,dist):\n",
        "  mc = []\n",
        "  pval = []\n",
        "  stat = []\n",
        "  for i in range(r):\n",
        "    a = [np.random.normal(loc=mu, scale=sigma, size=500)]\n",
        "    mc.append(a)\n",
        "    ks_test = stats.kstest(df, dist, params)\n",
        "    p = ks_test[1]\n",
        "    s = ks_test[0]\n",
        "    pval.append(p)\n",
        "    stat.append(s)\n",
        "  return pval, stat, mc  "
      ],
      "metadata": {
        "id": "HsNIQktLYwSk"
      },
      "id": "HsNIQktLYwSk",
      "execution_count": null,
      "outputs": []
    },
    {
      "cell_type": "code",
      "source": [
        "#plt.plot(*Montecarlo)"
      ],
      "metadata": {
        "id": "CrjvlugabyV_"
      },
      "id": "CrjvlugabyV_",
      "execution_count": null,
      "outputs": []
    },
    {
      "cell_type": "code",
      "source": [
        "resultnorm = montecarlo(mc_sample,2000, params1,\"norm\")\n",
        "resultbeta = montecarlo(mc_sample,2000, params2,\"beta\")\n",
        "resultweib = montecarlo(mc_sample,2000, params3,\"exponweib\")\n",
        "resultcauchy = montecarlo(mc_sample,2000, params4,\"cauchy\")\n",
        "pval = resultnorm[0]\n",
        "stat = resultnorm[1]\n",
        "pval2 = resultbeta[0]\n",
        "stat2 = resultbeta[1]\n",
        "pval3 = resultweib[0]\n",
        "stat3 = resultweib[1]\n",
        "pval4 = resultcauchy[0]\n",
        "stat4 = resultcauchy[1]\n",
        "table = pd.DataFrame({\"Normal\":{\"Statistics\":stat, \"Pvalue\":pval}, \"Beta\":{\"Statistics\":stat2, \"Pvalue\":pval2},\"Weib\":{\"Statistics\":stat3, \"Pvalue\":pval3},\"Cauchy\":{\"Statistics\":stat4, \"Pvalue\":pval4}})\n",
        "table"
      ],
      "metadata": {
        "id": "4tQ0lfyVejhS",
        "colab": {
          "base_uri": "https://localhost:8080/",
          "height": 383
        },
        "outputId": "7b9fb9c6-d263-4031-a63e-f860f38b9491"
      },
      "id": "4tQ0lfyVejhS",
      "execution_count": null,
      "outputs": [
        {
          "output_type": "error",
          "ename": "KeyboardInterrupt",
          "evalue": "ignored",
          "traceback": [
            "\u001b[0;31m---------------------------------------------------------------------------\u001b[0m",
            "\u001b[0;31mKeyboardInterrupt\u001b[0m                         Traceback (most recent call last)",
            "\u001b[0;32m<ipython-input-118-d3638a5d8121>\u001b[0m in \u001b[0;36m<module>\u001b[0;34m()\u001b[0m\n\u001b[1;32m      1\u001b[0m \u001b[0mresultnorm\u001b[0m \u001b[0;34m=\u001b[0m \u001b[0mmontecarlo\u001b[0m\u001b[0;34m(\u001b[0m\u001b[0mmc_sample\u001b[0m\u001b[0;34m,\u001b[0m\u001b[0;36m2000\u001b[0m\u001b[0;34m,\u001b[0m \u001b[0mparams1\u001b[0m\u001b[0;34m,\u001b[0m\u001b[0;34m\"norm\"\u001b[0m\u001b[0;34m)\u001b[0m\u001b[0;34m\u001b[0m\u001b[0;34m\u001b[0m\u001b[0m\n\u001b[0;32m----> 2\u001b[0;31m \u001b[0mresultbeta\u001b[0m \u001b[0;34m=\u001b[0m \u001b[0mmontecarlo\u001b[0m\u001b[0;34m(\u001b[0m\u001b[0mmc_sample\u001b[0m\u001b[0;34m,\u001b[0m\u001b[0;36m2000\u001b[0m\u001b[0;34m,\u001b[0m \u001b[0mparams2\u001b[0m\u001b[0;34m,\u001b[0m\u001b[0;34m\"beta\"\u001b[0m\u001b[0;34m)\u001b[0m\u001b[0;34m\u001b[0m\u001b[0;34m\u001b[0m\u001b[0m\n\u001b[0m\u001b[1;32m      3\u001b[0m \u001b[0mresultweib\u001b[0m \u001b[0;34m=\u001b[0m \u001b[0mmontecarlo\u001b[0m\u001b[0;34m(\u001b[0m\u001b[0mmc_sample\u001b[0m\u001b[0;34m,\u001b[0m\u001b[0;36m2000\u001b[0m\u001b[0;34m,\u001b[0m \u001b[0mparams3\u001b[0m\u001b[0;34m,\u001b[0m\u001b[0;34m\"exponweib\"\u001b[0m\u001b[0;34m)\u001b[0m\u001b[0;34m\u001b[0m\u001b[0;34m\u001b[0m\u001b[0m\n\u001b[1;32m      4\u001b[0m \u001b[0mresultcauchy\u001b[0m \u001b[0;34m=\u001b[0m \u001b[0mmontecarlo\u001b[0m\u001b[0;34m(\u001b[0m\u001b[0mmc_sample\u001b[0m\u001b[0;34m,\u001b[0m\u001b[0;36m2000\u001b[0m\u001b[0;34m,\u001b[0m \u001b[0mparams4\u001b[0m\u001b[0;34m,\u001b[0m\u001b[0;34m\"cauchy\"\u001b[0m\u001b[0;34m)\u001b[0m\u001b[0;34m\u001b[0m\u001b[0;34m\u001b[0m\u001b[0m\n\u001b[1;32m      5\u001b[0m \u001b[0mpval\u001b[0m \u001b[0;34m=\u001b[0m \u001b[0mresultnorm\u001b[0m\u001b[0;34m[\u001b[0m\u001b[0;36m0\u001b[0m\u001b[0;34m]\u001b[0m\u001b[0;34m\u001b[0m\u001b[0;34m\u001b[0m\u001b[0m\n",
            "\u001b[0;32m<ipython-input-116-6e72ff833e74>\u001b[0m in \u001b[0;36mmontecarlo\u001b[0;34m(df, r, params, dist)\u001b[0m\n\u001b[1;32m      6\u001b[0m     \u001b[0ma\u001b[0m \u001b[0;34m=\u001b[0m \u001b[0;34m[\u001b[0m\u001b[0mnp\u001b[0m\u001b[0;34m.\u001b[0m\u001b[0mrandom\u001b[0m\u001b[0;34m.\u001b[0m\u001b[0mnormal\u001b[0m\u001b[0;34m(\u001b[0m\u001b[0mloc\u001b[0m\u001b[0;34m=\u001b[0m\u001b[0mmu\u001b[0m\u001b[0;34m,\u001b[0m \u001b[0mscale\u001b[0m\u001b[0;34m=\u001b[0m\u001b[0msigma\u001b[0m\u001b[0;34m,\u001b[0m \u001b[0msize\u001b[0m\u001b[0;34m=\u001b[0m\u001b[0;36m500\u001b[0m\u001b[0;34m)\u001b[0m\u001b[0;34m]\u001b[0m\u001b[0;34m\u001b[0m\u001b[0;34m\u001b[0m\u001b[0m\n\u001b[1;32m      7\u001b[0m     \u001b[0mmc\u001b[0m\u001b[0;34m.\u001b[0m\u001b[0mappend\u001b[0m\u001b[0;34m(\u001b[0m\u001b[0ma\u001b[0m\u001b[0;34m)\u001b[0m\u001b[0;34m\u001b[0m\u001b[0;34m\u001b[0m\u001b[0m\n\u001b[0;32m----> 8\u001b[0;31m     \u001b[0mks_test\u001b[0m \u001b[0;34m=\u001b[0m \u001b[0mstats\u001b[0m\u001b[0;34m.\u001b[0m\u001b[0mkstest\u001b[0m\u001b[0;34m(\u001b[0m\u001b[0mdf\u001b[0m\u001b[0;34m,\u001b[0m \u001b[0mdist\u001b[0m\u001b[0;34m,\u001b[0m \u001b[0mparams\u001b[0m\u001b[0;34m)\u001b[0m\u001b[0;34m\u001b[0m\u001b[0;34m\u001b[0m\u001b[0m\n\u001b[0m\u001b[1;32m      9\u001b[0m     \u001b[0mp\u001b[0m \u001b[0;34m=\u001b[0m \u001b[0mks_test\u001b[0m\u001b[0;34m[\u001b[0m\u001b[0;36m1\u001b[0m\u001b[0;34m]\u001b[0m\u001b[0;34m\u001b[0m\u001b[0;34m\u001b[0m\u001b[0m\n\u001b[1;32m     10\u001b[0m     \u001b[0ms\u001b[0m \u001b[0;34m=\u001b[0m \u001b[0mks_test\u001b[0m\u001b[0;34m[\u001b[0m\u001b[0;36m0\u001b[0m\u001b[0;34m]\u001b[0m\u001b[0;34m\u001b[0m\u001b[0;34m\u001b[0m\u001b[0m\n",
            "\u001b[0;32m/usr/local/lib/python3.7/dist-packages/scipy/stats/stats.py\u001b[0m in \u001b[0;36mkstest\u001b[0;34m(rvs, cdf, args, N, alternative, mode)\u001b[0m\n\u001b[1;32m   5501\u001b[0m         \u001b[0mvals\u001b[0m \u001b[0;34m=\u001b[0m \u001b[0mnp\u001b[0m\u001b[0;34m.\u001b[0m\u001b[0msort\u001b[0m\u001b[0;34m(\u001b[0m\u001b[0mrvs\u001b[0m\u001b[0;34m)\u001b[0m\u001b[0;34m\u001b[0m\u001b[0;34m\u001b[0m\u001b[0m\n\u001b[1;32m   5502\u001b[0m         \u001b[0mN\u001b[0m \u001b[0;34m=\u001b[0m \u001b[0mlen\u001b[0m\u001b[0;34m(\u001b[0m\u001b[0mvals\u001b[0m\u001b[0;34m)\u001b[0m\u001b[0;34m\u001b[0m\u001b[0;34m\u001b[0m\u001b[0m\n\u001b[0;32m-> 5503\u001b[0;31m     \u001b[0mcdfvals\u001b[0m \u001b[0;34m=\u001b[0m \u001b[0mcdf\u001b[0m\u001b[0;34m(\u001b[0m\u001b[0mvals\u001b[0m\u001b[0;34m,\u001b[0m \u001b[0;34m*\u001b[0m\u001b[0margs\u001b[0m\u001b[0;34m)\u001b[0m\u001b[0;34m\u001b[0m\u001b[0;34m\u001b[0m\u001b[0m\n\u001b[0m\u001b[1;32m   5504\u001b[0m \u001b[0;34m\u001b[0m\u001b[0m\n\u001b[1;32m   5505\u001b[0m     \u001b[0;31m# to not break compatibility with existing code\u001b[0m\u001b[0;34m\u001b[0m\u001b[0;34m\u001b[0m\u001b[0;34m\u001b[0m\u001b[0m\n",
            "\u001b[0;32m/usr/local/lib/python3.7/dist-packages/scipy/stats/_distn_infrastructure.py\u001b[0m in \u001b[0;36mcdf\u001b[0;34m(self, x, *args, **kwds)\u001b[0m\n\u001b[1;32m   1832\u001b[0m         \u001b[0;32mif\u001b[0m \u001b[0mnp\u001b[0m\u001b[0;34m.\u001b[0m\u001b[0many\u001b[0m\u001b[0;34m(\u001b[0m\u001b[0mcond\u001b[0m\u001b[0;34m)\u001b[0m\u001b[0;34m:\u001b[0m  \u001b[0;31m# call only if at least 1 entry\u001b[0m\u001b[0;34m\u001b[0m\u001b[0;34m\u001b[0m\u001b[0m\n\u001b[1;32m   1833\u001b[0m             \u001b[0mgoodargs\u001b[0m \u001b[0;34m=\u001b[0m \u001b[0margsreduce\u001b[0m\u001b[0;34m(\u001b[0m\u001b[0mcond\u001b[0m\u001b[0;34m,\u001b[0m \u001b[0;34m*\u001b[0m\u001b[0;34m(\u001b[0m\u001b[0;34m(\u001b[0m\u001b[0mx\u001b[0m\u001b[0;34m,\u001b[0m\u001b[0;34m)\u001b[0m\u001b[0;34m+\u001b[0m\u001b[0margs\u001b[0m\u001b[0;34m)\u001b[0m\u001b[0;34m)\u001b[0m\u001b[0;34m\u001b[0m\u001b[0;34m\u001b[0m\u001b[0m\n\u001b[0;32m-> 1834\u001b[0;31m             \u001b[0mplace\u001b[0m\u001b[0;34m(\u001b[0m\u001b[0moutput\u001b[0m\u001b[0;34m,\u001b[0m \u001b[0mcond\u001b[0m\u001b[0;34m,\u001b[0m \u001b[0mself\u001b[0m\u001b[0;34m.\u001b[0m\u001b[0m_cdf\u001b[0m\u001b[0;34m(\u001b[0m\u001b[0;34m*\u001b[0m\u001b[0mgoodargs\u001b[0m\u001b[0;34m)\u001b[0m\u001b[0;34m)\u001b[0m\u001b[0;34m\u001b[0m\u001b[0;34m\u001b[0m\u001b[0m\n\u001b[0m\u001b[1;32m   1835\u001b[0m         \u001b[0;32mif\u001b[0m \u001b[0moutput\u001b[0m\u001b[0;34m.\u001b[0m\u001b[0mndim\u001b[0m \u001b[0;34m==\u001b[0m \u001b[0;36m0\u001b[0m\u001b[0;34m:\u001b[0m\u001b[0;34m\u001b[0m\u001b[0;34m\u001b[0m\u001b[0m\n\u001b[1;32m   1836\u001b[0m             \u001b[0;32mreturn\u001b[0m \u001b[0moutput\u001b[0m\u001b[0;34m[\u001b[0m\u001b[0;34m(\u001b[0m\u001b[0;34m)\u001b[0m\u001b[0;34m]\u001b[0m\u001b[0;34m\u001b[0m\u001b[0;34m\u001b[0m\u001b[0m\n",
            "\u001b[0;32m/usr/local/lib/python3.7/dist-packages/scipy/stats/_continuous_distns.py\u001b[0m in \u001b[0;36m_cdf\u001b[0;34m(self, x, a, b)\u001b[0m\n\u001b[1;32m    526\u001b[0m \u001b[0;34m\u001b[0m\u001b[0m\n\u001b[1;32m    527\u001b[0m     \u001b[0;32mdef\u001b[0m \u001b[0m_cdf\u001b[0m\u001b[0;34m(\u001b[0m\u001b[0mself\u001b[0m\u001b[0;34m,\u001b[0m \u001b[0mx\u001b[0m\u001b[0;34m,\u001b[0m \u001b[0ma\u001b[0m\u001b[0;34m,\u001b[0m \u001b[0mb\u001b[0m\u001b[0;34m)\u001b[0m\u001b[0;34m:\u001b[0m\u001b[0;34m\u001b[0m\u001b[0;34m\u001b[0m\u001b[0m\n\u001b[0;32m--> 528\u001b[0;31m         \u001b[0;32mreturn\u001b[0m \u001b[0msc\u001b[0m\u001b[0;34m.\u001b[0m\u001b[0mbtdtr\u001b[0m\u001b[0;34m(\u001b[0m\u001b[0ma\u001b[0m\u001b[0;34m,\u001b[0m \u001b[0mb\u001b[0m\u001b[0;34m,\u001b[0m \u001b[0mx\u001b[0m\u001b[0;34m)\u001b[0m\u001b[0;34m\u001b[0m\u001b[0;34m\u001b[0m\u001b[0m\n\u001b[0m\u001b[1;32m    529\u001b[0m \u001b[0;34m\u001b[0m\u001b[0m\n\u001b[1;32m    530\u001b[0m     \u001b[0;32mdef\u001b[0m \u001b[0m_ppf\u001b[0m\u001b[0;34m(\u001b[0m\u001b[0mself\u001b[0m\u001b[0;34m,\u001b[0m \u001b[0mq\u001b[0m\u001b[0;34m,\u001b[0m \u001b[0ma\u001b[0m\u001b[0;34m,\u001b[0m \u001b[0mb\u001b[0m\u001b[0;34m)\u001b[0m\u001b[0;34m:\u001b[0m\u001b[0;34m\u001b[0m\u001b[0;34m\u001b[0m\u001b[0m\n",
            "\u001b[0;31mKeyboardInterrupt\u001b[0m: "
          ]
        }
      ]
    },
    {
      "cell_type": "code",
      "source": [
        "table1 = pd.DataFrame({\"Statistics\":stat, \"Pvalue\":pval})\n",
        "table2 = pd.DataFrame({\"Statistics\":stat2, \"Pvalue\":pval2})\n",
        "table3 = pd.DataFrame({\"Statistics\":stat3, \"Pvalue\":pval3})\n",
        "table4 = pd.DataFrame({\"Statistics\":stat4, \"Pvalue\":pval4})\n",
        "statmean = sum(stat)/len(stat)\n",
        "statmean2 = sum(stat2)/len(stat2)\n",
        "statmean3 = sum(stat3)/len(stat3)\n",
        "statmean4 = sum(stat4)/len(stat4)\n",
        "closest = stat[min(range(len(stat)), key = lambda x: abs(stat[x]-statmean))]\n",
        "closest2 = stat2[min(range(len(stat2)), key = lambda x: abs(stat2[x]-statmean2))]\n",
        "closest3 = stat3[min(range(len(stat3)), key = lambda x: abs(stat3[x]-statmean3))]\n",
        "closest4 = stat4[min(range(len(stat4)), key = lambda x: abs(stat4[x]-statmean4))]\n",
        "new_table = table1.loc[table1[\"Statistics\"] == closest]\n",
        "new_table2 = table2.loc[table2[\"Statistics\"] == closest2]\n",
        "new_table3 = table3.loc[table3[\"Statistics\"] == closest3]\n",
        "new_table4 = table4.loc[table4[\"Statistics\"] == closest4]\n",
        "pvalue = new_table[\"Pvalue\"].iat[0]\n",
        "pvalue2 = new_table2[\"Pvalue\"].iat[0]\n",
        "pvalue3 = new_table3[\"Pvalue\"].iat[0]\n",
        "pvalue4 = new_table4[\"Pvalue\"].iat[0]\n",
        "print(f\"É Normal = {pvalue > 0.05})\")\n",
        "print(f\"É Weibull = {pvalue2 > 0.05})\")\n",
        "print(f\"É Beta = {pvalue3 > 0.05})\")\n",
        "print(f\"É Cauchy = {pvalue4 > 0.05})\")"
      ],
      "metadata": {
        "id": "abjnxAlqM7HT"
      },
      "id": "abjnxAlqM7HT",
      "execution_count": null,
      "outputs": []
    },
    {
      "cell_type": "markdown",
      "source": [
        "# Bootstrap"
      ],
      "metadata": {
        "id": "8ZMwW_qlkmm3"
      },
      "id": "8ZMwW_qlkmm3"
    },
    {
      "cell_type": "code",
      "source": [
        "bootsample = list(new_df['Temperatura'])"
      ],
      "metadata": {
        "id": "Y9Y9O6iFk2XT"
      },
      "id": "Y9Y9O6iFk2XT",
      "execution_count": null,
      "outputs": []
    },
    {
      "cell_type": "code",
      "source": [
        "def kspval(sample,params,dist):\n",
        "  pval =stats.kstest(sample, dist, params)[1]\n",
        "  return pval\n",
        "def lilitestpval(sample):\n",
        "  stt, pv = lilliefors(sample, dist='norm')\n",
        "  return pv\n",
        "def chipval(sample,expec):\n",
        "  pval = stats.chisquare(f_obs=sample, f_exp=expec)[1]\n",
        "  return pval\n",
        "def andpval(sample):\n",
        "  stat = stats.anderson(sample, dist='norm')[0]\n",
        "  return stat"
      ],
      "metadata": {
        "id": "1lsXO5MJzU0i"
      },
      "id": "1lsXO5MJzU0i",
      "execution_count": null,
      "outputs": []
    },
    {
      "cell_type": "code",
      "source": [
        "def bootstrap(df,r,params,dist):\n",
        "  boot = []\n",
        "  expected_value = calc_Expectation2(df)\n",
        "  ks_best = None\n",
        "  lili_best = None\n",
        "  chi_best = None\n",
        "  ande_best = None\n",
        "\n",
        "  for i in range(r):\n",
        "    a = random.sample(df, 500)\n",
        "    ks =kspval(a,params1,dist)\n",
        "    lili  = lilitestpval(a)\n",
        "    chi = float(chipval(a,expected_value))\n",
        "    ande = andpval(a)\n",
        "\n",
        "    if ks_best == None:\n",
        "      ks_best = ks\n",
        "    elif ks_best < ks:\n",
        "      ks_best = ks\n",
        "    \n",
        "    if lili_best == None:\n",
        "      lili_best = lili\n",
        "    elif lili_best < lili:\n",
        "      lili_best = lili\n",
        "\n",
        "    if chi_best == None:\n",
        "      chi_best = chi\n",
        "    elif chi_best < chi:\n",
        "      chi_best = chi\n",
        "    \n",
        "    if ande_best == None:\n",
        "      ande_best = ande\n",
        "    elif ande_best < ande:\n",
        "      ande_best = ande\n",
        "    \n",
        "    boot.append(a)\n",
        "  return [ks_best, lili_best, chi_best, ande_best], boot\n",
        "  "
      ],
      "metadata": {
        "id": "72DGNLi-k-8K"
      },
      "id": "72DGNLi-k-8K",
      "execution_count": null,
      "outputs": []
    },
    {
      "cell_type": "code",
      "source": [
        "result = bootstrap(bootsample,1000, params1,\"norm\")"
      ],
      "metadata": {
        "id": "2VbqBJxFsYti"
      },
      "id": "2VbqBJxFsYti",
      "execution_count": null,
      "outputs": []
    },
    {
      "cell_type": "code",
      "source": [
        "testes = result[0]\n",
        "boot = result[1]"
      ],
      "metadata": {
        "id": "9r-AprSm9G68"
      },
      "id": "9r-AprSm9G68",
      "execution_count": null,
      "outputs": []
    },
    {
      "cell_type": "code",
      "source": [
        "testes"
      ],
      "metadata": {
        "id": "puu_ftq0-Eno"
      },
      "id": "puu_ftq0-Eno",
      "execution_count": null,
      "outputs": []
    },
    {
      "cell_type": "code",
      "source": [
        "def BootsTrap(df,n,params,dist):\n",
        "  pval = []\n",
        "  stat = []\n",
        "  boot = []\n",
        "  for i in range(n):\n",
        "    sample = random.sample(df,500)\n",
        "    ks_test = stats.kstest(sample, dist, params)\n",
        "    boot.append([ks_test])\n",
        "    p = ks_test[1]\n",
        "    s = ks_test[0]\n",
        "    pval.append(p)\n",
        "    stat.append(s)\n",
        "  return pval,stat,boot"
      ],
      "metadata": {
        "id": "SEzcO9Hu_D_-"
      },
      "id": "SEzcO9Hu_D_-",
      "execution_count": null,
      "outputs": []
    },
    {
      "cell_type": "code",
      "source": [
        "resultnorm = BootsTrap(bootsample,2000, params1,\"norm\")\n",
        "resultbeta = BootsTrap(bootsample,2000, params2,\"beta\")\n",
        "resultweib = BootsTrap(bootsample,2000, params3,\"exponweib\")\n",
        "resultcauchy = BootsTrap(bootsample,2000, params4,\"cauchy\")\n",
        "pval = resultnorm[0]\n",
        "stat = resultnorm[1]\n",
        "pval2 = resultbeta[0]\n",
        "stat2 = resultbeta[1]\n",
        "pval3 = resultweib[0]\n",
        "stat3 = resultweib[1]\n",
        "pval4 = resultcauchy[0]\n",
        "stat4 = resultcauchy[1]\n",
        "table = pd.DataFrame({\"Normal\":{\"Statistics\":stat, \"Pvalue\":pval}, \"Beta\":{\"Statistics\":stat2, \"Pvalue\":pval2},\"Weib\":{\"Statistics\":stat3, \"Pvalue\":pval3},\"Cauchy\":{\"Statistics\":stat4, \"Pvalue\":pval4}})\n",
        "table"
      ],
      "metadata": {
        "id": "JdUeD_PvvbAH"
      },
      "id": "JdUeD_PvvbAH",
      "execution_count": null,
      "outputs": []
    },
    {
      "cell_type": "code",
      "source": [
        "table1 = pd.DataFrame({\"Statistics\":stat, \"Pvalue\":pval})\n",
        "table2 = pd.DataFrame({\"Statistics\":stat2, \"Pvalue\":pval2})\n",
        "table3 = pd.DataFrame({\"Statistics\":stat3, \"Pvalue\":pval3})\n",
        "table4 = pd.DataFrame({\"Statistics\":stat4, \"Pvalue\":pval4})"
      ],
      "metadata": {
        "id": "AXwMQjhwJJPl"
      },
      "id": "AXwMQjhwJJPl",
      "execution_count": null,
      "outputs": []
    },
    {
      "cell_type": "code",
      "source": [
        "sn.histplot(table1[\"Pvalue\"])"
      ],
      "metadata": {
        "id": "fdYzHWEe0XXA"
      },
      "id": "fdYzHWEe0XXA",
      "execution_count": null,
      "outputs": []
    },
    {
      "cell_type": "code",
      "source": [
        "import seaborn as sns\n",
        "sns.histplot(table1[\"Statistics\"])"
      ],
      "metadata": {
        "id": "uizQdHo0xhwo"
      },
      "id": "uizQdHo0xhwo",
      "execution_count": null,
      "outputs": []
    },
    {
      "cell_type": "code",
      "source": [
        "statmean = sum(stat)/len(stat)\n",
        "statmean"
      ],
      "metadata": {
        "id": "yycRUn680QWw"
      },
      "id": "yycRUn680QWw",
      "execution_count": null,
      "outputs": []
    },
    {
      "cell_type": "code",
      "source": [
        "closest = stat[min(range(len(stat)), key = lambda x: abs(stat[x]-statmean))]\n",
        "closest"
      ],
      "metadata": {
        "id": "bXOV7KoF0u5A"
      },
      "id": "bXOV7KoF0u5A",
      "execution_count": null,
      "outputs": []
    },
    {
      "cell_type": "code",
      "source": [
        "new_table = table1.loc[table1[\"Statistics\"] == closest]\n",
        "new_table"
      ],
      "metadata": {
        "id": "mSnFpF5T21tv"
      },
      "id": "mSnFpF5T21tv",
      "execution_count": null,
      "outputs": []
    },
    {
      "cell_type": "code",
      "source": [
        "pvalue = new_table[\"Pvalue\"].iat[0]\n",
        "pvalue"
      ],
      "metadata": {
        "id": "4goyBEYQ3iUJ"
      },
      "id": "4goyBEYQ3iUJ",
      "execution_count": null,
      "outputs": []
    },
    {
      "cell_type": "code",
      "source": [
        "new_df['Temperatura'].std()"
      ],
      "metadata": {
        "id": "waKvOOViDY7H"
      },
      "id": "waKvOOViDY7H",
      "execution_count": null,
      "outputs": []
    },
    {
      "cell_type": "code",
      "source": [
        "statmean2 = sum(stat2)/len(stat2)\n",
        "statmean3 = sum(stat3)/len(stat3)\n",
        "statmean4 = sum(stat4)/len(stat4)\n",
        "closest2 = stat2[min(range(len(stat2)), key = lambda x: abs(stat2[x]-statmean2))]\n",
        "closest3 = stat3[min(range(len(stat3)), key = lambda x: abs(stat3[x]-statmean3))]\n",
        "closest4 = stat4[min(range(len(stat4)), key = lambda x: abs(stat4[x]-statmean4))]\n",
        "new_table2 = table2.loc[table2[\"Statistics\"] == closest2]\n",
        "new_table3 = table3.loc[table3[\"Statistics\"] == closest3]\n",
        "new_table4 = table4.loc[table4[\"Statistics\"] == closest4]\n",
        "pvalue2 = new_table2[\"Pvalue\"].iat[0]\n",
        "pvalue3 = new_table3[\"Pvalue\"].iat[0]\n",
        "pvalue4 = new_table4[\"Pvalue\"].iat[0]"
      ],
      "metadata": {
        "id": "Gacx-F9tKMdO"
      },
      "id": "Gacx-F9tKMdO",
      "execution_count": null,
      "outputs": []
    },
    {
      "cell_type": "code",
      "source": [
        "print(f\"É Normal = {pvalue > 0.05})\")\n",
        "print(f\"É Weibull = {pvalue2 > 0.05})\")\n",
        "print(f\"É Beta = {pvalue3 > 0.05})\")\n",
        "print(f\"É Cauchy = {pvalue4 > 0.05})\")"
      ],
      "metadata": {
        "id": "ahM09Eo04Mgq"
      },
      "id": "ahM09Eo04Mgq",
      "execution_count": null,
      "outputs": []
    },
    {
      "cell_type": "code",
      "source": [
        "new_table4"
      ],
      "metadata": {
        "id": "TIl2srUFpeuC"
      },
      "id": "TIl2srUFpeuC",
      "execution_count": null,
      "outputs": []
    },
    {
      "cell_type": "markdown",
      "source": [
        "## Bootstrap Chi Square"
      ],
      "metadata": {
        "id": "DYStArmmTgVX"
      },
      "id": "DYStArmmTgVX"
    },
    {
      "cell_type": "markdown",
      "source": [
        "### Normal"
      ],
      "metadata": {
        "id": "af8BX6tjX_wf"
      },
      "id": "af8BX6tjX_wf"
    },
    {
      "cell_type": "code",
      "source": [
        "lista = new_df['Temperatura']\n",
        "lista = lista.to_numpy()\n",
        "lista"
      ],
      "metadata": {
        "id": "YCgHqV2hA_I6",
        "colab": {
          "base_uri": "https://localhost:8080/"
        },
        "outputId": "670d3f73-b9b1-4b13-e867-a5bac2f8d24d"
      },
      "execution_count": null,
      "outputs": [
        {
          "output_type": "execute_result",
          "data": {
            "text/plain": [
              "array([22.4, 24. , 24.8, ..., 25.5, 23.2, 22.5])"
            ]
          },
          "metadata": {},
          "execution_count": 3
        }
      ],
      "id": "YCgHqV2hA_I6"
    },
    {
      "cell_type": "code",
      "source": [
        "len(lista)"
      ],
      "metadata": {
        "id": "JdgPJpxwBXzS",
        "colab": {
          "base_uri": "https://localhost:8080/"
        },
        "outputId": "70b6aef2-8ec1-4992-90b1-efd5cbfdabbf"
      },
      "execution_count": null,
      "outputs": [
        {
          "output_type": "execute_result",
          "data": {
            "text/plain": [
              "15290"
            ]
          },
          "metadata": {},
          "execution_count": 4
        }
      ],
      "id": "JdgPJpxwBXzS"
    },
    {
      "cell_type": "code",
      "source": [
        "15290/5"
      ],
      "metadata": {
        "id": "N1YTniGDFIhr",
        "colab": {
          "base_uri": "https://localhost:8080/"
        },
        "outputId": "89581afe-0029-443b-e9f8-2118c7ff8d84"
      },
      "execution_count": null,
      "outputs": [
        {
          "output_type": "execute_result",
          "data": {
            "text/plain": [
              "3058.0"
            ]
          },
          "metadata": {},
          "execution_count": 5
        }
      ],
      "id": "N1YTniGDFIhr"
    },
    {
      "cell_type": "code",
      "source": [
        "import scipy.stats as stats \n",
        "mean = np.mean(new_df['Temperatura'])\n",
        "std = np.std(new_df['Temperatura'])\n",
        "bins = 3058.0\n",
        "classes = []\n",
        "for i in range(1,3059):\n",
        "  val = stats.norm.ppf(i/bins, mean, std)\n",
        "  interval.append(val)\n",
        "classes "
      ],
      "metadata": {
        "id": "oQBcWGC_E9rq"
      },
      "execution_count": null,
      "outputs": [],
      "id": "oQBcWGC_E9rq"
    },
    {
      "cell_type": "code",
      "source": [
        "classes.insert(0, -np.inf)\n",
        "classes"
      ],
      "metadata": {
        "id": "0JaW39FbJClg"
      },
      "execution_count": null,
      "outputs": [],
      "id": "0JaW39FbJClg"
    },
    {
      "cell_type": "code",
      "source": [
        "dff = pd.DataFrame({'lower_limit':classes[:-1], 'upper_limit':classes[1:]})\n",
        "dff "
      ],
      "metadata": {
        "id": "gF5b0hlxFIFk",
        "colab": {
          "base_uri": "https://localhost:8080/",
          "height": 424
        },
        "outputId": "30f5b5cf-9a00-4b50-d805-275ceb63c3e5"
      },
      "execution_count": null,
      "outputs": [
        {
          "output_type": "execute_result",
          "data": {
            "text/plain": [
              "      lower_limit  upper_limit\n",
              "0            -inf    18.503977\n",
              "1       18.503977    18.979817\n",
              "2       18.979817    19.270038\n",
              "3       19.270038    19.481850\n",
              "4       19.481850    19.649771\n",
              "...           ...          ...\n",
              "3053    34.081256    34.249177\n",
              "3054    34.249177    34.460989\n",
              "3055    34.460989    34.751210\n",
              "3056    34.751210    35.227050\n",
              "3057    35.227050          inf\n",
              "\n",
              "[3058 rows x 2 columns]"
            ],
            "text/html": [
              "\n",
              "  <div id=\"df-72a99a2e-7649-4c04-a491-25dd527c43dc\">\n",
              "    <div class=\"colab-df-container\">\n",
              "      <div>\n",
              "<style scoped>\n",
              "    .dataframe tbody tr th:only-of-type {\n",
              "        vertical-align: middle;\n",
              "    }\n",
              "\n",
              "    .dataframe tbody tr th {\n",
              "        vertical-align: top;\n",
              "    }\n",
              "\n",
              "    .dataframe thead th {\n",
              "        text-align: right;\n",
              "    }\n",
              "</style>\n",
              "<table border=\"1\" class=\"dataframe\">\n",
              "  <thead>\n",
              "    <tr style=\"text-align: right;\">\n",
              "      <th></th>\n",
              "      <th>lower_limit</th>\n",
              "      <th>upper_limit</th>\n",
              "    </tr>\n",
              "  </thead>\n",
              "  <tbody>\n",
              "    <tr>\n",
              "      <th>0</th>\n",
              "      <td>-inf</td>\n",
              "      <td>18.503977</td>\n",
              "    </tr>\n",
              "    <tr>\n",
              "      <th>1</th>\n",
              "      <td>18.503977</td>\n",
              "      <td>18.979817</td>\n",
              "    </tr>\n",
              "    <tr>\n",
              "      <th>2</th>\n",
              "      <td>18.979817</td>\n",
              "      <td>19.270038</td>\n",
              "    </tr>\n",
              "    <tr>\n",
              "      <th>3</th>\n",
              "      <td>19.270038</td>\n",
              "      <td>19.481850</td>\n",
              "    </tr>\n",
              "    <tr>\n",
              "      <th>4</th>\n",
              "      <td>19.481850</td>\n",
              "      <td>19.649771</td>\n",
              "    </tr>\n",
              "    <tr>\n",
              "      <th>...</th>\n",
              "      <td>...</td>\n",
              "      <td>...</td>\n",
              "    </tr>\n",
              "    <tr>\n",
              "      <th>3053</th>\n",
              "      <td>34.081256</td>\n",
              "      <td>34.249177</td>\n",
              "    </tr>\n",
              "    <tr>\n",
              "      <th>3054</th>\n",
              "      <td>34.249177</td>\n",
              "      <td>34.460989</td>\n",
              "    </tr>\n",
              "    <tr>\n",
              "      <th>3055</th>\n",
              "      <td>34.460989</td>\n",
              "      <td>34.751210</td>\n",
              "    </tr>\n",
              "    <tr>\n",
              "      <th>3056</th>\n",
              "      <td>34.751210</td>\n",
              "      <td>35.227050</td>\n",
              "    </tr>\n",
              "    <tr>\n",
              "      <th>3057</th>\n",
              "      <td>35.227050</td>\n",
              "      <td>inf</td>\n",
              "    </tr>\n",
              "  </tbody>\n",
              "</table>\n",
              "<p>3058 rows × 2 columns</p>\n",
              "</div>\n",
              "      <button class=\"colab-df-convert\" onclick=\"convertToInteractive('df-72a99a2e-7649-4c04-a491-25dd527c43dc')\"\n",
              "              title=\"Convert this dataframe to an interactive table.\"\n",
              "              style=\"display:none;\">\n",
              "        \n",
              "  <svg xmlns=\"http://www.w3.org/2000/svg\" height=\"24px\"viewBox=\"0 0 24 24\"\n",
              "       width=\"24px\">\n",
              "    <path d=\"M0 0h24v24H0V0z\" fill=\"none\"/>\n",
              "    <path d=\"M18.56 5.44l.94 2.06.94-2.06 2.06-.94-2.06-.94-.94-2.06-.94 2.06-2.06.94zm-11 1L8.5 8.5l.94-2.06 2.06-.94-2.06-.94L8.5 2.5l-.94 2.06-2.06.94zm10 10l.94 2.06.94-2.06 2.06-.94-2.06-.94-.94-2.06-.94 2.06-2.06.94z\"/><path d=\"M17.41 7.96l-1.37-1.37c-.4-.4-.92-.59-1.43-.59-.52 0-1.04.2-1.43.59L10.3 9.45l-7.72 7.72c-.78.78-.78 2.05 0 2.83L4 21.41c.39.39.9.59 1.41.59.51 0 1.02-.2 1.41-.59l7.78-7.78 2.81-2.81c.8-.78.8-2.07 0-2.86zM5.41 20L4 18.59l7.72-7.72 1.47 1.35L5.41 20z\"/>\n",
              "  </svg>\n",
              "      </button>\n",
              "      \n",
              "  <style>\n",
              "    .colab-df-container {\n",
              "      display:flex;\n",
              "      flex-wrap:wrap;\n",
              "      gap: 12px;\n",
              "    }\n",
              "\n",
              "    .colab-df-convert {\n",
              "      background-color: #E8F0FE;\n",
              "      border: none;\n",
              "      border-radius: 50%;\n",
              "      cursor: pointer;\n",
              "      display: none;\n",
              "      fill: #1967D2;\n",
              "      height: 32px;\n",
              "      padding: 0 0 0 0;\n",
              "      width: 32px;\n",
              "    }\n",
              "\n",
              "    .colab-df-convert:hover {\n",
              "      background-color: #E2EBFA;\n",
              "      box-shadow: 0px 1px 2px rgba(60, 64, 67, 0.3), 0px 1px 3px 1px rgba(60, 64, 67, 0.15);\n",
              "      fill: #174EA6;\n",
              "    }\n",
              "\n",
              "    [theme=dark] .colab-df-convert {\n",
              "      background-color: #3B4455;\n",
              "      fill: #D2E3FC;\n",
              "    }\n",
              "\n",
              "    [theme=dark] .colab-df-convert:hover {\n",
              "      background-color: #434B5C;\n",
              "      box-shadow: 0px 1px 3px 1px rgba(0, 0, 0, 0.15);\n",
              "      filter: drop-shadow(0px 1px 2px rgba(0, 0, 0, 0.3));\n",
              "      fill: #FFFFFF;\n",
              "    }\n",
              "  </style>\n",
              "\n",
              "      <script>\n",
              "        const buttonEl =\n",
              "          document.querySelector('#df-72a99a2e-7649-4c04-a491-25dd527c43dc button.colab-df-convert');\n",
              "        buttonEl.style.display =\n",
              "          google.colab.kernel.accessAllowed ? 'block' : 'none';\n",
              "\n",
              "        async function convertToInteractive(key) {\n",
              "          const element = document.querySelector('#df-72a99a2e-7649-4c04-a491-25dd527c43dc');\n",
              "          const dataTable =\n",
              "            await google.colab.kernel.invokeFunction('convertToInteractive',\n",
              "                                                     [key], {});\n",
              "          if (!dataTable) return;\n",
              "\n",
              "          const docLinkHtml = 'Like what you see? Visit the ' +\n",
              "            '<a target=\"_blank\" href=https://colab.research.google.com/notebooks/data_table.ipynb>data table notebook</a>'\n",
              "            + ' to learn more about interactive tables.';\n",
              "          element.innerHTML = '';\n",
              "          dataTable['output_type'] = 'display_data';\n",
              "          await google.colab.output.renderOutput(dataTable, element);\n",
              "          const docLink = document.createElement('div');\n",
              "          docLink.innerHTML = docLinkHtml;\n",
              "          element.appendChild(docLink);\n",
              "        }\n",
              "      </script>\n",
              "    </div>\n",
              "  </div>\n",
              "  "
            ]
          },
          "metadata": {},
          "execution_count": 9
        }
      ],
      "id": "gF5b0hlxFIFk"
    },
    {
      "cell_type": "code",
      "source": [
        "show = dff.iloc[np.r_[0:4, -4:0]]\n",
        "print(show.to_latex(index=False))"
      ],
      "metadata": {
        "colab": {
          "base_uri": "https://localhost:8080/"
        },
        "id": "89p3vFdFiWrn",
        "outputId": "554d061a-f3d5-45d2-e697-7ed8180460b3"
      },
      "id": "89p3vFdFiWrn",
      "execution_count": null,
      "outputs": [
        {
          "output_type": "stream",
          "name": "stdout",
          "text": [
            "\\begin{tabular}{rr}\n",
            "\\toprule\n",
            " lower\\_limit &  upper\\_limit \\\\\n",
            "\\midrule\n",
            "        -inf &    18.503977 \\\\\n",
            "   18.503977 &    18.979817 \\\\\n",
            "   18.979817 &    19.270038 \\\\\n",
            "   19.270038 &    19.481850 \\\\\n",
            "   34.249177 &    34.460989 \\\\\n",
            "   34.460989 &    34.751210 \\\\\n",
            "   34.751210 &    35.227050 \\\\\n",
            "   35.227050 &          inf \\\\\n",
            "\\bottomrule\n",
            "\\end{tabular}\n",
            "\n"
          ]
        }
      ]
    },
    {
      "cell_type": "code",
      "source": [
        "tp = list(sorted(new_df['Temperatura']))\n",
        "dff['obs_freq'] = dff.apply(lambda x:sum([i>x['lower_limit'] and i<=x['upper_limit'] for i in tp]), axis=1)\n",
        "dff['exp_freq'] = 5\n",
        "dff "
      ],
      "metadata": {
        "id": "PCHd58VzGDS9",
        "colab": {
          "base_uri": "https://localhost:8080/",
          "height": 424
        },
        "outputId": "4371a2c6-d5b9-4c1e-e394-8309c087bca5"
      },
      "execution_count": null,
      "outputs": [
        {
          "output_type": "execute_result",
          "data": {
            "text/plain": [
              "      lower_limit  upper_limit  obs_freq  exp_freq\n",
              "0            -inf    18.503977        24         5\n",
              "1       18.503977    18.979817         9         5\n",
              "2       18.979817    19.270038         8         5\n",
              "3       19.270038    19.481850        14         5\n",
              "4       19.481850    19.649771        11         5\n",
              "...           ...          ...       ...       ...\n",
              "3053    34.081256    34.249177        11         5\n",
              "3054    34.249177    34.460989         5         5\n",
              "3055    34.460989    34.751210         3         5\n",
              "3056    34.751210    35.227050         8         5\n",
              "3057    35.227050          inf        16         5\n",
              "\n",
              "[3058 rows x 4 columns]"
            ],
            "text/html": [
              "\n",
              "  <div id=\"df-9c598d9f-3be4-4815-98e6-611f0e404a32\">\n",
              "    <div class=\"colab-df-container\">\n",
              "      <div>\n",
              "<style scoped>\n",
              "    .dataframe tbody tr th:only-of-type {\n",
              "        vertical-align: middle;\n",
              "    }\n",
              "\n",
              "    .dataframe tbody tr th {\n",
              "        vertical-align: top;\n",
              "    }\n",
              "\n",
              "    .dataframe thead th {\n",
              "        text-align: right;\n",
              "    }\n",
              "</style>\n",
              "<table border=\"1\" class=\"dataframe\">\n",
              "  <thead>\n",
              "    <tr style=\"text-align: right;\">\n",
              "      <th></th>\n",
              "      <th>lower_limit</th>\n",
              "      <th>upper_limit</th>\n",
              "      <th>obs_freq</th>\n",
              "      <th>exp_freq</th>\n",
              "    </tr>\n",
              "  </thead>\n",
              "  <tbody>\n",
              "    <tr>\n",
              "      <th>0</th>\n",
              "      <td>-inf</td>\n",
              "      <td>18.503977</td>\n",
              "      <td>24</td>\n",
              "      <td>5</td>\n",
              "    </tr>\n",
              "    <tr>\n",
              "      <th>1</th>\n",
              "      <td>18.503977</td>\n",
              "      <td>18.979817</td>\n",
              "      <td>9</td>\n",
              "      <td>5</td>\n",
              "    </tr>\n",
              "    <tr>\n",
              "      <th>2</th>\n",
              "      <td>18.979817</td>\n",
              "      <td>19.270038</td>\n",
              "      <td>8</td>\n",
              "      <td>5</td>\n",
              "    </tr>\n",
              "    <tr>\n",
              "      <th>3</th>\n",
              "      <td>19.270038</td>\n",
              "      <td>19.481850</td>\n",
              "      <td>14</td>\n",
              "      <td>5</td>\n",
              "    </tr>\n",
              "    <tr>\n",
              "      <th>4</th>\n",
              "      <td>19.481850</td>\n",
              "      <td>19.649771</td>\n",
              "      <td>11</td>\n",
              "      <td>5</td>\n",
              "    </tr>\n",
              "    <tr>\n",
              "      <th>...</th>\n",
              "      <td>...</td>\n",
              "      <td>...</td>\n",
              "      <td>...</td>\n",
              "      <td>...</td>\n",
              "    </tr>\n",
              "    <tr>\n",
              "      <th>3053</th>\n",
              "      <td>34.081256</td>\n",
              "      <td>34.249177</td>\n",
              "      <td>11</td>\n",
              "      <td>5</td>\n",
              "    </tr>\n",
              "    <tr>\n",
              "      <th>3054</th>\n",
              "      <td>34.249177</td>\n",
              "      <td>34.460989</td>\n",
              "      <td>5</td>\n",
              "      <td>5</td>\n",
              "    </tr>\n",
              "    <tr>\n",
              "      <th>3055</th>\n",
              "      <td>34.460989</td>\n",
              "      <td>34.751210</td>\n",
              "      <td>3</td>\n",
              "      <td>5</td>\n",
              "    </tr>\n",
              "    <tr>\n",
              "      <th>3056</th>\n",
              "      <td>34.751210</td>\n",
              "      <td>35.227050</td>\n",
              "      <td>8</td>\n",
              "      <td>5</td>\n",
              "    </tr>\n",
              "    <tr>\n",
              "      <th>3057</th>\n",
              "      <td>35.227050</td>\n",
              "      <td>inf</td>\n",
              "      <td>16</td>\n",
              "      <td>5</td>\n",
              "    </tr>\n",
              "  </tbody>\n",
              "</table>\n",
              "<p>3058 rows × 4 columns</p>\n",
              "</div>\n",
              "      <button class=\"colab-df-convert\" onclick=\"convertToInteractive('df-9c598d9f-3be4-4815-98e6-611f0e404a32')\"\n",
              "              title=\"Convert this dataframe to an interactive table.\"\n",
              "              style=\"display:none;\">\n",
              "        \n",
              "  <svg xmlns=\"http://www.w3.org/2000/svg\" height=\"24px\"viewBox=\"0 0 24 24\"\n",
              "       width=\"24px\">\n",
              "    <path d=\"M0 0h24v24H0V0z\" fill=\"none\"/>\n",
              "    <path d=\"M18.56 5.44l.94 2.06.94-2.06 2.06-.94-2.06-.94-.94-2.06-.94 2.06-2.06.94zm-11 1L8.5 8.5l.94-2.06 2.06-.94-2.06-.94L8.5 2.5l-.94 2.06-2.06.94zm10 10l.94 2.06.94-2.06 2.06-.94-2.06-.94-.94-2.06-.94 2.06-2.06.94z\"/><path d=\"M17.41 7.96l-1.37-1.37c-.4-.4-.92-.59-1.43-.59-.52 0-1.04.2-1.43.59L10.3 9.45l-7.72 7.72c-.78.78-.78 2.05 0 2.83L4 21.41c.39.39.9.59 1.41.59.51 0 1.02-.2 1.41-.59l7.78-7.78 2.81-2.81c.8-.78.8-2.07 0-2.86zM5.41 20L4 18.59l7.72-7.72 1.47 1.35L5.41 20z\"/>\n",
              "  </svg>\n",
              "      </button>\n",
              "      \n",
              "  <style>\n",
              "    .colab-df-container {\n",
              "      display:flex;\n",
              "      flex-wrap:wrap;\n",
              "      gap: 12px;\n",
              "    }\n",
              "\n",
              "    .colab-df-convert {\n",
              "      background-color: #E8F0FE;\n",
              "      border: none;\n",
              "      border-radius: 50%;\n",
              "      cursor: pointer;\n",
              "      display: none;\n",
              "      fill: #1967D2;\n",
              "      height: 32px;\n",
              "      padding: 0 0 0 0;\n",
              "      width: 32px;\n",
              "    }\n",
              "\n",
              "    .colab-df-convert:hover {\n",
              "      background-color: #E2EBFA;\n",
              "      box-shadow: 0px 1px 2px rgba(60, 64, 67, 0.3), 0px 1px 3px 1px rgba(60, 64, 67, 0.15);\n",
              "      fill: #174EA6;\n",
              "    }\n",
              "\n",
              "    [theme=dark] .colab-df-convert {\n",
              "      background-color: #3B4455;\n",
              "      fill: #D2E3FC;\n",
              "    }\n",
              "\n",
              "    [theme=dark] .colab-df-convert:hover {\n",
              "      background-color: #434B5C;\n",
              "      box-shadow: 0px 1px 3px 1px rgba(0, 0, 0, 0.15);\n",
              "      filter: drop-shadow(0px 1px 2px rgba(0, 0, 0, 0.3));\n",
              "      fill: #FFFFFF;\n",
              "    }\n",
              "  </style>\n",
              "\n",
              "      <script>\n",
              "        const buttonEl =\n",
              "          document.querySelector('#df-9c598d9f-3be4-4815-98e6-611f0e404a32 button.colab-df-convert');\n",
              "        buttonEl.style.display =\n",
              "          google.colab.kernel.accessAllowed ? 'block' : 'none';\n",
              "\n",
              "        async function convertToInteractive(key) {\n",
              "          const element = document.querySelector('#df-9c598d9f-3be4-4815-98e6-611f0e404a32');\n",
              "          const dataTable =\n",
              "            await google.colab.kernel.invokeFunction('convertToInteractive',\n",
              "                                                     [key], {});\n",
              "          if (!dataTable) return;\n",
              "\n",
              "          const docLinkHtml = 'Like what you see? Visit the ' +\n",
              "            '<a target=\"_blank\" href=https://colab.research.google.com/notebooks/data_table.ipynb>data table notebook</a>'\n",
              "            + ' to learn more about interactive tables.';\n",
              "          element.innerHTML = '';\n",
              "          dataTable['output_type'] = 'display_data';\n",
              "          await google.colab.output.renderOutput(dataTable, element);\n",
              "          const docLink = document.createElement('div');\n",
              "          docLink.innerHTML = docLinkHtml;\n",
              "          element.appendChild(docLink);\n",
              "        }\n",
              "      </script>\n",
              "    </div>\n",
              "  </div>\n",
              "  "
            ]
          },
          "metadata": {},
          "execution_count": 15
        }
      ],
      "id": "PCHd58VzGDS9"
    },
    {
      "cell_type": "code",
      "source": [
        "show = dff.iloc[np.r_[0:5, -5:0]]\n",
        "print(show.to_latex(index=False))"
      ],
      "metadata": {
        "colab": {
          "base_uri": "https://localhost:8080/"
        },
        "id": "tvSmqLQYjxGo",
        "outputId": "1804aabd-d80a-45a8-8425-d1b7e456af30"
      },
      "id": "tvSmqLQYjxGo",
      "execution_count": null,
      "outputs": [
        {
          "output_type": "stream",
          "name": "stdout",
          "text": [
            "\\begin{tabular}{rrrr}\n",
            "\\toprule\n",
            " lower\\_limit &  upper\\_limit &  obs\\_freq &  exp\\_freq \\\\\n",
            "\\midrule\n",
            "        -inf &    18.503977 &        24 &         5 \\\\\n",
            "   18.503977 &    18.979817 &         9 &         5 \\\\\n",
            "   18.979817 &    19.270038 &         8 &         5 \\\\\n",
            "   19.270038 &    19.481850 &        14 &         5 \\\\\n",
            "   19.481850 &    19.649771 &        11 &         5 \\\\\n",
            "   34.081256 &    34.249177 &        11 &         5 \\\\\n",
            "   34.249177 &    34.460989 &         5 &         5 \\\\\n",
            "   34.460989 &    34.751210 &         3 &         5 \\\\\n",
            "   34.751210 &    35.227050 &         8 &         5 \\\\\n",
            "   35.227050 &          inf &        16 &         5 \\\\\n",
            "\\bottomrule\n",
            "\\end{tabular}\n",
            "\n"
          ]
        }
      ]
    },
    {
      "cell_type": "code",
      "source": [
        "stats.chisquare(dff['obs_freq'], dff['exp_freq'])"
      ],
      "metadata": {
        "id": "M08N3DmGKwqh",
        "colab": {
          "base_uri": "https://localhost:8080/"
        },
        "outputId": "4c087087-24e7-42f3-8ece-288a476e93ea"
      },
      "execution_count": null,
      "outputs": [
        {
          "output_type": "execute_result",
          "data": {
            "text/plain": [
              "Power_divergenceResult(statistic=619210.4, pvalue=0.0)"
            ]
          },
          "metadata": {},
          "execution_count": 19
        }
      ],
      "id": "M08N3DmGKwqh"
    },
    {
      "cell_type": "code",
      "source": [
        "p = 2 # número de parâmetros\n",
        "DOF = len(dff['obs_freq']) - p -1\n",
        "stats.chi2.ppf(0,95, DOF)"
      ],
      "metadata": {
        "id": "4a8PdW7Bghdv"
      },
      "execution_count": null,
      "outputs": [],
      "id": "4a8PdW7Bghdv"
    },
    {
      "cell_type": "code",
      "source": [
        "15290/3058"
      ],
      "metadata": {
        "colab": {
          "base_uri": "https://localhost:8080/"
        },
        "id": "SNCoMzNgjmT8",
        "outputId": "8f31fe72-ddb7-4645-9f35-dbfa990b326b"
      },
      "id": "SNCoMzNgjmT8",
      "execution_count": null,
      "outputs": [
        {
          "output_type": "execute_result",
          "data": {
            "text/plain": [
              "5.0"
            ]
          },
          "metadata": {},
          "execution_count": 14
        }
      ]
    },
    {
      "cell_type": "markdown",
      "source": [
        "### Weibull"
      ],
      "metadata": {
        "id": "zt0n7KD8YHWl"
      },
      "id": "zt0n7KD8YHWl"
    },
    {
      "cell_type": "code",
      "source": [
        "lista = new_df['Temperatura']\n",
        "lista = lista.to_numpy()\n",
        "lista"
      ],
      "metadata": {
        "id": "YaavE0JDYHWl"
      },
      "execution_count": null,
      "outputs": [],
      "id": "YaavE0JDYHWl"
    },
    {
      "cell_type": "code",
      "source": [
        "len(lista)"
      ],
      "metadata": {
        "id": "epuhUhUlYHWm"
      },
      "execution_count": null,
      "outputs": [],
      "id": "epuhUhUlYHWm"
    },
    {
      "cell_type": "code",
      "source": [
        "15290/5"
      ],
      "metadata": {
        "id": "oNnKOMDiYHWm"
      },
      "execution_count": null,
      "outputs": [],
      "id": "oNnKOMDiYHWm"
    },
    {
      "cell_type": "code",
      "source": [
        "mu = 11.345812667993027\n",
        "std = 27.981163525530377\n",
        "bins = 3058.0\n",
        "interval = []\n",
        "for i in range(1,3059):\n",
        "  val = stats.weibull_max.ppf(i/bins, mu, std)\n",
        "  interval.append(val)\n",
        "interval "
      ],
      "metadata": {
        "id": "cwbHGJ4vYHWm"
      },
      "execution_count": null,
      "outputs": [],
      "id": "cwbHGJ4vYHWm"
    },
    {
      "cell_type": "code",
      "source": [
        "interval.insert(0, -np.inf)\n",
        "interval"
      ],
      "metadata": {
        "id": "4WtVEHncYHWm"
      },
      "execution_count": null,
      "outputs": [],
      "id": "4WtVEHncYHWm"
    },
    {
      "cell_type": "code",
      "source": [
        "dff = pd.DataFrame({'lower_limit':interval[:-1], 'upper_limit':interval[1:]})\n",
        "dff "
      ],
      "metadata": {
        "id": "WsUd56J0YHWn"
      },
      "execution_count": null,
      "outputs": [],
      "id": "WsUd56J0YHWn"
    },
    {
      "cell_type": "code",
      "source": [
        "life_values = list(sorted(new_df['Temperatura']))\n",
        "dff['obs_freq'] = dff.apply(lambda x:sum([i>x['lower_limit'] and i<=x['upper_limit'] for i in life_values]), axis=1)\n",
        "dff['exp_freq'] = 5\n",
        "dff "
      ],
      "metadata": {
        "id": "ccNBO0i6YHWn"
      },
      "execution_count": null,
      "outputs": [],
      "id": "ccNBO0i6YHWn"
    },
    {
      "cell_type": "code",
      "source": [
        "stats.chisquare(dff['obs_freq'], dff['exp_freq'])"
      ],
      "metadata": {
        "id": "JwTxOaR6YHWn"
      },
      "execution_count": null,
      "outputs": [],
      "id": "JwTxOaR6YHWn"
    },
    {
      "cell_type": "code",
      "source": [
        "p = 2 # número de parâmetros\n",
        "DOF = len(dff['obs_freq']) - p -1\n",
        "stats.chi2.ppf(0,95, DOF)"
      ],
      "metadata": {
        "id": "z3r520cOYHWn"
      },
      "execution_count": null,
      "outputs": [],
      "id": "z3r520cOYHWn"
    },
    {
      "cell_type": "markdown",
      "source": [
        "## Beta"
      ],
      "metadata": {
        "id": "_Ah1Q5CCafrl"
      },
      "id": "_Ah1Q5CCafrl"
    },
    {
      "cell_type": "code",
      "source": [
        "a,b,l,s = 61127.574559804925, 3027.999838002188, -2765.568788110334, 2930.759460714764\n",
        "bins = 3058.0\n",
        "interval = []\n",
        "for i in range(1,3059):\n",
        "  val = stats.beta.ppf(i/bins, a,b,l,s)\n",
        "  interval.append(val)\n",
        "interval "
      ],
      "metadata": {
        "id": "xGm8BDM7aii-"
      },
      "execution_count": null,
      "outputs": [],
      "id": "xGm8BDM7aii-"
    },
    {
      "cell_type": "code",
      "source": [
        "interval.insert(0, -np.inf)\n",
        "interval"
      ],
      "metadata": {
        "id": "g0-SS0bBaii-"
      },
      "execution_count": null,
      "outputs": [],
      "id": "g0-SS0bBaii-"
    },
    {
      "cell_type": "code",
      "source": [
        "dff = pd.DataFrame({'lower_limit':interval[:-1], 'upper_limit':interval[1:]})\n",
        "dff "
      ],
      "metadata": {
        "id": "YvDEUqyAaii_"
      },
      "execution_count": null,
      "outputs": [],
      "id": "YvDEUqyAaii_"
    },
    {
      "cell_type": "code",
      "source": [
        "life_values = list(sorted(new_df['Temperatura']))\n",
        "dff['obs_freq'] = dff.apply(lambda x:sum([i>x['lower_limit'] and i<=x['upper_limit'] for i in life_values]), axis=1)\n",
        "dff['exp_freq'] = 5\n",
        "dff "
      ],
      "metadata": {
        "id": "3MQz4WDcaijA"
      },
      "execution_count": null,
      "outputs": [],
      "id": "3MQz4WDcaijA"
    },
    {
      "cell_type": "code",
      "source": [
        "stats.chisquare(dff['obs_freq'], dff['exp_freq'])"
      ],
      "metadata": {
        "id": "X_0XkF0WaijB"
      },
      "execution_count": null,
      "outputs": [],
      "id": "X_0XkF0WaijB"
    },
    {
      "cell_type": "code",
      "source": [
        "p = 2 # número de parâmetros\n",
        "DOF = len(dff['obs_freq']) - p -1\n",
        "stats.chi2.ppf(0,95, DOF)"
      ],
      "metadata": {
        "id": "ttjIi7H2aijC"
      },
      "execution_count": null,
      "outputs": [],
      "id": "ttjIi7H2aijC"
    },
    {
      "cell_type": "markdown",
      "source": [
        "## Cauchy"
      ],
      "metadata": {
        "id": "iqfpwwbmbbmD"
      },
      "id": "iqfpwwbmbbmD"
    },
    {
      "cell_type": "code",
      "source": [
        "mu, std = stats.cauchy.fit(new_df['Temperatura'])\n",
        "bins = 3058.0\n",
        "interval = []\n",
        "for i in range(1,3059):\n",
        "  val = stats.beta.ppf(i/bins, mu,std)\n",
        "  interval.append(val)\n",
        "interval "
      ],
      "metadata": {
        "id": "RtX6NaonbbmD"
      },
      "execution_count": null,
      "outputs": [],
      "id": "RtX6NaonbbmD"
    },
    {
      "cell_type": "code",
      "source": [
        "interval.insert(0, -np.inf)\n",
        "interval"
      ],
      "metadata": {
        "id": "dIEPQv2vbbmE"
      },
      "execution_count": null,
      "outputs": [],
      "id": "dIEPQv2vbbmE"
    },
    {
      "cell_type": "code",
      "source": [
        "dff = pd.DataFrame({'lower_limit':interval[:-1], 'upper_limit':interval[1:]})\n",
        "dff "
      ],
      "metadata": {
        "id": "brdUWj_zbbmE"
      },
      "execution_count": null,
      "outputs": [],
      "id": "brdUWj_zbbmE"
    },
    {
      "cell_type": "code",
      "source": [
        "life_values = list(sorted(new_df['Temperatura']))\n",
        "dff['obs_freq'] = dff.apply(lambda x:sum([i>x['lower_limit'] and i<=x['upper_limit'] for i in life_values]), axis=1)\n",
        "dff['exp_freq'] = 5\n",
        "dff "
      ],
      "metadata": {
        "id": "-krlUdVUbbmE"
      },
      "execution_count": null,
      "outputs": [],
      "id": "-krlUdVUbbmE"
    },
    {
      "cell_type": "code",
      "source": [
        "stats.chisquare(dff['obs_freq'], dff['exp_freq'])"
      ],
      "metadata": {
        "id": "HOA7SvlTbbmE"
      },
      "execution_count": null,
      "outputs": [],
      "id": "HOA7SvlTbbmE"
    },
    {
      "cell_type": "code",
      "source": [
        "p = 2 # número de parâmetros\n",
        "DOF = len(dff['obs_freq']) - p -1\n",
        "stats.chi2.ppf(0,95, DOF)"
      ],
      "metadata": {
        "id": "-L5SR-0IbbmF"
      },
      "execution_count": null,
      "outputs": [],
      "id": "-L5SR-0IbbmF"
    },
    {
      "cell_type": "markdown",
      "source": [
        "# Lilifors Bootstrap"
      ],
      "metadata": {
        "id": "KgkLKgDulbbt"
      },
      "id": "KgkLKgDulbbt"
    },
    {
      "cell_type": "code",
      "source": [
        "def BootsTrapLilifors(df,n):\n",
        "  pval = []\n",
        "  stat = []\n",
        "  boot = []\n",
        "  for i in range(n):\n",
        "    sample = random.sample(df,500)\n",
        "    stt, pv = lilliefors(sample, dist='norm')\n",
        "    boot.append([stt, pv])\n",
        "    pval.append(pv)\n",
        "    stat.append(stt)\n",
        "  return pval,stat,boot"
      ],
      "metadata": {
        "id": "aoUdd0rGlesh"
      },
      "id": "aoUdd0rGlesh",
      "execution_count": null,
      "outputs": []
    },
    {
      "cell_type": "code",
      "source": [
        "resultnorm = BootsTrapLilifors(bootsample,2000)\n",
        "pval = resultnorm[0]\n",
        "stat = resultnorm[1]"
      ],
      "metadata": {
        "id": "LRd1SyUKlhcC"
      },
      "id": "LRd1SyUKlhcC",
      "execution_count": null,
      "outputs": []
    },
    {
      "cell_type": "code",
      "source": [
        "table1 = pd.DataFrame({\"Statistics\":stat, \"Pvalue\":pval})\n",
        "sns.histplot(table1[\"Pvalue\"])"
      ],
      "metadata": {
        "id": "9SvEbFHUljBx"
      },
      "id": "9SvEbFHUljBx",
      "execution_count": null,
      "outputs": []
    },
    {
      "cell_type": "code",
      "source": [
        "sns.histplot(table1[\"Statistics\"])"
      ],
      "metadata": {
        "id": "i_K7ddfilko9"
      },
      "id": "i_K7ddfilko9",
      "execution_count": null,
      "outputs": []
    },
    {
      "cell_type": "code",
      "source": [
        "statmean = sum(stat)/len(stat)\n",
        "closest = stat[min(range(len(stat)), key = lambda x: abs(stat[x]-statmean))]\n",
        "new_table = table1.loc[table1[\"Statistics\"] == closest]\n",
        "new_table"
      ],
      "metadata": {
        "id": "FhQGqV1VlmSm"
      },
      "id": "FhQGqV1VlmSm",
      "execution_count": null,
      "outputs": []
    },
    {
      "cell_type": "code",
      "source": [
        "pvalue = new_table[\"Pvalue\"].iat[0]\n",
        "pvalue"
      ],
      "metadata": {
        "id": "C9_MTfmYlqOv"
      },
      "id": "C9_MTfmYlqOv",
      "execution_count": null,
      "outputs": []
    },
    {
      "cell_type": "code",
      "source": [
        "print(f\"É Normal = {pvalue > 0.05})\")"
      ],
      "metadata": {
        "id": "pmWpZNz-lr8d"
      },
      "id": "pmWpZNz-lr8d",
      "execution_count": null,
      "outputs": []
    },
    {
      "cell_type": "markdown",
      "source": [
        "# Anderson Darling Bootstrap"
      ],
      "metadata": {
        "id": "VytG3ztUj9Wg"
      },
      "id": "VytG3ztUj9Wg"
    },
    {
      "cell_type": "code",
      "source": [
        "def BootsTrapAnderson(df,n,dist):\n",
        "  critic = []\n",
        "  statistic = []\n",
        "  for i in range(n):\n",
        "    sample = random.sample(df,500)\n",
        "    stat , cv, sl = stats.anderson(sample, dist='norm')\n",
        "    critic.append(cv)\n",
        "    statistic.append(stat)\n",
        "  return critic,statistic,sl"
      ],
      "metadata": {
        "id": "oJypnFA2lyNI"
      },
      "id": "oJypnFA2lyNI",
      "execution_count": null,
      "outputs": []
    },
    {
      "cell_type": "code",
      "source": [
        "n = 500\n",
        "tmp = list(new_df['Temperatura'])\n",
        "amostra4 = random.sample(tmp, n)\n",
        "stat , cv, sl = stats.anderson(amostra4, dist='norm')\n",
        "print(stat)\n",
        "print(cv)\n",
        "print(sl)"
      ],
      "metadata": {
        "id": "bH_UGSJVKvH-"
      },
      "id": "bH_UGSJVKvH-",
      "execution_count": null,
      "outputs": []
    },
    {
      "cell_type": "code",
      "source": [
        "resultnorm = BootsTrapAnderson(bootsample,2000,\"norm\")\n",
        "resultexpon = BootsTrapAnderson(bootsample,2000,\"expon\")\n",
        "resultlogistic = BootsTrapAnderson(bootsample,2000,\"logistic\")\n",
        "resultgumbel = BootsTrapAnderson(bootsample,2000,\"gumbel\")\n",
        "resultgumbelL = BootsTrapAnderson(bootsample,2000,\"gumbel_l\")\n",
        "resultgumbelR = BootsTrapAnderson(bootsample,2000,\"gumbel_r\")\n",
        "resultextreme = BootsTrapAnderson(bootsample,2000,\"extreme1\")\n",
        "\n",
        "critic = resultnorm[0]\n",
        "stat = resultnorm[1]\n",
        "\n",
        "\n",
        "\n",
        "sl = stats.anderson(amostra, dist='norm')[2]"
      ],
      "metadata": {
        "id": "Iw0DxhOEl210"
      },
      "id": "Iw0DxhOEl210",
      "execution_count": null,
      "outputs": []
    },
    {
      "cell_type": "code",
      "source": [
        "critic2,stat2,a = resultexpon\n",
        "critic3,stat3,a2 = resultlogistic\n",
        "critic4,stat4,a3 = resultgumbel\n",
        "critic5,stat5,a4 = resultgumbelL\n",
        "critic6,stat6,a5 = resultgumbelR\n",
        "critic7,stat7,a6 = resultextreme"
      ],
      "metadata": {
        "id": "uZ2FTTThrrgW"
      },
      "id": "uZ2FTTThrrgW",
      "execution_count": null,
      "outputs": []
    },
    {
      "cell_type": "code",
      "source": [
        "critic"
      ],
      "metadata": {
        "id": "KkXtCF-usIrP"
      },
      "id": "KkXtCF-usIrP",
      "execution_count": null,
      "outputs": []
    },
    {
      "cell_type": "code",
      "source": [
        "table1 = pd.DataFrame({\"Statistics\":stat, \"Critic\":critic})\n",
        "table2 = pd.DataFrame({\"Statistics\":stat2, \"Critic\":critic2})\n",
        "table3 = pd.DataFrame({\"Statistics\":stat3, \"Critic\":critic3})\n",
        "table4 = pd.DataFrame({\"Statistics\":stat4, \"Critic\":critic4})\n",
        "table5 = pd.DataFrame({\"Statistics\":stat5, \"Critic\":critic5})\n",
        "table6 = pd.DataFrame({\"Statistics\":stat6, \"Critic\":critic6})\n",
        "table7 = pd.DataFrame({\"Statistics\":stat7, \"Critic\":critic7})\n",
        "sns.histplot(table1[\"Statistics\"])"
      ],
      "metadata": {
        "id": "1Qg7GwO-l666"
      },
      "id": "1Qg7GwO-l666",
      "execution_count": null,
      "outputs": []
    },
    {
      "cell_type": "code",
      "source": [
        "statmean = sum(stat)/len(stat)\n",
        "statmean2 = sum(stat2)/len(stat2)\n",
        "statmean3 = sum(stat3)/len(stat3)\n",
        "statmean4 = sum(stat4)/len(stat4)\n",
        "statmean5 = sum(stat5)/len(stat5)\n",
        "statmean6 = sum(stat6)/len(stat6)\n",
        "statmean7 = sum(stat7)/len(stat7)\n",
        "closest = stat[min(range(len(stat)), key = lambda x: abs(stat[x]-statmean))]\n",
        "closest2 = stat2[min(range(len(stat2)), key = lambda x: abs(stat2[x]-statmean2))]\n",
        "closest3 = stat3[min(range(len(stat3)), key = lambda x: abs(stat3[x]-statmean3))]\n",
        "closest4 = stat4[min(range(len(stat4)), key = lambda x: abs(stat4[x]-statmean4))]\n",
        "closest5 = stat5[min(range(len(stat5)), key = lambda x: abs(stat5[x]-statmean5))]\n",
        "closest6 = stat6[min(range(len(stat6)), key = lambda x: abs(stat6[x]-statmean6))]\n",
        "closest7 = stat7[min(range(len(stat7)), key = lambda x: abs(stat7[x]-statmean7))]\n",
        "\n",
        "new_table = table1.loc[table1[\"Statistics\"] == closest]\n",
        "new_table2 = table2.loc[table2[\"Statistics\"] == closest2]\n",
        "new_table3 = table3.loc[table3[\"Statistics\"] == closest3]\n",
        "new_table4 = table4.loc[table4[\"Statistics\"] == closest4]\n",
        "new_table5 = table5.loc[table5[\"Statistics\"] == closest5]\n",
        "new_table6 = table6.loc[table6[\"Statistics\"] == closest6]\n",
        "new_table7 = table7.loc[table7[\"Statistics\"] == closest7]\n",
        "new_table"
      ],
      "metadata": {
        "id": "k2kKQx3Al7YU"
      },
      "id": "k2kKQx3Al7YU",
      "execution_count": null,
      "outputs": []
    },
    {
      "cell_type": "code",
      "source": [
        "closest2"
      ],
      "metadata": {
        "id": "GxIceG_KsQBF"
      },
      "id": "GxIceG_KsQBF",
      "execution_count": null,
      "outputs": []
    },
    {
      "cell_type": "code",
      "source": [
        "Critical = new_table[\"Critic\"].iat[0]\n",
        "Critical2 = new_table2[\"Critic\"].iat[0]\n",
        "\n",
        "Critical3 = new_table3[\"Critic\"].iat[0]\n",
        "Critical4 = new_table4[\"Critic\"].iat[0]\n",
        "Critical5 = new_table5[\"Critic\"].iat[0]\n",
        "Critical6 = new_table6[\"Critic\"].iat[0]\n",
        "Critical7 = new_table7[\"Critic\"].iat[0]\n",
        "Critical"
      ],
      "metadata": {
        "id": "jj9NTgs6l_ES"
      },
      "id": "jj9NTgs6l_ES",
      "execution_count": null,
      "outputs": []
    },
    {
      "cell_type": "code",
      "source": [
        "for i in sl:\n",
        "  ind = list(sl).index(i)\n",
        "  print(\" Em um nivel de significancia de {}:\".format(i))\n",
        "  if statmean > Critical[ind]:\n",
        "    print(\"Hipotese Nula Rejeitada\")\n",
        "  else:\n",
        "    print(\"Hipotese Nula Aceita\")"
      ],
      "metadata": {
        "id": "A1wgWpBlmAzX"
      },
      "id": "A1wgWpBlmAzX",
      "execution_count": null,
      "outputs": []
    },
    {
      "cell_type": "code",
      "source": [
        "Critical[2]"
      ],
      "metadata": {
        "id": "og70suwystg4"
      },
      "id": "og70suwystg4",
      "execution_count": null,
      "outputs": []
    },
    {
      "cell_type": "code",
      "source": [
        "\n",
        "if statmean > Critical[2]:\n",
        "  print(\"Hipotese NOrmal Rejeitada\")\n",
        "else:\n",
        "    print(\"Hipotese Nula Aceita\")\n",
        "if statmean2 > Critical2[2]:\n",
        "    print(\"Hipotese exponencial Rejeitada\")\n",
        "else:\n",
        "    print(\"Hipotese exponencial Aceita\")\n",
        "    \n",
        "if statmean3 > Critical3[2]:\n",
        "    print(\"Hipotese Logistica Rejeitada\")\n",
        "else:\n",
        "    print(\"Hipotese Logistica Aceita\")\n",
        "if statmean4 > Critical4[2]:\n",
        "    print(\"Hipotese Gumbell Rejeitada\")\n",
        "else:\n",
        "    print(\"Hipotese Gumbell Aceita\")\n",
        "if statmean5 > Critical5[2]:\n",
        "    print(\"Hipotese GumbellL Rejeitada\")\n",
        "else:\n",
        "    print(\"Hipotese GumbellL Aceita\")\n",
        "if statmean6 > Critical6[2]:\n",
        "    print(\"Hipotese GumbellR Rejeitada\")\n",
        "else:\n",
        "    print(\"Hipotese GumbellR Aceita\")\n",
        "if statmean7 > Critical7[2]:\n",
        "    print(\"Hipotese Extreme Rejeitada\")\n",
        "else:\n",
        "    print(\"Hipotese Extreme Aceita\")"
      ],
      "metadata": {
        "id": "4XFarhIUpT1J"
      },
      "id": "4XFarhIUpT1J",
      "execution_count": null,
      "outputs": []
    },
    {
      "cell_type": "markdown",
      "source": [
        "# Função geradora de momento"
      ],
      "metadata": {
        "id": "WJJdA9yCPhCL"
      },
      "id": "WJJdA9yCPhCL"
    },
    {
      "cell_type": "code",
      "source": [
        ""
      ],
      "metadata": {
        "id": "RE-gKPKAt6u3"
      },
      "id": "RE-gKPKAt6u3",
      "execution_count": null,
      "outputs": []
    },
    {
      "cell_type": "code",
      "source": [
        "import statistics\n",
        "statistics.variance(new_df[\"Temperatura\"])"
      ],
      "metadata": {
        "colab": {
          "base_uri": "https://localhost:8080/"
        },
        "id": "OKbOfLI8Wl3t",
        "outputId": "207e27b2-d9b2-4ba3-dac4-426f847deb36"
      },
      "id": "OKbOfLI8Wl3t",
      "execution_count": null,
      "outputs": [
        {
          "output_type": "execute_result",
          "data": {
            "text/plain": [
              "6.019498019474882"
            ]
          },
          "metadata": {},
          "execution_count": 119
        }
      ]
    },
    {
      "cell_type": "code",
      "source": [
        "from google.colab import drive\n",
        "drive.mount('/content/drive')"
      ],
      "metadata": {
        "id": "UzuMAwEHc8AD",
        "colab": {
          "base_uri": "https://localhost:8080/"
        },
        "outputId": "c2b5d37b-0ed1-4346-8dc2-9e495fc0dfb9"
      },
      "id": "UzuMAwEHc8AD",
      "execution_count": null,
      "outputs": [
        {
          "output_type": "stream",
          "name": "stdout",
          "text": [
            "Mounted at /content/drive\n"
          ]
        }
      ]
    },
    {
      "cell_type": "code",
      "source": [
        "means = new_df['Temperatura'].mean()\n",
        "stds = new_df['Temperatura'].std()"
      ],
      "metadata": {
        "id": "OPA6JUCk54yX"
      },
      "id": "OPA6JUCk54yX",
      "execution_count": null,
      "outputs": []
    },
    {
      "cell_type": "code",
      "source": [
        "# Momentos da Distribuição Teórica\n",
        "import numpy as np\n",
        "import scipy.stats as stats \n",
        "momentsample2 = np.random.normal(loc=means, scale=stds, size=15290)\n",
        "print(\"Momento 1:\", momentsample2.mean())\n",
        "print(\"Momento 2:\", stats.moment(momentsample2, moment=2), \"(Dispersão/variancia)\")\n",
        "print(\"Momento 3:\", stats.moment(momentsample2, moment=3), \"(Assimetria/skewness)\")\n",
        "print(\"Momento 4:\", stats.moment(momentsample2, moment=4), \"(Curtose)\")"
      ],
      "metadata": {
        "colab": {
          "base_uri": "https://localhost:8080/"
        },
        "id": "U6KtmgAW6OgA",
        "outputId": "fc91d6cc-410a-4cd1-8359-af5fb4a1c0a5"
      },
      "id": "U6KtmgAW6OgA",
      "execution_count": null,
      "outputs": [
        {
          "output_type": "stream",
          "name": "stdout",
          "text": [
            "Momento 1: 26.88976644434762\n",
            "Momento 2: 6.050110500031235 (Dispersão/variancia)\n",
            "Momento 3: -0.36258463154561416 (Assimetria/skewness)\n",
            "Momento 4: 110.66856457733246 (Curtose)\n"
          ]
        }
      ]
    },
    {
      "cell_type": "code",
      "source": [
        "# Momentos da Distribuição Empírica\n",
        "print(\"Momento 1:\", new_df['Temperatura'].mean())\n",
        "print(\"Momento 2:\", stats.moment(new_df['Temperatura'], moment=2), \"(Dispersão/variancia)\")\n",
        "print(\"Momento 3:\", stats.moment(new_df['Temperatura'], moment=3), \"(Assimetria/skewness)\")\n",
        "print(\"Momento 4:\", stats.moment(new_df['Temperatura'], moment=4), \"(Curtose)\")"
      ],
      "metadata": {
        "colab": {
          "base_uri": "https://localhost:8080/"
        },
        "id": "FPmZ9L2_X97t",
        "outputId": "3e845c82-d66e-4c27-a336-dce3a0f68c2c"
      },
      "id": "FPmZ9L2_X97t",
      "execution_count": null,
      "outputs": [
        {
          "output_type": "stream",
          "name": "stdout",
          "text": [
            "Momento 1: 26.865513407455854\n",
            "Momento 2: 6.019104330918997 (Dispersão/variancia)\n",
            "Momento 3: -0.5484174445920476 (Assimetria/skewness)\n",
            "Momento 4: 133.03677513806062 (Curtose)\n"
          ]
        }
      ]
    },
    {
      "cell_type": "code",
      "source": [
        ""
      ],
      "metadata": {
        "id": "ndSkGdkCSYS-"
      },
      "id": "ndSkGdkCSYS-",
      "execution_count": null,
      "outputs": []
    }
  ],
  "metadata": {
    "colab": {
      "name": "V1_INMEP_Análise_Descritiva.ipynb",
      "provenance": [],
      "collapsed_sections": [
        "7d1bdc54",
        "a4a5ec06",
        "v0zbKHQMuPU7",
        "7OTHHkgIyWOy",
        "wn64eMcmODCj",
        "xAqVfvRx2XA5",
        "StYbuFKQWA5Z",
        "7e208LiE9WRw",
        "5QXcFTEz9ZiD",
        "lnGD7Ovv6myM",
        "-i-T5snVgKNr"
      ]
    },
    "kernelspec": {
      "display_name": "Python 3",
      "language": "python",
      "name": "python3"
    },
    "language_info": {
      "codemirror_mode": {
        "name": "ipython",
        "version": 3
      },
      "file_extension": ".py",
      "mimetype": "text/x-python",
      "name": "python",
      "nbconvert_exporter": "python",
      "pygments_lexer": "ipython3",
      "version": "3.8.8"
    }
  },
  "nbformat": 4,
  "nbformat_minor": 5
}